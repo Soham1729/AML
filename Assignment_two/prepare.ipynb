{
 "cells": [
  {
   "cell_type": "markdown",
   "metadata": {},
   "source": [
    "# <center> Applied ML  - Assignment 2\n",
    "## <center> Soham Pyne (MDS202148) <br><br>"
   ]
  },
  {
   "cell_type": "code",
   "execution_count": 41,
   "metadata": {},
   "outputs": [],
   "source": [
    "import numpy as np\n",
    "import pandas as pd\n",
    "import matplotlib.pyplot as plt\n",
    "import seaborn as sns\n",
    "from sklearn.utils import resample\n",
    "import seaborn as sb\n",
    "from collections import Counter\n",
    "from sklearn.model_selection import train_test_split\n",
    "\n",
    "from sklearn.metrics import accuracy_score,confusion_matrix,precision_score,recall_score, f1_score"
   ]
  },
  {
   "cell_type": "code",
   "execution_count": 42,
   "metadata": {},
   "outputs": [],
   "source": [
    "filepath = '/Users/Soham/Documents/CMI-SEM-4/AML/smsspamcollection/SMSSpamCollection'"
   ]
  },
  {
   "cell_type": "code",
   "execution_count": 43,
   "metadata": {},
   "outputs": [],
   "source": [
    "raw_data =pd.read_csv(filepath, sep=\"\\t\", header=None, on_bad_lines='skip', names=[\"Classification\", \"Message\"])"
   ]
  },
  {
   "cell_type": "code",
   "execution_count": 44,
   "metadata": {},
   "outputs": [],
   "source": [
    "raw_data_filepath = '/Users/Soham/Documents/CMI-SEM-4/AML/Assignment_two/data/raw_data.csv'\n",
    "raw_data.to_csv(raw_data_filepath, index = False)"
   ]
  },
  {
   "cell_type": "code",
   "execution_count": 45,
   "metadata": {},
   "outputs": [],
   "source": [
    "def split(data, train_size = 0.7, validation_size = 0.15, test_size = 0.15, random_state = 42):\n",
    "    \n",
    "    df_int, df_test = train_test_split(data, train_size = (train_size+validation_size), test_size = test_size, random_state = random_state)\n",
    "    \n",
    "    df_train, df_validation =  train_test_split(df_int, train_size = train_size/(train_size+validation_size), test_size = validation_size/(train_size+validation_size))\n",
    "    \n",
    "    return df_train, df_validation, df_test\n",
    "\n",
    "df_train, df_validation, df_test = split(raw_data)"
   ]
  },
  {
   "cell_type": "code",
   "execution_count": 46,
   "metadata": {},
   "outputs": [],
   "source": [
    "train_filepath = '/Users/Soham/Documents/CMI-SEM-4/AML/Assignment_two/data/train.csv'\n",
    "validation_filepath = '/Users/Soham/Documents/CMI-SEM-4/AML/Assignment_two/data/validation.csv'\n",
    "test_filepath = '/Users/Soham/Documents/CMI-SEM-4/AML/Assignment_two/data/test.csv'\n",
    "\n",
    "df_train.to_csv(train_filepath, index = False)\n",
    "df_test.to_csv(test_filepath, index = False)\n",
    "df_validation.to_csv(validation_filepath, index = False)"
   ]
  },
  {
   "cell_type": "code",
   "execution_count": 47,
   "metadata": {},
   "outputs": [
    {
     "name": "stdout",
     "output_type": "stream",
     "text": [
      "raw_data.csv   test.csv       train.csv      validation.csv\n"
     ]
    }
   ],
   "source": [
    "!ls data"
   ]
  },
  {
   "cell_type": "code",
   "execution_count": 48,
   "metadata": {},
   "outputs": [
    {
     "name": "stdout",
     "output_type": "stream",
     "text": [
      "Initialized DVC repository.\n",
      "\n",
      "You can now commit the changes to git.\n",
      "\n",
      "\u001b[31m+---------------------------------------------------------------------+\n",
      "\u001b[0m\u001b[31m|\u001b[0m                                                                     \u001b[31m|\u001b[0m\n",
      "\u001b[31m|\u001b[0m        DVC has enabled anonymous aggregate usage analytics.         \u001b[31m|\u001b[0m\n",
      "\u001b[31m|\u001b[0m     Read the analytics documentation (and how to opt-out) here:     \u001b[31m|\u001b[0m\n",
      "\u001b[31m|\u001b[0m             <\u001b[36mhttps://dvc.org/doc/user-guide/analytics\u001b[39m>              \u001b[31m|\u001b[0m\n",
      "\u001b[31m|\u001b[0m                                                                     \u001b[31m|\u001b[0m\n",
      "\u001b[31m+---------------------------------------------------------------------+\n",
      "\u001b[0m\n",
      "\u001b[33mWhat's next?\u001b[39m\n",
      "\u001b[33m------------\u001b[39m\n",
      "- Check out the documentation: <\u001b[36mhttps://dvc.org/doc\u001b[39m>\n",
      "- Get help and share ideas: <\u001b[36mhttps://dvc.org/chat\u001b[39m>\n",
      "- Star us on GitHub: <\u001b[36mhttps://github.com/iterative/dvc\u001b[39m>\n",
      "\u001b[0m"
     ]
    }
   ],
   "source": [
    "!cd .. && dvc init"
   ]
  },
  {
   "cell_type": "code",
   "execution_count": 50,
   "metadata": {},
   "outputs": [
    {
     "name": "stdout",
     "output_type": "stream",
     "text": [
      "\u001b[?25l                                                                          \u001b[32m⠋\u001b[0m Checking graph\n",
      "  0% Adding...|                                      |0/3 [00:00<?,     ?file/s]\n",
      "!\u001b[A\n",
      "  0% Checking cache in '/Users/Soham/Documents/CMI-SEM-4/AML/.dvc/cache'| |0/? [\u001b[A\n",
      "                                                                                \u001b[A\n",
      "!\u001b[A\n",
      "  0%|          |Transferring                          0/? [00:00<?,     ?file/s]\u001b[A\n",
      "  0%|          |Transferring                          0/1 [00:00<?,     ?file/s]\u001b[A\n",
      "                                                                                \u001b[A\n",
      "!\u001b[A\n",
      "  0% Checking cache in '/Users/Soham/Documents/CMI-SEM-4/AML/.dvc/cache'| |0/? [\u001b[A\n",
      "                                                                                \u001b[A\n",
      "!\u001b[A\n",
      "  0%|          |Transferring                          0/? [00:00<?,     ?file/s]\u001b[A\n",
      "  0%|          |Transferring                          0/1 [00:00<?,     ?file/s]\u001b[A\n",
      "                                                                                \u001b[A\n",
      "!\u001b[A\n",
      "  0% Checking cache in '/Users/Soham/Documents/CMI-SEM-4/AML/.dvc/cache'| |0/? [\u001b[A\n",
      "                                                                                \u001b[A\n",
      "!\u001b[A\n",
      "  0%|          |Transferring                          0/? [00:00<?,     ?file/s]\u001b[A\n",
      "  0%|          |Transferring                          0/1 [00:00<?,     ?file/s]\u001b[A\n",
      "100% Adding...|████████████████████████████████████████|3/3 [00:00, 75.84file/s]\u001b[A\n",
      "\n",
      "To track the changes with git, run:\n",
      "\n",
      "\tgit add data/test.csv.dvc data/validation.csv.dvc data/.gitignore data/train.csv.dvc\n",
      "\n",
      "To enable auto staging, run:\n",
      "\n",
      "\tdvc config core.autostage true\n",
      "\u001b[0m"
     ]
    }
   ],
   "source": [
    "!dvc add data/train.csv data/test.csv data/validation.csv"
   ]
  },
  {
   "cell_type": "code",
   "execution_count": 51,
   "metadata": {},
   "outputs": [
    {
     "name": "stdout",
     "output_type": "stream",
     "text": [
      "\u001b[0m"
     ]
    }
   ],
   "source": [
    "!dvc config core.autostage true"
   ]
  },
  {
   "cell_type": "code",
   "execution_count": 59,
   "metadata": {},
   "outputs": [
    {
     "name": "stdout",
     "output_type": "stream",
     "text": [
      "Setting 'myremote' as a default remote.\n",
      "\u001b[0m"
     ]
    }
   ],
   "source": [
    "!dvc remote add -f --default myremote gdrive://10r3gfsxETmVY5u517ffB343Tfax4D765"
   ]
  },
  {
   "cell_type": "code",
   "execution_count": 60,
   "metadata": {},
   "outputs": [
    {
     "name": "stdout",
     "output_type": "stream",
     "text": [
      "\u001b[0m"
     ]
    }
   ],
   "source": [
    "!dvc remote modify myremote gdrive_acknowledge_abuse true"
   ]
  },
  {
   "cell_type": "code",
   "execution_count": 63,
   "metadata": {},
   "outputs": [
    {
     "name": "stdout",
     "output_type": "stream",
     "text": [
      "  0% Checking cache in '10r3gfsxETmVY5u517ffB343Tfax4D765'| |0/? [00:00<?,    ?f/Users/Soham/miniforge3/envs/MLEnv/lib/python3.9/site-packages/oauth2client/_helpers.py:255: UserWarning: Cannot access /Users/Soham/Library/Caches/pydrive2fs/710796635688-iivsgbgsb6uv1fap6635dhvuei09o66c.apps.googleusercontent.com/default.json: No such file or directory\n",
      "  warnings.warn(_MISSING_FILE_MESSAGE.format(filename))\n",
      "Your browser has been opened to visit:\n",
      "\n",
      "    https://accounts.google.com/o/oauth2/auth?client_id=710796635688-iivsgbgsb6uv1fap6635dhvuei09o66c.apps.googleusercontent.com&redirect_uri=http%3A%2F%2Flocalhost%3A8080%2F&scope=https%3A%2F%2Fwww.googleapis.com%2Fauth%2Fdrive+https%3A%2F%2Fwww.googleapis.com%2Fauth%2Fdrive.appdata&access_type=offline&response_type=code&approval_prompt=force\n",
      "\n",
      "Authentication successful.\n",
      "  0% Transferring|                                   |0/3 [00:00<?,     ?file/s]\n",
      "!\u001b[A\n",
      "  0%|          |/Users/Soham/Documents/CMI-SEM-4/AM0.00/? [00:00<?,        ?B/s]\u001b[A\n",
      "  0%|          |/Users/Soham/Documents/CMI-SEM-0.00/70.6k [00:00<?,        ?B/s]\u001b[A\n",
      " 33% Transferring|██████████▎                    |1/3 [00:03<00:07,  3.67s/file]\u001b[A\n",
      "                                                                                \u001b[A\n",
      "!\u001b[A\n",
      "  0%|          |/Users/Soham/Documents/CMI-SEM-4/AM0.00/? [00:00<?,        ?B/s]\u001b[A\n",
      "  0%|          |/Users/Soham/Documents/CMI-SEM-0.00/65.2k [00:00<?,        ?B/s]\u001b[A\n",
      "\n",
      "!\u001b[A\u001b[A\n",
      "\n",
      "  0%|          |/Users/Soham/Documents/CMI-SEM-4/AM0.00/? [00:00<?,        ?B/s]\u001b[A\u001b[A\n",
      "\n",
      "  0%|          |/Users/Soham/Documents/CMI-SEM-40.00/334k [00:00<?,        ?B/s]\u001b[A\u001b[A\n",
      "\n",
      "  2%|▏         |/Users/Soham/Documents/CMI-8.00k/334k [00:02<01:36,    3.45kB/s]\u001b[A\u001b[A\n",
      " 67% Transferring|████████████████████▋          |2/3 [00:07<00:03,  3.99s/file]\u001b[A\n",
      "\n",
      "100% Transferring|███████████████████████████████|3/3 [00:08<00:00,  2.59s/file]\u001b[A\u001b[A\n",
      "3 files pushed                                                                  \u001b[A\n",
      "\u001b[0m"
     ]
    }
   ],
   "source": [
    "!dvc push"
   ]
  },
  {
   "cell_type": "code",
   "execution_count": 64,
   "metadata": {},
   "outputs": [],
   "source": [
    "df_train, df_validation, df_test = split(raw_data, random_state= 1729)"
   ]
  },
  {
   "cell_type": "code",
   "execution_count": 66,
   "metadata": {},
   "outputs": [],
   "source": [
    "train_filepath = '/Users/Soham/Documents/CMI-SEM-4/AML/Assignment_two/data/train.csv'\n",
    "validation_filepath = '/Users/Soham/Documents/CMI-SEM-4/AML/Assignment_two/data/validation.csv'\n",
    "test_filepath = '/Users/Soham/Documents/CMI-SEM-4/AML/Assignment_two/data/test.csv'\n",
    "\n",
    "df_train.to_csv(train_filepath, index = False)\n",
    "df_test.to_csv(test_filepath, index = False)\n",
    "df_validation.to_csv(validation_filepath, index = False)"
   ]
  },
  {
   "cell_type": "code",
   "execution_count": 67,
   "metadata": {},
   "outputs": [
    {
     "name": "stdout",
     "output_type": "stream",
     "text": [
      "data/test.csv.dvc:                                                    core\u001b[39m>\n",
      "\tchanged outs:\n",
      "\t\tmodified:           data/test.csv\n",
      "data/train.csv.dvc:\n",
      "\tchanged outs:\n",
      "\t\tmodified:           data/train.csv\n",
      "data/validation.csv.dvc:\n",
      "\tchanged outs:\n",
      "\t\tmodified:           data/validation.csv\n",
      "\u001b[0m"
     ]
    }
   ],
   "source": [
    "!dvc status"
   ]
  },
  {
   "cell_type": "code",
   "execution_count": 70,
   "metadata": {},
   "outputs": [
    {
     "name": "stdout",
     "output_type": "stream",
     "text": [
      "  0% Transferring|                                   |0/3 [00:00<?,     ?file/s]\n",
      "!\u001b[A\n",
      "  0%|          |/Users/Soham/Documents/CMI-SEM-4/AM0.00/? [00:00<?,        ?B/s]\u001b[A\n",
      "  0%|          |/Users/Soham/Documents/CMI-SEM-0.00/70.2k [00:00<?,        ?B/s]\u001b[A\n",
      " 33% Transferring|██████████▎                    |1/3 [00:03<00:06,  3.49s/file]\u001b[A\n",
      "                                                                                \u001b[A\n",
      "!\u001b[A\n",
      "  0%|          |/Users/Soham/Documents/CMI-SEM-4/AM0.00/? [00:00<?,        ?B/s]\u001b[A\n",
      "  0%|          |/Users/Soham/Documents/CMI-SEM-40.00/329k [00:00<?,        ?B/s]\u001b[A\n",
      "\n",
      "!\u001b[A\u001b[A\n",
      "\n",
      "  0%|          |/Users/Soham/Documents/CMI-SEM-4/AM0.00/? [00:00<?,        ?B/s]\u001b[A\u001b[A\n",
      "\n",
      "  0%|          |/Users/Soham/Documents/CMI-SEM-0.00/70.4k [00:00<?,        ?B/s]\u001b[A\u001b[A\n",
      "  2%|▏         |/Users/Soham/Documents/CMI-8.00k/329k [00:02<01:30,    3.63kB/s]\u001b[A\n",
      "\n",
      " 67% Transferring|████████████████████▋          |2/3 [00:07<00:03,  3.64s/file]\u001b[A\u001b[A\n",
      "100% Transferring|███████████████████████████████|3/3 [00:07<00:00,  2.22s/file]\u001b[A\n",
      "\n",
      "3 files pushed                                                                  \u001b[A\u001b[A\n",
      "\u001b[0m"
     ]
    }
   ],
   "source": [
    "!dvc push"
   ]
  },
  {
   "cell_type": "code",
   "execution_count": 71,
   "metadata": {},
   "outputs": [
    {
     "name": "stdout",
     "output_type": "stream",
     "text": [
      "\u001b[33mcommit e312a6083a0ae95bbee4610a4dd3b6da56192436\u001b[m\u001b[33m (\u001b[m\u001b[1;36mHEAD -> \u001b[m\u001b[1;32mmain\u001b[m\u001b[33m)\u001b[m\n",
      "Author: Soham1729 <106344856+Soham1729@users.noreply.github.com>\n",
      "Date:   Mon Feb 27 23:45:16 2023 +0530\n",
      "\n",
      "    second split with random state 1729\n",
      "\n",
      "\u001b[33mcommit 0a6fcb3d60d5f29ca7559ede660975d8e8df21c3\u001b[m\n",
      "Author: Soham1729 <106344856+Soham1729@users.noreply.github.com>\n",
      "Date:   Mon Feb 27 23:36:55 2023 +0530\n",
      "\n",
      "    added gdrive link\n",
      "\n",
      "\u001b[33mcommit 3666611721bd7ba0b9c5293aefbc65b974457b03\u001b[m\u001b[33m (\u001b[m\u001b[1;31morigin/main\u001b[m\u001b[33m, \u001b[m\u001b[1;31morigin/HEAD\u001b[m\u001b[33m)\u001b[m\n",
      "Author: Soham1729 <106344856+Soham1729@users.noreply.github.com>\n",
      "Date:   Mon Feb 27 23:23:50 2023 +0530\n",
      "\n",
      "    FIrst Split 42\n",
      "\n",
      "\u001b[33mcommit d498792bb44c7d5448d88148e1a1d54c2c84789a\u001b[m\n",
      "Author: Soham1729 <106344856+Soham1729@users.noreply.github.com>\n",
      "Date:   Mon Feb 27 23:23:22 2023 +0530\n",
      "\n",
      "    DVC folder changes\n",
      "\n",
      "\u001b[33mcommit 91ceddec6db50e55df5b4719d4ec52deb57d1c29\u001b[m\n",
      "Author: Soham1729 <106344856+Soham1729@users.noreply.github.com>\n",
      "Date:   Mon Feb 27 22:56:02 2023 +0530\n",
      "\n",
      "    before split of data\n",
      "\n",
      "\u001b[33mcommit 2871de6452c61071555cb1ac8f70520b1e7d6865\u001b[m\n",
      "Author: Soham1729 <106344856+Soham1729@users.noreply.github.com>\n",
      "Date:   Mon Feb 27 22:40:21 2023 +0530\n",
      "\n",
      "    added Assignment_one folder\n",
      "\n",
      "\u001b[33mcommit 2afc0c0827fe1fd00fd517cc21429c3c738c3d56\u001b[m\n",
      "Author: Soham Pyne <106344856+Soham1729@users.noreply.github.com>\n",
      "Date:   Wed Feb 1 00:09:03 2023 +0530\n",
      "\n",
      "    Delete prepare.ipynb\n",
      "\n",
      "\u001b[33mcommit 0600a50909a61ffaab7ef5dd8723dc026f530d6c\u001b[m\n",
      "Author: Soham Pyne <106344856+Soham1729@users.noreply.github.com>\n",
      "Date:   Wed Feb 1 00:06:29 2023 +0530\n",
      "\n",
      "    Created using Colaboratory\n",
      "\n",
      "\u001b[33mcommit f151846adea2f90c46c5676a23262c7d741ac97b\u001b[m\n",
      "Author: Soham Pyne <106344856+Soham1729@users.noreply.github.com>\n",
      "Date:   Tue Jan 31 21:41:25 2023 +0530\n",
      "\n",
      "    Created using Colaboratory\n",
      "\n",
      "\u001b[33mcommit 82dbef95b8047f6d70a4b2604afdd431a9fc6f4c\u001b[m\n",
      "Author: Soham Pyne <106344856+Soham1729@users.noreply.github.com>\n",
      "Date:   Thu Jan 19 00:03:36 2023 +0530\n",
      "\n",
      "    Update README.md\n",
      "\n",
      "\u001b[33mcommit 70b2d340ed22c59136da78f3aa3b759bf5c0ca18\u001b[m\n",
      "Author: Soham Pyne <106344856+Soham1729@users.noreply.github.com>\n",
      "Date:   Thu Jan 19 00:03:10 2023 +0530\n",
      "\n",
      "    Update README.md\n",
      "\n",
      "\u001b[33mcommit 57378b484168e4edb417c76b120b61c85019f5ae\u001b[m\n",
      "Author: Soham Pyne <106344856+Soham1729@users.noreply.github.com>\n",
      "Date:   Thu Jan 19 00:01:27 2023 +0530\n",
      "\n",
      "    Initial commit\n"
     ]
    }
   ],
   "source": [
    "!git log"
   ]
  },
  {
   "cell_type": "code",
   "execution_count": 72,
   "metadata": {},
   "outputs": [
    {
     "name": "stdout",
     "output_type": "stream",
     "text": [
      "M\tAssignment_two/prepare.ipynb\n",
      "Note: switching to '3666611721bd7ba0b9c5293aefbc65b974457b03'.\n",
      "\n",
      "You are in 'detached HEAD' state. You can look around, make experimental\n",
      "changes and commit them, and you can discard any commits you make in this\n",
      "state without impacting any branches by switching back to a branch.\n",
      "\n",
      "If you want to create a new branch to retain commits you create, you may\n",
      "do so (now or later) by using -c with the switch command. Example:\n",
      "\n",
      "  git switch -c <new-branch-name>\n",
      "\n",
      "Or undo this operation with:\n",
      "\n",
      "  git switch -\n",
      "\n",
      "Turn off this advice by setting config variable advice.detachedHead to false\n",
      "\n",
      "HEAD is now at 3666611 FIrst Split 42\n"
     ]
    }
   ],
   "source": [
    "!git checkout 3666611721bd7ba0b9c5293aefbc65b974457b03"
   ]
  },
  {
   "cell_type": "code",
   "execution_count": 73,
   "metadata": {},
   "outputs": [
    {
     "name": "stdout",
     "output_type": "stream",
     "text": [
      "\u001b[33mM\u001b[0m       data/train.csv                                                 \n",
      "\u001b[33mM\u001b[0m       data/validation.csv\n",
      "\u001b[33mM\u001b[0m       data/test.csv\n",
      "\u001b[0m"
     ]
    }
   ],
   "source": [
    "!dvc checkout "
   ]
  },
  {
   "cell_type": "code",
   "execution_count": 74,
   "metadata": {},
   "outputs": [],
   "source": [
    "df_train = pd.read_csv(train_filepath)\n",
    "df_validation = pd.read_csv(validation_filepath)\n",
    "df_test = pd.read_csv(test_filepath)"
   ]
  },
  {
   "cell_type": "code",
   "execution_count": 75,
   "metadata": {},
   "outputs": [],
   "source": [
    "classify =  {'ham': 1,'spam': 0}\n",
    "df_train.Classification = [classify[item] for item in df_train.Classification]\n",
    "df_validation.Classification = [classify[item] for item in df_validation.Classification]\n",
    "df_test.Classification = [classify[item] for item in df_test.Classification]"
   ]
  },
  {
   "cell_type": "code",
   "execution_count": 77,
   "metadata": {},
   "outputs": [
    {
     "data": {
      "text/plain": [
       "(1    3360\n",
       " 0     540\n",
       " Name: Classification, dtype: int64,\n",
       " 1    736\n",
       " 0    100\n",
       " Name: Classification, dtype: int64,\n",
       " 1    729\n",
       " 0    107\n",
       " Name: Classification, dtype: int64)"
      ]
     },
     "execution_count": 77,
     "metadata": {},
     "output_type": "execute_result"
    }
   ],
   "source": [
    "df_train['Classification'].value_counts(),df_validation['Classification'].value_counts(),df_test['Classification'].value_counts()"
   ]
  },
  {
   "cell_type": "code",
   "execution_count": 78,
   "metadata": {},
   "outputs": [
    {
     "name": "stdout",
     "output_type": "stream",
     "text": [
      "M\tAssignment_two/prepare.ipynb\n",
      "Previous HEAD position was 3666611 FIrst Split 42\n",
      "HEAD is now at e312a60 second split with random state 1729\n"
     ]
    }
   ],
   "source": [
    "!git checkout e312a6083a0ae95bbee4610a4dd3b6da56192436"
   ]
  },
  {
   "cell_type": "code",
   "execution_count": 79,
   "metadata": {},
   "outputs": [
    {
     "name": "stdout",
     "output_type": "stream",
     "text": [
      "\u001b[33mM\u001b[0m       data/test.csv                                                  \n",
      "\u001b[33mM\u001b[0m       data/train.csv\n",
      "\u001b[33mM\u001b[0m       data/validation.csv\n",
      "\u001b[0m"
     ]
    }
   ],
   "source": [
    "!dvc checkout "
   ]
  },
  {
   "cell_type": "code",
   "execution_count": 80,
   "metadata": {},
   "outputs": [],
   "source": [
    "df_train = pd.read_csv(train_filepath)\n",
    "df_validation = pd.read_csv(validation_filepath)\n",
    "df_test = pd.read_csv(test_filepath)"
   ]
  },
  {
   "cell_type": "code",
   "execution_count": 81,
   "metadata": {},
   "outputs": [],
   "source": [
    "classify =  {'ham': 1,'spam': 0}\n",
    "df_train.Classification = [classify[item] for item in df_train.Classification]\n",
    "df_validation.Classification = [classify[item] for item in df_validation.Classification]\n",
    "df_test.Classification = [classify[item] for item in df_test.Classification]"
   ]
  },
  {
   "cell_type": "code",
   "execution_count": 82,
   "metadata": {},
   "outputs": [
    {
     "data": {
      "text/plain": [
       "(1    3400\n",
       " 0     500\n",
       " Name: Classification, dtype: int64,\n",
       " 1    721\n",
       " 0    115\n",
       " Name: Classification, dtype: int64,\n",
       " 1    704\n",
       " 0    132\n",
       " Name: Classification, dtype: int64)"
      ]
     },
     "execution_count": 82,
     "metadata": {},
     "output_type": "execute_result"
    }
   ],
   "source": [
    "df_train['Classification'].value_counts(),df_validation['Classification'].value_counts(),df_test['Classification'].value_counts()"
   ]
  }
 ],
 "metadata": {
  "interpreter": {
   "hash": "145272517bddf6c1595b5c05b017fa375f010a8c8523682c34f84359a8aa7b70"
  },
  "kernelspec": {
   "display_name": "Python 3.9.13",
   "language": "python",
   "name": "python3"
  },
  "language_info": {
   "codemirror_mode": {
    "name": "ipython",
    "version": 3
   },
   "file_extension": ".py",
   "mimetype": "text/x-python",
   "name": "python",
   "nbconvert_exporter": "python",
   "pygments_lexer": "ipython3",
   "version": "3.9.13"
  },
  "orig_nbformat": 4
 },
 "nbformat": 4,
 "nbformat_minor": 2
}
