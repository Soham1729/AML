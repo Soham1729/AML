{
 "cells": [
  {
   "cell_type": "markdown",
   "metadata": {},
   "source": [
    "# <center> Applied ML  - Assignment 2\n",
    "## <center> Soham Pyne (MDS202148) <br><br>"
   ]
  },
  {
   "cell_type": "code",
   "execution_count": 10,
   "metadata": {},
   "outputs": [],
   "source": [
    "import mlflow\n",
    "# import mlflow.sklearn\n",
    "import pandas as pd\n",
    "from sklearn.feature_extraction.text import TfidfVectorizer\n",
    "from sklearn.metrics import accuracy_score\n",
    "from sklearn.tree import DecisionTreeClassifier\n",
    "from sklearn.linear_model import LogisticRegression\n",
    "from sklearn.naive_bayes import GaussianNB,MultinomialNB,BernoulliNB"
   ]
  },
  {
   "cell_type": "code",
   "execution_count": 2,
   "metadata": {},
   "outputs": [],
   "source": [
    "train_filepath = '/Users/Soham/Documents/CMI-SEM-4/AML/Assignment_two/data/train.csv'\n",
    "validation_filepath = '/Users/Soham/Documents/CMI-SEM-4/AML/Assignment_two/data/validation.csv'\n",
    "test_filepath = '/Users/Soham/Documents/CMI-SEM-4/AML/Assignment_two/data/test.csv'"
   ]
  },
  {
   "cell_type": "code",
   "execution_count": 3,
   "metadata": {},
   "outputs": [],
   "source": [
    "df_train = pd.read_csv(train_filepath)\n",
    "df_validation = pd.read_csv(validation_filepath)\n",
    "df_test = pd.read_csv(test_filepath)"
   ]
  },
  {
   "cell_type": "code",
   "execution_count": 4,
   "metadata": {},
   "outputs": [],
   "source": [
    "classify =  {'ham': 1,'spam': 0}\n",
    "df_train.Classification = [classify[item] for item in df_train.Classification]\n",
    "df_validation.Classification = [classify[item] for item in df_validation.Classification]\n",
    "df_test.Classification = [classify[item] for item in df_test.Classification]"
   ]
  },
  {
   "cell_type": "code",
   "execution_count": 5,
   "metadata": {},
   "outputs": [],
   "source": [
    "X_train = df_train['Message']\n",
    "Y_train = df_train['Classification']\n",
    "X_test = df_test['Message']\n",
    "Y_test = df_test['Classification']\n",
    "vectorization = TfidfVectorizer()\n",
    "xv_train = vectorization.fit_transform(X_train)\n",
    "xv_test = vectorization.transform(X_test)"
   ]
  },
  {
   "cell_type": "code",
   "execution_count": 9,
   "metadata": {},
   "outputs": [],
   "source": [
    "# EXPERIMENT_NAMES = [\"Decision Tree classifier\", \"Logistic Regression classifier\", \"Naive Bayes classifier\"]\n",
    "# EXPERIMENT_IDs = []\n",
    "\n",
    "# for i in EXPERIMENT_NAMES:  \n",
    "#     EXPERIMENT_IDs.append(mlflow.create_experiment(i))"
   ]
  },
  {
   "cell_type": "markdown",
   "metadata": {},
   "source": [
    "## Decision Tree Classifier using MLFlow"
   ]
  },
  {
   "cell_type": "code",
   "execution_count": 17,
   "metadata": {},
   "outputs": [
    {
     "ename": "MlflowException",
     "evalue": "Experiment 'Decision Tree classifier' already exists in deleted state. You can restore the experiment, or permanently delete the experiment from the .trash folder (under tracking server's root folder) in order to use this experiment name again.",
     "output_type": "error",
     "traceback": [
      "\u001b[0;31m---------------------------------------------------------------------------\u001b[0m",
      "\u001b[0;31mMlflowException\u001b[0m                           Traceback (most recent call last)",
      "Cell \u001b[0;32mIn[17], line 2\u001b[0m\n\u001b[1;32m      1\u001b[0m EXPERIMENT_NAME \u001b[38;5;241m=\u001b[39m \u001b[38;5;124m\"\u001b[39m\u001b[38;5;124mDecision Tree classifier\u001b[39m\u001b[38;5;124m\"\u001b[39m\n\u001b[0;32m----> 2\u001b[0m EXPERIMENT_ID \u001b[38;5;241m=\u001b[39m \u001b[43mmlflow\u001b[49m\u001b[38;5;241;43m.\u001b[39;49m\u001b[43mcreate_experiment\u001b[49m\u001b[43m(\u001b[49m\u001b[43mEXPERIMENT_NAME\u001b[49m\u001b[43m)\u001b[49m\n\u001b[1;32m      4\u001b[0m \u001b[38;5;28;01mfor\u001b[39;00m idx, depth \u001b[38;5;129;01min\u001b[39;00m \u001b[38;5;28menumerate\u001b[39m([\u001b[38;5;241m1\u001b[39m, \u001b[38;5;241m2\u001b[39m, \u001b[38;5;241m5\u001b[39m, \u001b[38;5;241m10\u001b[39m, \u001b[38;5;241m20\u001b[39m, \u001b[38;5;241m50\u001b[39m]):\n\u001b[1;32m      5\u001b[0m     clf \u001b[38;5;241m=\u001b[39m DecisionTreeClassifier(max_depth\u001b[38;5;241m=\u001b[39mdepth)\n",
      "File \u001b[0;32m~/miniforge3/envs/MLEnv/lib/python3.9/site-packages/mlflow/tracking/fluent.py:872\u001b[0m, in \u001b[0;36mcreate_experiment\u001b[0;34m(name, artifact_location)\u001b[0m\n\u001b[1;32m    <a href='file:///Users/Soham/miniforge3/envs/MLEnv/lib/python3.9/site-packages/mlflow/tracking/fluent.py?line=839'>840</a>\u001b[0m \u001b[39mdef\u001b[39;00m \u001b[39mcreate_experiment\u001b[39m(name: \u001b[39mstr\u001b[39m, artifact_location: Optional[\u001b[39mstr\u001b[39m] \u001b[39m=\u001b[39m \u001b[39mNone\u001b[39;00m) \u001b[39m-\u001b[39m\u001b[39m>\u001b[39m \u001b[39mstr\u001b[39m:\n\u001b[1;32m    <a href='file:///Users/Soham/miniforge3/envs/MLEnv/lib/python3.9/site-packages/mlflow/tracking/fluent.py?line=840'>841</a>\u001b[0m \u001b[39m    \u001b[39m\u001b[39m\"\"\"\u001b[39;00m\n\u001b[1;32m    <a href='file:///Users/Soham/miniforge3/envs/MLEnv/lib/python3.9/site-packages/mlflow/tracking/fluent.py?line=841'>842</a>\u001b[0m \u001b[39m    Create an experiment.\u001b[39;00m\n\u001b[1;32m    <a href='file:///Users/Soham/miniforge3/envs/MLEnv/lib/python3.9/site-packages/mlflow/tracking/fluent.py?line=842'>843</a>\u001b[0m \n\u001b[0;32m   (...)\u001b[0m\n\u001b[1;32m    <a href='file:///Users/Soham/miniforge3/envs/MLEnv/lib/python3.9/site-packages/mlflow/tracking/fluent.py?line=869'>870</a>\u001b[0m \u001b[39m        Lifecycle_stage: active\u001b[39;00m\n\u001b[1;32m    <a href='file:///Users/Soham/miniforge3/envs/MLEnv/lib/python3.9/site-packages/mlflow/tracking/fluent.py?line=870'>871</a>\u001b[0m \u001b[39m    \"\"\"\u001b[39;00m\n\u001b[0;32m--> <a href='file:///Users/Soham/miniforge3/envs/MLEnv/lib/python3.9/site-packages/mlflow/tracking/fluent.py?line=871'>872</a>\u001b[0m     \u001b[39mreturn\u001b[39;00m MlflowClient()\u001b[39m.\u001b[39;49mcreate_experiment(name, artifact_location)\n",
      "File \u001b[0;32m~/miniforge3/envs/MLEnv/lib/python3.9/site-packages/mlflow/tracking/client.py:499\u001b[0m, in \u001b[0;36mMlflowClient.create_experiment\u001b[0;34m(self, name, artifact_location)\u001b[0m\n\u001b[1;32m    <a href='file:///Users/Soham/miniforge3/envs/MLEnv/lib/python3.9/site-packages/mlflow/tracking/client.py?line=463'>464</a>\u001b[0m \u001b[39mdef\u001b[39;00m \u001b[39mcreate_experiment\u001b[39m(\u001b[39mself\u001b[39m, name: \u001b[39mstr\u001b[39m, artifact_location: Optional[\u001b[39mstr\u001b[39m] \u001b[39m=\u001b[39m \u001b[39mNone\u001b[39;00m) \u001b[39m-\u001b[39m\u001b[39m>\u001b[39m \u001b[39mstr\u001b[39m:\n\u001b[1;32m    <a href='file:///Users/Soham/miniforge3/envs/MLEnv/lib/python3.9/site-packages/mlflow/tracking/client.py?line=464'>465</a>\u001b[0m \u001b[39m    \u001b[39m\u001b[39m\"\"\"Create an experiment.\u001b[39;00m\n\u001b[1;32m    <a href='file:///Users/Soham/miniforge3/envs/MLEnv/lib/python3.9/site-packages/mlflow/tracking/client.py?line=465'>466</a>\u001b[0m \n\u001b[1;32m    <a href='file:///Users/Soham/miniforge3/envs/MLEnv/lib/python3.9/site-packages/mlflow/tracking/client.py?line=466'>467</a>\u001b[0m \u001b[39m    :param name: The experiment name. Must be unique.\u001b[39;00m\n\u001b[0;32m   (...)\u001b[0m\n\u001b[1;32m    <a href='file:///Users/Soham/miniforge3/envs/MLEnv/lib/python3.9/site-packages/mlflow/tracking/client.py?line=496'>497</a>\u001b[0m \u001b[39m        Lifecycle_stage: active\u001b[39;00m\n\u001b[1;32m    <a href='file:///Users/Soham/miniforge3/envs/MLEnv/lib/python3.9/site-packages/mlflow/tracking/client.py?line=497'>498</a>\u001b[0m \u001b[39m    \"\"\"\u001b[39;00m\n\u001b[0;32m--> <a href='file:///Users/Soham/miniforge3/envs/MLEnv/lib/python3.9/site-packages/mlflow/tracking/client.py?line=498'>499</a>\u001b[0m     \u001b[39mreturn\u001b[39;00m \u001b[39mself\u001b[39;49m\u001b[39m.\u001b[39;49m_tracking_client\u001b[39m.\u001b[39;49mcreate_experiment(name, artifact_location)\n",
      "File \u001b[0;32m~/miniforge3/envs/MLEnv/lib/python3.9/site-packages/mlflow/tracking/_tracking_service/client.py:175\u001b[0m, in \u001b[0;36mTrackingServiceClient.create_experiment\u001b[0;34m(self, name, artifact_location)\u001b[0m\n\u001b[1;32m    <a href='file:///Users/Soham/miniforge3/envs/MLEnv/lib/python3.9/site-packages/mlflow/tracking/_tracking_service/client.py?line=172'>173</a>\u001b[0m _validate_experiment_name(name)\n\u001b[1;32m    <a href='file:///Users/Soham/miniforge3/envs/MLEnv/lib/python3.9/site-packages/mlflow/tracking/_tracking_service/client.py?line=173'>174</a>\u001b[0m _validate_experiment_artifact_location(artifact_location)\n\u001b[0;32m--> <a href='file:///Users/Soham/miniforge3/envs/MLEnv/lib/python3.9/site-packages/mlflow/tracking/_tracking_service/client.py?line=174'>175</a>\u001b[0m \u001b[39mreturn\u001b[39;00m \u001b[39mself\u001b[39;49m\u001b[39m.\u001b[39;49mstore\u001b[39m.\u001b[39;49mcreate_experiment(name\u001b[39m=\u001b[39;49mname, artifact_location\u001b[39m=\u001b[39;49martifact_location,)\n",
      "File \u001b[0;32m~/miniforge3/envs/MLEnv/lib/python3.9/site-packages/mlflow/store/tracking/file_store.py:313\u001b[0m, in \u001b[0;36mFileStore.create_experiment\u001b[0;34m(self, name, artifact_location)\u001b[0m\n\u001b[1;32m    <a href='file:///Users/Soham/miniforge3/envs/MLEnv/lib/python3.9/site-packages/mlflow/store/tracking/file_store.py?line=310'>311</a>\u001b[0m \u001b[39mdef\u001b[39;00m \u001b[39mcreate_experiment\u001b[39m(\u001b[39mself\u001b[39m, name, artifact_location\u001b[39m=\u001b[39m\u001b[39mNone\u001b[39;00m):\n\u001b[1;32m    <a href='file:///Users/Soham/miniforge3/envs/MLEnv/lib/python3.9/site-packages/mlflow/store/tracking/file_store.py?line=311'>312</a>\u001b[0m     \u001b[39mself\u001b[39m\u001b[39m.\u001b[39m_check_root_dir()\n\u001b[0;32m--> <a href='file:///Users/Soham/miniforge3/envs/MLEnv/lib/python3.9/site-packages/mlflow/store/tracking/file_store.py?line=312'>313</a>\u001b[0m     \u001b[39mself\u001b[39;49m\u001b[39m.\u001b[39;49m_validate_experiment_name(name)\n\u001b[1;32m    <a href='file:///Users/Soham/miniforge3/envs/MLEnv/lib/python3.9/site-packages/mlflow/store/tracking/file_store.py?line=313'>314</a>\u001b[0m     \u001b[39m# Get all existing experiments and find the one with largest numerical ID.\u001b[39;00m\n\u001b[1;32m    <a href='file:///Users/Soham/miniforge3/envs/MLEnv/lib/python3.9/site-packages/mlflow/store/tracking/file_store.py?line=314'>315</a>\u001b[0m     \u001b[39m# len(list_all(..)) would not work when experiments are deleted.\u001b[39;00m\n\u001b[1;32m    <a href='file:///Users/Soham/miniforge3/envs/MLEnv/lib/python3.9/site-packages/mlflow/store/tracking/file_store.py?line=315'>316</a>\u001b[0m     experiments_ids \u001b[39m=\u001b[39m [\n\u001b[1;32m    <a href='file:///Users/Soham/miniforge3/envs/MLEnv/lib/python3.9/site-packages/mlflow/store/tracking/file_store.py?line=316'>317</a>\u001b[0m         \u001b[39mint\u001b[39m(e\u001b[39m.\u001b[39mexperiment_id)\n\u001b[1;32m    <a href='file:///Users/Soham/miniforge3/envs/MLEnv/lib/python3.9/site-packages/mlflow/store/tracking/file_store.py?line=317'>318</a>\u001b[0m         \u001b[39mfor\u001b[39;00m e \u001b[39min\u001b[39;00m \u001b[39mself\u001b[39m\u001b[39m.\u001b[39mlist_experiments(ViewType\u001b[39m.\u001b[39mALL)\n\u001b[1;32m    <a href='file:///Users/Soham/miniforge3/envs/MLEnv/lib/python3.9/site-packages/mlflow/store/tracking/file_store.py?line=318'>319</a>\u001b[0m         \u001b[39mif\u001b[39;00m e\u001b[39m.\u001b[39mexperiment_id\u001b[39m.\u001b[39misdigit()\n\u001b[1;32m    <a href='file:///Users/Soham/miniforge3/envs/MLEnv/lib/python3.9/site-packages/mlflow/store/tracking/file_store.py?line=319'>320</a>\u001b[0m     ]\n",
      "File \u001b[0;32m~/miniforge3/envs/MLEnv/lib/python3.9/site-packages/mlflow/store/tracking/file_store.py:298\u001b[0m, in \u001b[0;36mFileStore._validate_experiment_name\u001b[0;34m(self, name)\u001b[0m\n\u001b[1;32m    <a href='file:///Users/Soham/miniforge3/envs/MLEnv/lib/python3.9/site-packages/mlflow/store/tracking/file_store.py?line=295'>296</a>\u001b[0m \u001b[39mif\u001b[39;00m experiment \u001b[39mis\u001b[39;00m \u001b[39mnot\u001b[39;00m \u001b[39mNone\u001b[39;00m:\n\u001b[1;32m    <a href='file:///Users/Soham/miniforge3/envs/MLEnv/lib/python3.9/site-packages/mlflow/store/tracking/file_store.py?line=296'>297</a>\u001b[0m     \u001b[39mif\u001b[39;00m experiment\u001b[39m.\u001b[39mlifecycle_stage \u001b[39m==\u001b[39m LifecycleStage\u001b[39m.\u001b[39mDELETED:\n\u001b[0;32m--> <a href='file:///Users/Soham/miniforge3/envs/MLEnv/lib/python3.9/site-packages/mlflow/store/tracking/file_store.py?line=297'>298</a>\u001b[0m         \u001b[39mraise\u001b[39;00m MlflowException(\n\u001b[1;32m    <a href='file:///Users/Soham/miniforge3/envs/MLEnv/lib/python3.9/site-packages/mlflow/store/tracking/file_store.py?line=298'>299</a>\u001b[0m             \u001b[39m\"\u001b[39m\u001b[39mExperiment \u001b[39m\u001b[39m'\u001b[39m\u001b[39m%s\u001b[39;00m\u001b[39m'\u001b[39m\u001b[39m already exists in deleted state. \u001b[39m\u001b[39m\"\u001b[39m\n\u001b[1;32m    <a href='file:///Users/Soham/miniforge3/envs/MLEnv/lib/python3.9/site-packages/mlflow/store/tracking/file_store.py?line=299'>300</a>\u001b[0m             \u001b[39m\"\u001b[39m\u001b[39mYou can restore the experiment, or permanently delete the experiment \u001b[39m\u001b[39m\"\u001b[39m\n\u001b[1;32m    <a href='file:///Users/Soham/miniforge3/envs/MLEnv/lib/python3.9/site-packages/mlflow/store/tracking/file_store.py?line=300'>301</a>\u001b[0m             \u001b[39m\"\u001b[39m\u001b[39mfrom the .trash folder (under tracking server\u001b[39m\u001b[39m'\u001b[39m\u001b[39ms root folder) in order to \u001b[39m\u001b[39m\"\u001b[39m\n\u001b[1;32m    <a href='file:///Users/Soham/miniforge3/envs/MLEnv/lib/python3.9/site-packages/mlflow/store/tracking/file_store.py?line=301'>302</a>\u001b[0m             \u001b[39m\"\u001b[39m\u001b[39muse this experiment name again.\u001b[39m\u001b[39m\"\u001b[39m \u001b[39m%\u001b[39m experiment\u001b[39m.\u001b[39mname,\n\u001b[1;32m    <a href='file:///Users/Soham/miniforge3/envs/MLEnv/lib/python3.9/site-packages/mlflow/store/tracking/file_store.py?line=302'>303</a>\u001b[0m             databricks_pb2\u001b[39m.\u001b[39mRESOURCE_ALREADY_EXISTS,\n\u001b[1;32m    <a href='file:///Users/Soham/miniforge3/envs/MLEnv/lib/python3.9/site-packages/mlflow/store/tracking/file_store.py?line=303'>304</a>\u001b[0m         )\n\u001b[1;32m    <a href='file:///Users/Soham/miniforge3/envs/MLEnv/lib/python3.9/site-packages/mlflow/store/tracking/file_store.py?line=304'>305</a>\u001b[0m     \u001b[39melse\u001b[39;00m:\n\u001b[1;32m    <a href='file:///Users/Soham/miniforge3/envs/MLEnv/lib/python3.9/site-packages/mlflow/store/tracking/file_store.py?line=305'>306</a>\u001b[0m         \u001b[39mraise\u001b[39;00m MlflowException(\n\u001b[1;32m    <a href='file:///Users/Soham/miniforge3/envs/MLEnv/lib/python3.9/site-packages/mlflow/store/tracking/file_store.py?line=306'>307</a>\u001b[0m             \u001b[39m\"\u001b[39m\u001b[39mExperiment \u001b[39m\u001b[39m'\u001b[39m\u001b[39m%s\u001b[39;00m\u001b[39m'\u001b[39m\u001b[39m already exists.\u001b[39m\u001b[39m\"\u001b[39m \u001b[39m%\u001b[39m experiment\u001b[39m.\u001b[39mname,\n\u001b[1;32m    <a href='file:///Users/Soham/miniforge3/envs/MLEnv/lib/python3.9/site-packages/mlflow/store/tracking/file_store.py?line=307'>308</a>\u001b[0m             databricks_pb2\u001b[39m.\u001b[39mRESOURCE_ALREADY_EXISTS,\n\u001b[1;32m    <a href='file:///Users/Soham/miniforge3/envs/MLEnv/lib/python3.9/site-packages/mlflow/store/tracking/file_store.py?line=308'>309</a>\u001b[0m         )\n",
      "\u001b[0;31mMlflowException\u001b[0m: Experiment 'Decision Tree classifier' already exists in deleted state. You can restore the experiment, or permanently delete the experiment from the .trash folder (under tracking server's root folder) in order to use this experiment name again."
     ]
    }
   ],
   "source": [
    "EXPERIMENT_NAME = \"Decision Tree classifier\"\n",
    "EXPERIMENT_ID = mlflow.create_experiment(EXPERIMENT_NAME)\n",
    "\n",
    "for idx, depth in enumerate([1, 2, 5, 10, 20, 50]):\n",
    "    clf = DecisionTreeClassifier(max_depth=depth)\n",
    "    clf.fit(xv_train, Y_train)\n",
    "    y_pred = clf.predict(xv_test)\n",
    "    accuracy = accuracy_score(Y_test, y_pred)\n",
    "    \n",
    "    # Start MLflow\n",
    "    RUN_NAME = f\"run_{idx}\"\n",
    "    with mlflow.start_run(experiment_id = EXPERIMENT_ID, run_name=RUN_NAME) as run:\n",
    "        # Retrieve run id\n",
    "        RUN_ID = run.info.run_id\n",
    "\n",
    "        # Track parameters\n",
    "        mlflow.log_param(\"depth\", depth)\n",
    "\n",
    "        # Track metrics\n",
    "        mlflow.log_metric(\"accuracy\", accuracy)\n",
    "\n",
    "        # Track model\n",
    "        mlflow.sklearn.log_model(clf, \"classifier\")"
   ]
  },
  {
   "cell_type": "code",
   "execution_count": 18,
   "metadata": {},
   "outputs": [
    {
     "ename": "MlflowException",
     "evalue": "Could not find experiment with ID 9",
     "output_type": "error",
     "traceback": [
      "\u001b[0;31m---------------------------------------------------------------------------\u001b[0m",
      "\u001b[0;31mMlflowException\u001b[0m                           Traceback (most recent call last)",
      "Cell \u001b[0;32mIn[18], line 1\u001b[0m\n\u001b[0;32m----> 1\u001b[0m \u001b[43mmlflow\u001b[49m\u001b[38;5;241;43m.\u001b[39;49m\u001b[43mdelete_experiment\u001b[49m\u001b[43m(\u001b[49m\u001b[43mEXPERIMENT_ID\u001b[49m\u001b[43m)\u001b[49m\n",
      "File \u001b[0;32m~/miniforge3/envs/MLEnv/lib/python3.9/site-packages/mlflow/tracking/fluent.py:902\u001b[0m, in \u001b[0;36mdelete_experiment\u001b[0;34m(experiment_id)\u001b[0m\n\u001b[1;32m    <a href='file:///Users/Soham/miniforge3/envs/MLEnv/lib/python3.9/site-packages/mlflow/tracking/fluent.py?line=874'>875</a>\u001b[0m \u001b[39mdef\u001b[39;00m \u001b[39mdelete_experiment\u001b[39m(experiment_id: \u001b[39mstr\u001b[39m) \u001b[39m-\u001b[39m\u001b[39m>\u001b[39m \u001b[39mNone\u001b[39;00m:\n\u001b[1;32m    <a href='file:///Users/Soham/miniforge3/envs/MLEnv/lib/python3.9/site-packages/mlflow/tracking/fluent.py?line=875'>876</a>\u001b[0m \u001b[39m    \u001b[39m\u001b[39m\"\"\"\u001b[39;00m\n\u001b[1;32m    <a href='file:///Users/Soham/miniforge3/envs/MLEnv/lib/python3.9/site-packages/mlflow/tracking/fluent.py?line=876'>877</a>\u001b[0m \u001b[39m    Delete an experiment from the backend store.\u001b[39;00m\n\u001b[1;32m    <a href='file:///Users/Soham/miniforge3/envs/MLEnv/lib/python3.9/site-packages/mlflow/tracking/fluent.py?line=877'>878</a>\u001b[0m \n\u001b[0;32m   (...)\u001b[0m\n\u001b[1;32m    <a href='file:///Users/Soham/miniforge3/envs/MLEnv/lib/python3.9/site-packages/mlflow/tracking/fluent.py?line=899'>900</a>\u001b[0m \u001b[39m        Lifecycle_stage: deleted\u001b[39;00m\n\u001b[1;32m    <a href='file:///Users/Soham/miniforge3/envs/MLEnv/lib/python3.9/site-packages/mlflow/tracking/fluent.py?line=900'>901</a>\u001b[0m \u001b[39m    \"\"\"\u001b[39;00m\n\u001b[0;32m--> <a href='file:///Users/Soham/miniforge3/envs/MLEnv/lib/python3.9/site-packages/mlflow/tracking/fluent.py?line=901'>902</a>\u001b[0m     MlflowClient()\u001b[39m.\u001b[39;49mdelete_experiment(experiment_id)\n",
      "File \u001b[0;32m~/miniforge3/envs/MLEnv/lib/python3.9/site-packages/mlflow/tracking/client.py:530\u001b[0m, in \u001b[0;36mMlflowClient.delete_experiment\u001b[0;34m(self, experiment_id)\u001b[0m\n\u001b[1;32m    <a href='file:///Users/Soham/miniforge3/envs/MLEnv/lib/python3.9/site-packages/mlflow/tracking/client.py?line=500'>501</a>\u001b[0m \u001b[39mdef\u001b[39;00m \u001b[39mdelete_experiment\u001b[39m(\u001b[39mself\u001b[39m, experiment_id: \u001b[39mstr\u001b[39m) \u001b[39m-\u001b[39m\u001b[39m>\u001b[39m \u001b[39mNone\u001b[39;00m:\n\u001b[1;32m    <a href='file:///Users/Soham/miniforge3/envs/MLEnv/lib/python3.9/site-packages/mlflow/tracking/client.py?line=501'>502</a>\u001b[0m \u001b[39m    \u001b[39m\u001b[39m\"\"\"\u001b[39;00m\n\u001b[1;32m    <a href='file:///Users/Soham/miniforge3/envs/MLEnv/lib/python3.9/site-packages/mlflow/tracking/client.py?line=502'>503</a>\u001b[0m \u001b[39m    Delete an experiment from the backend store.\u001b[39;00m\n\u001b[1;32m    <a href='file:///Users/Soham/miniforge3/envs/MLEnv/lib/python3.9/site-packages/mlflow/tracking/client.py?line=503'>504</a>\u001b[0m \n\u001b[0;32m   (...)\u001b[0m\n\u001b[1;32m    <a href='file:///Users/Soham/miniforge3/envs/MLEnv/lib/python3.9/site-packages/mlflow/tracking/client.py?line=527'>528</a>\u001b[0m \u001b[39m        Lifecycle_stage: deleted\u001b[39;00m\n\u001b[1;32m    <a href='file:///Users/Soham/miniforge3/envs/MLEnv/lib/python3.9/site-packages/mlflow/tracking/client.py?line=528'>529</a>\u001b[0m \u001b[39m    \"\"\"\u001b[39;00m\n\u001b[0;32m--> <a href='file:///Users/Soham/miniforge3/envs/MLEnv/lib/python3.9/site-packages/mlflow/tracking/client.py?line=529'>530</a>\u001b[0m     \u001b[39mself\u001b[39;49m\u001b[39m.\u001b[39;49m_tracking_client\u001b[39m.\u001b[39;49mdelete_experiment(experiment_id)\n",
      "File \u001b[0;32m~/miniforge3/envs/MLEnv/lib/python3.9/site-packages/mlflow/tracking/_tracking_service/client.py:183\u001b[0m, in \u001b[0;36mTrackingServiceClient.delete_experiment\u001b[0;34m(self, experiment_id)\u001b[0m\n\u001b[1;32m    <a href='file:///Users/Soham/miniforge3/envs/MLEnv/lib/python3.9/site-packages/mlflow/tracking/_tracking_service/client.py?line=176'>177</a>\u001b[0m \u001b[39mdef\u001b[39;00m \u001b[39mdelete_experiment\u001b[39m(\u001b[39mself\u001b[39m, experiment_id):\n\u001b[1;32m    <a href='file:///Users/Soham/miniforge3/envs/MLEnv/lib/python3.9/site-packages/mlflow/tracking/_tracking_service/client.py?line=177'>178</a>\u001b[0m \u001b[39m    \u001b[39m\u001b[39m\"\"\"\u001b[39;00m\n\u001b[1;32m    <a href='file:///Users/Soham/miniforge3/envs/MLEnv/lib/python3.9/site-packages/mlflow/tracking/_tracking_service/client.py?line=178'>179</a>\u001b[0m \u001b[39m    Delete an experiment from the backend store.\u001b[39;00m\n\u001b[1;32m    <a href='file:///Users/Soham/miniforge3/envs/MLEnv/lib/python3.9/site-packages/mlflow/tracking/_tracking_service/client.py?line=179'>180</a>\u001b[0m \n\u001b[1;32m    <a href='file:///Users/Soham/miniforge3/envs/MLEnv/lib/python3.9/site-packages/mlflow/tracking/_tracking_service/client.py?line=180'>181</a>\u001b[0m \u001b[39m    :param experiment_id: The experiment ID returned from ``create_experiment``.\u001b[39;00m\n\u001b[1;32m    <a href='file:///Users/Soham/miniforge3/envs/MLEnv/lib/python3.9/site-packages/mlflow/tracking/_tracking_service/client.py?line=181'>182</a>\u001b[0m \u001b[39m    \"\"\"\u001b[39;00m\n\u001b[0;32m--> <a href='file:///Users/Soham/miniforge3/envs/MLEnv/lib/python3.9/site-packages/mlflow/tracking/_tracking_service/client.py?line=182'>183</a>\u001b[0m     \u001b[39mself\u001b[39;49m\u001b[39m.\u001b[39;49mstore\u001b[39m.\u001b[39;49mdelete_experiment(experiment_id)\n",
      "File \u001b[0;32m~/miniforge3/envs/MLEnv/lib/python3.9/site-packages/mlflow/store/tracking/file_store.py:374\u001b[0m, in \u001b[0;36mFileStore.delete_experiment\u001b[0;34m(self, experiment_id)\u001b[0m\n\u001b[1;32m    <a href='file:///Users/Soham/miniforge3/envs/MLEnv/lib/python3.9/site-packages/mlflow/store/tracking/file_store.py?line=371'>372</a>\u001b[0m experiment_dir \u001b[39m=\u001b[39m \u001b[39mself\u001b[39m\u001b[39m.\u001b[39m_get_experiment_path(experiment_id, ViewType\u001b[39m.\u001b[39mACTIVE_ONLY)\n\u001b[1;32m    <a href='file:///Users/Soham/miniforge3/envs/MLEnv/lib/python3.9/site-packages/mlflow/store/tracking/file_store.py?line=372'>373</a>\u001b[0m \u001b[39mif\u001b[39;00m experiment_dir \u001b[39mis\u001b[39;00m \u001b[39mNone\u001b[39;00m:\n\u001b[0;32m--> <a href='file:///Users/Soham/miniforge3/envs/MLEnv/lib/python3.9/site-packages/mlflow/store/tracking/file_store.py?line=373'>374</a>\u001b[0m     \u001b[39mraise\u001b[39;00m MlflowException(\n\u001b[1;32m    <a href='file:///Users/Soham/miniforge3/envs/MLEnv/lib/python3.9/site-packages/mlflow/store/tracking/file_store.py?line=374'>375</a>\u001b[0m         \u001b[39m\"\u001b[39m\u001b[39mCould not find experiment with ID \u001b[39m\u001b[39m%s\u001b[39;00m\u001b[39m\"\u001b[39m \u001b[39m%\u001b[39m experiment_id,\n\u001b[1;32m    <a href='file:///Users/Soham/miniforge3/envs/MLEnv/lib/python3.9/site-packages/mlflow/store/tracking/file_store.py?line=375'>376</a>\u001b[0m         databricks_pb2\u001b[39m.\u001b[39mRESOURCE_DOES_NOT_EXIST,\n\u001b[1;32m    <a href='file:///Users/Soham/miniforge3/envs/MLEnv/lib/python3.9/site-packages/mlflow/store/tracking/file_store.py?line=376'>377</a>\u001b[0m     )\n\u001b[1;32m    <a href='file:///Users/Soham/miniforge3/envs/MLEnv/lib/python3.9/site-packages/mlflow/store/tracking/file_store.py?line=377'>378</a>\u001b[0m mv(experiment_dir, \u001b[39mself\u001b[39m\u001b[39m.\u001b[39mtrash_folder)\n",
      "\u001b[0;31mMlflowException\u001b[0m: Could not find experiment with ID 9"
     ]
    }
   ],
   "source": [
    "mlflow.delete_experiment(EXPERIMENT_ID)"
   ]
  }
 ],
 "metadata": {
  "interpreter": {
   "hash": "145272517bddf6c1595b5c05b017fa375f010a8c8523682c34f84359a8aa7b70"
  },
  "kernelspec": {
   "display_name": "Python 3.9.13",
   "language": "python",
   "name": "python3"
  },
  "language_info": {
   "codemirror_mode": {
    "name": "ipython",
    "version": 3
   },
   "file_extension": ".py",
   "mimetype": "text/x-python",
   "name": "python",
   "nbconvert_exporter": "python",
   "pygments_lexer": "ipython3",
   "version": "3.9.16"
  },
  "orig_nbformat": 4
 },
 "nbformat": 4,
 "nbformat_minor": 2
}
