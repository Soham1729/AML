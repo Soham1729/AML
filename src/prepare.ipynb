{
 "cells": [
  {
   "cell_type": "markdown",
   "metadata": {},
   "source": [
    "# <center> Applied ML  - Assignment\n",
    "## <center> Soham Pyne (MDS202148) <br><br>"
   ]
  },
  {
   "cell_type": "code",
   "execution_count": 1,
   "metadata": {},
   "outputs": [],
   "source": [
    "from helpers import *"
   ]
  },
  {
   "cell_type": "markdown",
   "metadata": {},
   "source": [
    "### defining the filepath"
   ]
  },
  {
   "cell_type": "code",
   "execution_count": 2,
   "metadata": {},
   "outputs": [],
   "source": [
    "filepath = '/Users/Soham/Documents/CMI-SEM-4/Applied ML/smsspamcollection/SMSSpamCollection'"
   ]
  },
  {
   "cell_type": "markdown",
   "metadata": {},
   "source": [
    "### preprocessing the data"
   ]
  },
  {
   "cell_type": "code",
   "execution_count": 3,
   "metadata": {},
   "outputs": [
    {
     "data": {
      "text/html": [
       "<div>\n",
       "<style scoped>\n",
       "    .dataframe tbody tr th:only-of-type {\n",
       "        vertical-align: middle;\n",
       "    }\n",
       "\n",
       "    .dataframe tbody tr th {\n",
       "        vertical-align: top;\n",
       "    }\n",
       "\n",
       "    .dataframe thead th {\n",
       "        text-align: right;\n",
       "    }\n",
       "</style>\n",
       "<table border=\"1\" class=\"dataframe\">\n",
       "  <thead>\n",
       "    <tr style=\"text-align: right;\">\n",
       "      <th></th>\n",
       "      <th>Classification</th>\n",
       "      <th>Message</th>\n",
       "      <th>transformed_text</th>\n",
       "    </tr>\n",
       "  </thead>\n",
       "  <tbody>\n",
       "    <tr>\n",
       "      <th>0</th>\n",
       "      <td>1</td>\n",
       "      <td>Go until jurong point, crazy.. Available only ...</td>\n",
       "      <td>go jurong point crazy available bugis n great ...</td>\n",
       "    </tr>\n",
       "    <tr>\n",
       "      <th>1</th>\n",
       "      <td>1</td>\n",
       "      <td>Ok lar... Joking wif u oni...</td>\n",
       "      <td>ok lar joking wif u oni</td>\n",
       "    </tr>\n",
       "    <tr>\n",
       "      <th>2</th>\n",
       "      <td>0</td>\n",
       "      <td>Free entry in 2 a wkly comp to win FA Cup fina...</td>\n",
       "      <td>free entry 2 wkly comp win fa cup final tkts 2...</td>\n",
       "    </tr>\n",
       "    <tr>\n",
       "      <th>3</th>\n",
       "      <td>1</td>\n",
       "      <td>U dun say so early hor... U c already then say...</td>\n",
       "      <td>u dun say early hor u c already say</td>\n",
       "    </tr>\n",
       "    <tr>\n",
       "      <th>4</th>\n",
       "      <td>1</td>\n",
       "      <td>Nah I don't think he goes to usf, he lives aro...</td>\n",
       "      <td>nah think goes usf lives around though</td>\n",
       "    </tr>\n",
       "  </tbody>\n",
       "</table>\n",
       "</div>"
      ],
      "text/plain": [
       "   Classification                                            Message  \\\n",
       "0               1  Go until jurong point, crazy.. Available only ...   \n",
       "1               1                      Ok lar... Joking wif u oni...   \n",
       "2               0  Free entry in 2 a wkly comp to win FA Cup fina...   \n",
       "3               1  U dun say so early hor... U c already then say...   \n",
       "4               1  Nah I don't think he goes to usf, he lives aro...   \n",
       "\n",
       "                                    transformed_text  \n",
       "0  go jurong point crazy available bugis n great ...  \n",
       "1                            ok lar joking wif u oni  \n",
       "2  free entry 2 wkly comp win fa cup final tkts 2...  \n",
       "3                u dun say early hor u c already say  \n",
       "4             nah think goes usf lives around though  "
      ]
     },
     "execution_count": 3,
     "metadata": {},
     "output_type": "execute_result"
    }
   ],
   "source": [
    "data =pd.read_csv(filepath, sep=\"\\t\", header=None, on_bad_lines='skip', names=[\"Classification\", \"Message\"])\n",
    "data.loc[:, 'transformed_text'] = data['Message'].apply(preprocess_text)\n",
    "data.replace(to_replace = 'ham', value = 1, inplace = True)\n",
    "data.replace(to_replace = 'spam', value = 0, inplace = True)\n",
    "data.head(5)"
   ]
  },
  {
   "cell_type": "markdown",
   "metadata": {},
   "source": [
    "### saving the raw data"
   ]
  },
  {
   "cell_type": "code",
   "execution_count": 5,
   "metadata": {},
   "outputs": [],
   "source": [
    "raw_data_filepath = '/Users/Soham/Documents/CMI-SEM-4/AML/data/raw/data_preprocessed.csv'\n",
    "data.to_csv(raw_data_filepath, index = False)"
   ]
  },
  {
   "cell_type": "markdown",
   "metadata": {},
   "source": [
    "### splitting the data using random seed = $42$"
   ]
  },
  {
   "cell_type": "code",
   "execution_count": 6,
   "metadata": {},
   "outputs": [],
   "source": [
    "def split(data, train_size = 0.7, validation_size = 0.15, test_size = 0.15, random_state = 42):\n",
    "    \n",
    "    df_int, df_test = train_test_split(data, train_size = (train_size+validation_size), test_size = test_size, random_state = random_state)\n",
    "    \n",
    "    df_train, df_validation =  train_test_split(df_int, train_size = train_size/(train_size+validation_size), test_size = validation_size/(train_size+validation_size))\n",
    "    \n",
    "    return df_train, df_validation, df_test\n",
    "\n",
    "df_train, df_validation, df_test = split(data)"
   ]
  },
  {
   "cell_type": "code",
   "execution_count": 7,
   "metadata": {},
   "outputs": [],
   "source": [
    "train_filepath = '/Users/Soham/Documents/CMI-SEM-4/AML/data/split/train.csv'\n",
    "validation_filepath = '/Users/Soham/Documents/CMI-SEM-4/AML/data/split/validation.csv'\n",
    "test_filepath = '/Users/Soham/Documents/CMI-SEM-4/AML/data/split/test.csv'\n",
    "\n",
    "df_train.to_csv(train_filepath, index = False)\n",
    "df_test.to_csv(test_filepath, index = False)\n",
    "df_validation.to_csv(validation_filepath, index = False)"
   ]
  },
  {
   "cell_type": "code",
   "execution_count": 8,
   "metadata": {},
   "outputs": [
    {
     "name": "stdout",
     "output_type": "stream",
     "text": [
      "Initialized DVC repository.\n",
      "\n",
      "You can now commit the changes to git.\n",
      "\n",
      "\u001b[31m+---------------------------------------------------------------------+\n",
      "\u001b[0m\u001b[31m|\u001b[0m                                                                     \u001b[31m|\u001b[0m\n",
      "\u001b[31m|\u001b[0m        DVC has enabled anonymous aggregate usage analytics.         \u001b[31m|\u001b[0m\n",
      "\u001b[31m|\u001b[0m     Read the analytics documentation (and how to opt-out) here:     \u001b[31m|\u001b[0m\n",
      "\u001b[31m|\u001b[0m             <\u001b[36mhttps://dvc.org/doc/user-guide/analytics\u001b[39m>              \u001b[31m|\u001b[0m\n",
      "\u001b[31m|\u001b[0m                                                                     \u001b[31m|\u001b[0m\n",
      "\u001b[31m+---------------------------------------------------------------------+\n",
      "\u001b[0m\n",
      "\u001b[33mWhat's next?\u001b[39m\n",
      "\u001b[33m------------\u001b[39m\n",
      "- Check out the documentation: <\u001b[36mhttps://dvc.org/doc\u001b[39m>\n",
      "- Get help and share ideas: <\u001b[36mhttps://dvc.org/chat\u001b[39m>\n",
      "- Star us on GitHub: <\u001b[36mhttps://github.com/iterative/dvc\u001b[39m>\n",
      "\u001b[0m"
     ]
    }
   ],
   "source": [
    "!cd .. && dvc init -f"
   ]
  },
  {
   "cell_type": "code",
   "execution_count": 9,
   "metadata": {},
   "outputs": [
    {
     "name": "stdout",
     "output_type": "stream",
     "text": [
      "\u001b[?25l                                                                          \u001b[32m⠋\u001b[0m Checking graph\n",
      "  0% Adding...|                                      |0/3 [00:00<?,     ?file/s]\n",
      "!\u001b[A\n",
      "  0% Checking cache in '/Users/Soham/Documents/CMI-SEM-4/AML/.dvc/cache'| |0/? [\u001b[A\n",
      "                                                                                \u001b[A\n",
      "!\u001b[A\n",
      "  0%|          |Transferring                          0/? [00:00<?,     ?file/s]\u001b[A\n",
      "  0%|          |Transferring                          0/1 [00:00<?,     ?file/s]\u001b[A\n",
      "                                                                                \u001b[A\n",
      "!\u001b[A\n",
      "  0% Checking cache in '/Users/Soham/Documents/CMI-SEM-4/AML/.dvc/cache'| |0/? [\u001b[A\n",
      "                                                                                \u001b[A\n",
      "!\u001b[A\n",
      "  0%|          |Transferring                          0/? [00:00<?,     ?file/s]\u001b[A\n",
      "  0%|          |Transferring                          0/1 [00:00<?,     ?file/s]\u001b[A\n",
      "                                                                                \u001b[A\n",
      "!\u001b[A\n",
      "  0% Checking cache in '/Users/Soham/Documents/CMI-SEM-4/AML/.dvc/cache'| |0/? [\u001b[A\n",
      "                                                                                \u001b[A\n",
      "!\u001b[A\n",
      "  0%|          |Transferring                          0/? [00:00<?,     ?file/s]\u001b[A\n",
      "  0%|          |Transferring                          0/1 [00:00<?,     ?file/s]\u001b[A\n",
      "100% Adding...|████████████████████████████████████████|3/3 [00:00, 88.07file/s]\u001b[A\n",
      "\n",
      "To track the changes with git, run:\n",
      "\n",
      "\tgit add data/split/.gitignore data/split/train.csv.dvc data/split/test.csv.dvc data/split/validation.csv.dvc\n",
      "\n",
      "To enable auto staging, run:\n",
      "\n",
      "\tdvc config core.autostage true\n",
      "\u001b[0m"
     ]
    }
   ],
   "source": [
    "!cd .. && dvc add data/split/train.csv data/split/test.csv data/split/validation.csv"
   ]
  },
  {
   "cell_type": "code",
   "execution_count": 10,
   "metadata": {},
   "outputs": [
    {
     "name": "stdout",
     "output_type": "stream",
     "text": [
      "\u001b[0m"
     ]
    }
   ],
   "source": [
    "!dvc config core.autostage true"
   ]
  },
  {
   "cell_type": "code",
   "execution_count": 11,
   "metadata": {},
   "outputs": [
    {
     "name": "stdout",
     "output_type": "stream",
     "text": [
      "Setting 'myremote' as a default remote.\n",
      "\u001b[0m"
     ]
    }
   ],
   "source": [
    "!dvc remote add -f --default myremote gdrive://1RHw5sNV9r-nQ7O233BDgYIYOB-Sj7R9P"
   ]
  },
  {
   "cell_type": "code",
   "execution_count": 12,
   "metadata": {},
   "outputs": [
    {
     "name": "stdout",
     "output_type": "stream",
     "text": [
      "\u001b[0m"
     ]
    }
   ],
   "source": [
    "!dvc remote modify myremote gdrive_acknowledge_abuse true"
   ]
  },
  {
   "cell_type": "code",
   "execution_count": 13,
   "metadata": {},
   "outputs": [
    {
     "name": "stdout",
     "output_type": "stream",
     "text": [
      "  0% Transferring|                                   |0/3 [00:00<?,     ?file/s]\n",
      "!\u001b[A\n",
      "  0%|          |/Users/Soham/Documents/CMI-SEM-4/AM0.00/? [00:00<?,        ?B/s]\u001b[A\n",
      "  0%|          |/Users/Soham/Documents/CMI-SEM-40.00/111k [00:00<?,        ?B/s]\u001b[A\n",
      " 33% Transferring|██████████▎                    |1/3 [00:04<00:08,  4.23s/file]\u001b[A\n",
      "                                                                                \u001b[A\n",
      "!\u001b[A\n",
      "  0%|          |/Users/Soham/Documents/CMI-SEM-4/AM0.00/? [00:00<?,        ?B/s]\u001b[A\n",
      "  0%|          |/Users/Soham/Documents/CMI-SEM-40.00/515k [00:00<?,        ?B/s]\u001b[A\n",
      "\n",
      "!\u001b[A\u001b[A\n",
      "\n",
      "  0%|          |/Users/Soham/Documents/CMI-SEM-4/AM0.00/? [00:00<?,        ?B/s]\u001b[A\u001b[A\n",
      "\n",
      "  0%|          |/Users/Soham/Documents/CMI-SEM-40.00/111k [00:00<?,        ?B/s]\u001b[A\u001b[A\n",
      "  2%|▏         |/Users/Soham/Documents/CMI-8.00k/515k [00:02<02:41,    3.21kB/s]\u001b[A\n",
      "\n",
      " 67% Transferring|████████████████████▋          |2/3 [00:08<00:04,  4.16s/file]\u001b[A\u001b[A\n",
      "100% Transferring|███████████████████████████████|3/3 [00:09<00:00,  2.99s/file]\u001b[A\n",
      "\n",
      "3 files pushed                                                                  \u001b[A\u001b[A\n",
      "\u001b[0m"
     ]
    }
   ],
   "source": [
    "!dvc push"
   ]
  },
  {
   "cell_type": "markdown",
   "metadata": {},
   "source": [
    "### changing random state to 1729"
   ]
  },
  {
   "cell_type": "code",
   "execution_count": 14,
   "metadata": {},
   "outputs": [],
   "source": [
    "df_train, df_validation, df_test = split(data, random_state= 1729)"
   ]
  },
  {
   "cell_type": "code",
   "execution_count": 15,
   "metadata": {},
   "outputs": [],
   "source": [
    "train_filepath = '/Users/Soham/Documents/CMI-SEM-4/AML/data/split/train.csv'\n",
    "validation_filepath = '/Users/Soham/Documents/CMI-SEM-4/AML/data/split/validation.csv'\n",
    "test_filepath = '/Users/Soham/Documents/CMI-SEM-4/AML/data/split/test.csv'\n",
    "\n",
    "df_train.to_csv(train_filepath, index = False)\n",
    "df_test.to_csv(test_filepath, index = False)\n",
    "df_validation.to_csv(validation_filepath, index = False)"
   ]
  },
  {
   "cell_type": "code",
   "execution_count": 17,
   "metadata": {},
   "outputs": [
    {
     "name": "stdout",
     "output_type": "stream",
     "text": [
      "Data and pipelines are up to date.                                    core\u001b[39m>\n",
      "\u001b[0m"
     ]
    }
   ],
   "source": [
    "!dvc status"
   ]
  },
  {
   "cell_type": "code",
   "execution_count": 18,
   "metadata": {},
   "outputs": [
    {
     "name": "stdout",
     "output_type": "stream",
     "text": [
      "  0% Transferring|                                   |0/3 [00:00<?,     ?file/s]\n",
      "!\u001b[A\n",
      "  0%|          |/Users/Soham/Documents/CMI-SEM-4/AM0.00/? [00:00<?,        ?B/s]\u001b[A\n",
      "  0%|          |/Users/Soham/Documents/CMI-SEM-40.00/111k [00:00<?,        ?B/s]\u001b[A\n",
      " 33% Transferring|██████████▎                    |1/3 [00:04<00:08,  4.07s/file]\u001b[A\n",
      "                                                                                \u001b[A\n",
      "!\u001b[A\n",
      "  0%|          |/Users/Soham/Documents/CMI-SEM-4/AM0.00/? [00:00<?,        ?B/s]\u001b[A\n",
      "  0%|          |/Users/Soham/Documents/CMI-SEM-40.00/520k [00:00<?,        ?B/s]\u001b[A\n",
      "\n",
      "!\u001b[A\u001b[A\n",
      "\n",
      "  0%|          |/Users/Soham/Documents/CMI-SEM-4/AM0.00/? [00:00<?,        ?B/s]\u001b[A\u001b[A\n",
      "\n",
      "  0%|          |/Users/Soham/Documents/CMI-SEM-40.00/105k [00:00<?,        ?B/s]\u001b[A\u001b[A\n",
      "\n",
      "  8%|▊         |/Users/Soham/Documents/CMI-8.00k/105k [00:02<00:30,    3.30kB/s]\u001b[A\u001b[A\n",
      " 67% Transferring|████████████████████▋          |2/3 [00:08<00:04,  4.02s/file]\u001b[A\n",
      "\n",
      "100% Transferring|███████████████████████████████|3/3 [00:09<00:00,  2.83s/file]\u001b[A\u001b[A\n",
      "3 files pushed                                                                  \u001b[A\n",
      "\u001b[0m"
     ]
    }
   ],
   "source": [
    "!dvc push"
   ]
  },
  {
   "cell_type": "code",
   "execution_count": 19,
   "metadata": {},
   "outputs": [
    {
     "name": "stdout",
     "output_type": "stream",
     "text": [
      "\u001b[33mcommit 81c6465d6827d7037b3a43692b5248cc60c77f7f\u001b[m\u001b[33m (\u001b[m\u001b[1;36mHEAD\u001b[m\u001b[33m)\u001b[m\n",
      "Author: Soham1729 <106344856+Soham1729@users.noreply.github.com>\n",
      "Date:   Fri Mar 17 00:45:24 2023 +0530\n",
      "\n",
      "    second split 1729\n",
      "\n",
      "\u001b[33mcommit 8daeadbd597a6e8830eb61d8024a6d0a0ccd4630\u001b[m\n",
      "Author: Soham1729 <106344856+Soham1729@users.noreply.github.com>\n",
      "Date:   Fri Mar 17 00:44:05 2023 +0530\n",
      "\n",
      "    first split 42\n",
      "\n",
      "\u001b[33mcommit dead327f166d91a530ff771e0279cb6baa010c2c\u001b[m\n",
      "Author: Soham1729 <106344856+Soham1729@users.noreply.github.com>\n",
      "Date:   Fri Mar 17 00:43:29 2023 +0530\n",
      "\n",
      "    dvc init, files added, remote added\n",
      "\n",
      "\u001b[33mcommit 8c5c352da03576f36fab4b33afaf1ef45923b073\u001b[m\n",
      "Author: Soham1729 <106344856+Soham1729@users.noreply.github.com>\n",
      "Date:   Fri Mar 17 00:42:11 2023 +0530\n",
      "\n",
      "    raw data saved\n",
      "\n",
      "\u001b[33mcommit 3e36001ef7386dd57beaaff61591f5e6db4a0537\u001b[m\n",
      "Author: Soham1729 <106344856+Soham1729@users.noreply.github.com>\n",
      "Date:   Fri Mar 17 00:39:35 2023 +0530\n",
      "\n",
      "    reset to assign1 level\n",
      "\n",
      "\u001b[33mcommit 0c98d9c5c67cbdb1a963d1be305d0316e3bc78c1\u001b[m\n",
      "Author: Soham1729 <106344856+Soham1729@users.noreply.github.com>\n",
      "Date:   Thu Mar 16 23:43:51 2023 +0530\n",
      "\n",
      "    first split 42\n",
      "\n",
      "\u001b[33mcommit a7bf500b5b818e456a09e11491b5fe6984857d6d\u001b[m\n",
      "Author: Soham1729 <106344856+Soham1729@users.noreply.github.com>\n",
      "Date:   Thu Mar 16 23:37:23 2023 +0530\n",
      "\n",
      "    empty commit\n",
      "\n",
      "\u001b[33mcommit 0c34838e8e7c68c0e6cc8e2a32c1b385046fafc3\u001b[m\n",
      "Author: Soham1729 <106344856+Soham1729@users.noreply.github.com>\n",
      "Date:   Thu Mar 16 22:59:14 2023 +0530\n",
      "\n",
      "    dvc reset\n",
      "\n",
      "\u001b[33mcommit 9827a623d182eb90ba4f463c3b1d4253530cf864\u001b[m\n",
      "Author: Soham1729 <106344856+Soham1729@users.noreply.github.com>\n",
      "Date:   Thu Mar 16 22:45:28 2023 +0530\n",
      "\n",
      "    second split 1729\n",
      "\n",
      "\u001b[33mcommit 896a4768ce55b3730294550f904c9a9814aafbe9\u001b[m\n",
      "Author: Soham1729 <106344856+Soham1729@users.noreply.github.com>\n",
      "Date:   Thu Mar 16 22:43:11 2023 +0530\n",
      "\n",
      "    dvc config changed remote\n",
      "\n",
      "\u001b[33mcommit 788bf4770f07945ae11508b4041bf3bee1c3b24a\u001b[m\n",
      "Author: Soham1729 <106344856+Soham1729@users.noreply.github.com>\n",
      "Date:   Thu Mar 16 22:42:01 2023 +0530\n",
      "\n",
      "    first split 42\n",
      "\n",
      "\u001b[33mcommit ec41b97773ea3fe674d2073a96085a92b3f68a4a\u001b[m\n",
      "Author: Soham1729 <106344856+Soham1729@users.noreply.github.com>\n",
      "Date:   Thu Mar 16 22:41:47 2023 +0530\n",
      "\n",
      "    dvc init\n",
      "\n",
      "\u001b[33mcommit 125b27bd98d84bcd0dc15bff247d6ff86cc307c5\u001b[m\n",
      "Author: Soham1729 <106344856+Soham1729@users.noreply.github.com>\n",
      "Date:   Thu Mar 16 22:40:37 2023 +0530\n",
      "\n",
      "    dvc reset\n",
      "\n",
      "\u001b[33mcommit 50092c75e6e479f1543af8633da2a6a62fc2ed5c\u001b[m\n",
      "Author: Soham1729 <106344856+Soham1729@users.noreply.github.com>\n",
      "Date:   Thu Mar 16 22:31:03 2023 +0530\n",
      "\n",
      "    pyc del\n",
      "\n",
      "\u001b[33mcommit 3ed1d51482b8408cb7f2237d6d1ff8db5dfd0076\u001b[m\n",
      "Author: Soham1729 <106344856+Soham1729@users.noreply.github.com>\n",
      "Date:   Thu Mar 16 22:25:28 2023 +0530\n",
      "\n",
      "    second split 1729\n",
      "\n",
      "\u001b[33mcommit 74e0a309b05e5a4e9dbb950ceb8e0c3e48f7d41e\u001b[m\n",
      "Author: Soham1729 <106344856+Soham1729@users.noreply.github.com>\n",
      "Date:   Thu Mar 16 22:21:35 2023 +0530\n",
      "\n",
      "    first split 42\n",
      "\n",
      "\u001b[33mcommit bd9348888ba069957b430f049efa8e6acab5a7a9\u001b[m\n",
      "Author: Soham1729 <106344856+Soham1729@users.noreply.github.com>\n",
      "Date:   Thu Mar 16 22:21:15 2023 +0530\n",
      "\n",
      "    dvc config and gitignore added\n",
      "\n",
      "\u001b[33mcommit 58913a715d0e945c522a12c50035a82b58d57bf6\u001b[m\n",
      "Author: Soham1729 <106344856+Soham1729@users.noreply.github.com>\n",
      "Date:   Thu Mar 16 22:17:42 2023 +0530\n",
      "\n",
      "    dvc init\n",
      "\n",
      "\u001b[33mcommit 5b516090865dd22fa187fa0b40aede23ddac8de0\u001b[m\n",
      "Author: Soham1729 <106344856+Soham1729@users.noreply.github.com>\n",
      "Date:   Thu Mar 16 22:16:05 2023 +0530\n",
      "\n",
      "    raw data saved\n",
      "\n",
      "\u001b[33mcommit 44cbd6546d3752c078a1247db189c460ed1aa322\u001b[m\n",
      "Author: Soham1729 <106344856+Soham1729@users.noreply.github.com>\n",
      "Date:   Thu Mar 16 22:15:05 2023 +0530\n",
      "\n",
      "    added gitignore\n",
      "\n",
      "\u001b[33mcommit 46b1ec52583f3183a628137651cef1d2368f5fc5\u001b[m\n",
      "Author: Soham1729 <106344856+Soham1729@users.noreply.github.com>\n",
      "Date:   Thu Mar 16 22:10:44 2023 +0530\n",
      "\n",
      "    reseting dvc\n",
      "\n",
      "\u001b[33mcommit 28aad49cb4971b4bdfa978c9aa25e5c6a6af8dbe\u001b[m\n",
      "Author: Soham1729 <106344856+Soham1729@users.noreply.github.com>\n",
      "Date:   Thu Mar 16 22:09:23 2023 +0530\n",
      "\n",
      "    reseting for new split\n",
      "\n",
      "\u001b[33mcommit a40d87347ceb421bda05afc3e6aa993f62e4adeb\u001b[m\n",
      "Author: Soham1729 <106344856+Soham1729@users.noreply.github.com>\n",
      "Date:   Thu Mar 16 22:01:00 2023 +0530\n",
      "\n",
      "    empty commits\n",
      "\n",
      "\u001b[33mcommit 84e0300c05f5155aabd2273cb95c6a385aa1a9a2\u001b[m\n",
      "Author: Soham1729 <106344856+Soham1729@users.noreply.github.com>\n",
      "Date:   Thu Mar 16 21:52:44 2023 +0530\n",
      "\n",
      "    improving folder structure\n",
      "\n",
      "\u001b[33mcommit 754b9b6a4ed38ca52ad7a56b86c92c96e36a02a2\u001b[m\n",
      "Author: Soham1729 <106344856+Soham1729@users.noreply.github.com>\n",
      "Date:   Wed Mar 15 20:19:51 2023 +0530\n",
      "\n",
      "    no message\n",
      "\n",
      "\u001b[33mcommit 0cb6c81212c64a8b1fc2a741c589523f653b10e8\u001b[m\n",
      "Author: Soham1729 <106344856+Soham1729@users.noreply.github.com>\n",
      "Date:   Wed Mar 15 20:18:00 2023 +0530\n",
      "\n",
      "    random state 1729\n",
      "\n",
      "\u001b[33mcommit 3bcae4769131d31a860f75c8cd082bb4597d044b\u001b[m\n",
      "Author: Soham1729 <106344856+Soham1729@users.noreply.github.com>\n",
      "Date:   Wed Mar 15 20:15:54 2023 +0530\n",
      "\n",
      "    random state 42 split\n",
      "\n",
      "\u001b[33mcommit acd8f29aa033680b5423edafba17801080425e65\u001b[m\n",
      "Author: Soham1729 <106344856+Soham1729@users.noreply.github.com>\n",
      "Date:   Wed Mar 15 20:11:58 2023 +0530\n",
      "\n",
      "    .\n",
      "\n",
      "\u001b[33mcommit c49d0d0cd580cd6de0931fcbb781e2ccf5f71fb8\u001b[m\n",
      "Author: Soham1729 <106344856+Soham1729@users.noreply.github.com>\n",
      "Date:   Wed Mar 15 20:04:58 2023 +0530\n",
      "\n",
      "    random state 42 split\n",
      "\n",
      "\u001b[33mcommit 67a2fe7a72bd8ab8896dfece84f21509f482d698\u001b[m\n",
      "Author: Soham1729 <106344856+Soham1729@users.noreply.github.com>\n",
      "Date:   Wed Mar 15 19:59:36 2023 +0530\n",
      "\n",
      "    folder structure improvements\n",
      "\n",
      "\u001b[33mcommit 8fee3b53f6d52d9059c5d9fbabfa95db2e64d03c\u001b[m\n",
      "Author: Soham1729 <106344856+Soham1729@users.noreply.github.com>\n",
      "Date:   Wed Mar 15 19:55:43 2023 +0530\n",
      "\n",
      "    no message\n",
      "\n",
      "\u001b[33mcommit 8dc7cf88a0db9e802ab92e4a7ba8622492711084\u001b[m\n",
      "Author: Soham1729 <106344856+Soham1729@users.noreply.github.com>\n",
      "Date:   Wed Mar 15 19:48:42 2023 +0530\n",
      "\n",
      "    random state 42 split\n",
      "\n",
      "\u001b[33mcommit 3ad6ffeaaa50f356102a863f1bbfd55d72e1ec3b\u001b[m\n",
      "Author: Soham1729 <106344856+Soham1729@users.noreply.github.com>\n",
      "Date:   Wed Mar 15 19:46:25 2023 +0530\n",
      "\n",
      "    improving the folder structure\n",
      "\n",
      "\u001b[33mcommit b2de9ec802d8e385e594afd7e0936a27b02dc97c\u001b[m\n",
      "Author: Soham1729 <106344856+Soham1729@users.noreply.github.com>\n",
      "Date:   Wed Mar 15 12:26:16 2023 +0530\n",
      "\n",
      "    some more changes\n",
      "\n",
      "\u001b[33mcommit 694462ccc0675296492aa76b97e9e04dd545413e\u001b[m\n",
      "Author: Soham1729 <106344856+Soham1729@users.noreply.github.com>\n",
      "Date:   Wed Mar 15 12:06:35 2023 +0530\n",
      "\n",
      "    changed to save the model for assignment 3\n",
      "\n",
      "\u001b[33mcommit 7b2f37903d69b9e933137efcdd276e6e9f3b2ab1\u001b[m\n",
      "Author: Soham1729 <106344856+Soham1729@users.noreply.github.com>\n",
      "Date:   Tue Feb 28 00:28:53 2023 +0530\n",
      "\n",
      "    assignment two prepare done\n",
      "\n",
      "\u001b[33mcommit e312a6083a0ae95bbee4610a4dd3b6da56192436\u001b[m\n",
      "Author: Soham1729 <106344856+Soham1729@users.noreply.github.com>\n",
      "Date:   Mon Feb 27 23:45:16 2023 +0530\n",
      "\n",
      "    second split with random state 1729\n",
      "\n",
      "\u001b[33mcommit 0a6fcb3d60d5f29ca7559ede660975d8e8df21c3\u001b[m\n",
      "Author: Soham1729 <106344856+Soham1729@users.noreply.github.com>\n",
      "Date:   Mon Feb 27 23:36:55 2023 +0530\n",
      "\n",
      "    added gdrive link\n",
      "\n",
      "\u001b[33mcommit 3666611721bd7ba0b9c5293aefbc65b974457b03\u001b[m\n",
      "Author: Soham1729 <106344856+Soham1729@users.noreply.github.com>\n",
      "Date:   Mon Feb 27 23:23:50 2023 +0530\n",
      "\n",
      "    FIrst Split 42\n",
      "\n",
      "\u001b[33mcommit d498792bb44c7d5448d88148e1a1d54c2c84789a\u001b[m\n",
      "Author: Soham1729 <106344856+Soham1729@users.noreply.github.com>\n",
      "Date:   Mon Feb 27 23:23:22 2023 +0530\n",
      "\n",
      "    DVC folder changes\n",
      "\n",
      "\u001b[33mcommit 91ceddec6db50e55df5b4719d4ec52deb57d1c29\u001b[m\n",
      "Author: Soham1729 <106344856+Soham1729@users.noreply.github.com>\n",
      "Date:   Mon Feb 27 22:56:02 2023 +0530\n",
      "\n",
      "    before split of data\n",
      "\n",
      "\u001b[33mcommit 2871de6452c61071555cb1ac8f70520b1e7d6865\u001b[m\n",
      "Author: Soham1729 <106344856+Soham1729@users.noreply.github.com>\n",
      "Date:   Mon Feb 27 22:40:21 2023 +0530\n",
      "\n",
      "    added Assignment_one folder\n",
      "\n",
      "\u001b[33mcommit 2afc0c0827fe1fd00fd517cc21429c3c738c3d56\u001b[m\n",
      "Author: Soham Pyne <106344856+Soham1729@users.noreply.github.com>\n",
      "Date:   Wed Feb 1 00:09:03 2023 +0530\n",
      "\n",
      "    Delete prepare.ipynb\n",
      "\n",
      "\u001b[33mcommit 0600a50909a61ffaab7ef5dd8723dc026f530d6c\u001b[m\n",
      "Author: Soham Pyne <106344856+Soham1729@users.noreply.github.com>\n",
      "Date:   Wed Feb 1 00:06:29 2023 +0530\n",
      "\n",
      "    Created using Colaboratory\n",
      "\n",
      "\u001b[33mcommit f151846adea2f90c46c5676a23262c7d741ac97b\u001b[m\n",
      "Author: Soham Pyne <106344856+Soham1729@users.noreply.github.com>\n",
      "Date:   Tue Jan 31 21:41:25 2023 +0530\n",
      "\n",
      "    Created using Colaboratory\n",
      "\n",
      "\u001b[33mcommit 82dbef95b8047f6d70a4b2604afdd431a9fc6f4c\u001b[m\n",
      "Author: Soham Pyne <106344856+Soham1729@users.noreply.github.com>\n",
      "Date:   Thu Jan 19 00:03:36 2023 +0530\n",
      "\n",
      "    Update README.md\n",
      "\n",
      "\u001b[33mcommit 70b2d340ed22c59136da78f3aa3b759bf5c0ca18\u001b[m\n",
      "Author: Soham Pyne <106344856+Soham1729@users.noreply.github.com>\n",
      "Date:   Thu Jan 19 00:03:10 2023 +0530\n",
      "\n",
      "    Update README.md\n",
      "\n",
      "\u001b[33mcommit 57378b484168e4edb417c76b120b61c85019f5ae\u001b[m\n",
      "Author: Soham Pyne <106344856+Soham1729@users.noreply.github.com>\n",
      "Date:   Thu Jan 19 00:01:27 2023 +0530\n",
      "\n",
      "    Initial commit\n"
     ]
    }
   ],
   "source": [
    "!git log"
   ]
  },
  {
   "cell_type": "code",
   "execution_count": 20,
   "metadata": {},
   "outputs": [
    {
     "name": "stdout",
     "output_type": "stream",
     "text": [
      "M\tsrc/prepare.ipynb\n",
      "Warning: you are leaving 1 commit behind, not connected to\n",
      "any of your branches:\n",
      "\n",
      "  81c6465 second split 1729\n",
      "\n",
      "If you want to keep it by creating a new branch, this may be a good time\n",
      "to do so with:\n",
      "\n",
      " git branch <new-branch-name> 81c6465\n",
      "\n",
      "HEAD is now at 8daeadb first split 42\n"
     ]
    }
   ],
   "source": [
    "!git checkout 8daeadbd597a6e8830eb61d8024a6d0a0ccd4630"
   ]
  },
  {
   "cell_type": "code",
   "execution_count": 21,
   "metadata": {},
   "outputs": [
    {
     "name": "stdout",
     "output_type": "stream",
     "text": [
      "\u001b[33mM\u001b[0m       ..\u001b[35m/data/split/\u001b[0m\u001b[95mtrain.csv\u001b[0m                      \n",
      "\u001b[33mM\u001b[0m       ..\u001b[35m/data/split/\u001b[0m\u001b[95mtest.csv\u001b[0m\n",
      "\u001b[33mM\u001b[0m       ..\u001b[35m/data/split/\u001b[0m\u001b[95mvalidation.csv\u001b[0m\n",
      "\u001b[0m"
     ]
    }
   ],
   "source": [
    "!dvc checkout"
   ]
  },
  {
   "cell_type": "code",
   "execution_count": 22,
   "metadata": {},
   "outputs": [],
   "source": [
    "df_train = pd.read_csv(train_filepath)\n",
    "df_validation = pd.read_csv(validation_filepath)\n",
    "df_test = pd.read_csv(test_filepath)"
   ]
  },
  {
   "cell_type": "code",
   "execution_count": 23,
   "metadata": {},
   "outputs": [
    {
     "data": {
      "text/plain": [
       "(1    3385\n",
       " 0     515\n",
       " Name: Classification, dtype: int64,\n",
       " 1    711\n",
       " 0    125\n",
       " Name: Classification, dtype: int64,\n",
       " 1    729\n",
       " 0    107\n",
       " Name: Classification, dtype: int64)"
      ]
     },
     "execution_count": 23,
     "metadata": {},
     "output_type": "execute_result"
    }
   ],
   "source": [
    "df_train['Classification'].value_counts(),df_validation['Classification'].value_counts(),df_test['Classification'].value_counts()"
   ]
  },
  {
   "cell_type": "code",
   "execution_count": 24,
   "metadata": {},
   "outputs": [
    {
     "name": "stdout",
     "output_type": "stream",
     "text": [
      "M\tsrc/prepare.ipynb\n",
      "Previous HEAD position was 8daeadb first split 42\n",
      "HEAD is now at 81c6465 second split 1729\n"
     ]
    }
   ],
   "source": [
    "!git checkout 81c6465d6827d7037b3a43692b5248cc60c77f7f"
   ]
  },
  {
   "cell_type": "code",
   "execution_count": 25,
   "metadata": {},
   "outputs": [
    {
     "name": "stdout",
     "output_type": "stream",
     "text": [
      "\u001b[33mM\u001b[0m       ..\u001b[35m/data/split/\u001b[0m\u001b[95mtrain.csv\u001b[0m                      \n",
      "\u001b[33mM\u001b[0m       ..\u001b[35m/data/split/\u001b[0m\u001b[95mvalidation.csv\u001b[0m\n",
      "\u001b[33mM\u001b[0m       ..\u001b[35m/data/split/\u001b[0m\u001b[95mtest.csv\u001b[0m\n",
      "\u001b[0m"
     ]
    }
   ],
   "source": [
    "!dvc checkout"
   ]
  },
  {
   "cell_type": "code",
   "execution_count": 26,
   "metadata": {},
   "outputs": [],
   "source": [
    "df_train = pd.read_csv(train_filepath)\n",
    "df_validation = pd.read_csv(validation_filepath)\n",
    "df_test = pd.read_csv(test_filepath)"
   ]
  },
  {
   "cell_type": "code",
   "execution_count": 27,
   "metadata": {},
   "outputs": [
    {
     "data": {
      "text/plain": [
       "(1    3387\n",
       " 0     513\n",
       " Name: Classification, dtype: int64,\n",
       " 1    734\n",
       " 0    102\n",
       " Name: Classification, dtype: int64,\n",
       " 1    704\n",
       " 0    132\n",
       " Name: Classification, dtype: int64)"
      ]
     },
     "execution_count": 27,
     "metadata": {},
     "output_type": "execute_result"
    }
   ],
   "source": [
    "df_train['Classification'].value_counts(),df_validation['Classification'].value_counts(),df_test['Classification'].value_counts()"
   ]
  }
 ],
 "metadata": {
  "interpreter": {
   "hash": "145272517bddf6c1595b5c05b017fa375f010a8c8523682c34f84359a8aa7b70"
  },
  "kernelspec": {
   "display_name": "Python 3.9.16",
   "language": "python",
   "name": "python3"
  },
  "language_info": {
   "codemirror_mode": {
    "name": "ipython",
    "version": 3
   },
   "file_extension": ".py",
   "mimetype": "text/x-python",
   "name": "python",
   "nbconvert_exporter": "python",
   "pygments_lexer": "ipython3",
   "version": "3.9.16"
  },
  "orig_nbformat": 4
 },
 "nbformat": 4,
 "nbformat_minor": 2
}
