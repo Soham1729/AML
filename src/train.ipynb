{
 "cells": [
  {
   "cell_type": "markdown",
   "metadata": {},
   "source": [
    "# <center> Applied ML  - Assignment\n",
    "## <center> Soham Pyne (MDS202148) <br><br>"
   ]
  },
  {
   "cell_type": "code",
   "execution_count": 3,
   "metadata": {},
   "outputs": [],
   "source": [
    "from helpers import *"
   ]
  },
  {
   "cell_type": "code",
   "execution_count": 4,
   "metadata": {},
   "outputs": [],
   "source": [
    "train_filepath = '/Users/Soham/Documents/CMI-SEM-4/AML/data/split/train.csv'\n",
    "validation_filepath = '/Users/Soham/Documents/CMI-SEM-4/AML/data/split/validation.csv'\n",
    "test_filepath = '/Users/Soham/Documents/CMI-SEM-4/AML/data/split/test.csv'"
   ]
  },
  {
   "cell_type": "code",
   "execution_count": 5,
   "metadata": {},
   "outputs": [],
   "source": [
    "train_data = pd.read_csv(train_filepath)\n",
    "validation_data = pd.read_csv(validation_filepath)\n",
    "test_data = pd.read_csv(test_filepath)\n",
    "train_data = train_data.dropna() \n",
    "validation_data = validation_data.dropna()\n",
    "test_data = test_data.dropna()"
   ]
  },
  {
   "cell_type": "code",
   "execution_count": 6,
   "metadata": {},
   "outputs": [],
   "source": [
    "x_train, x_validation, x_test =  train_data['transformed_text'], validation_data['transformed_text'], test_data['transformed_text']\n",
    "y_train, y_validation, y_test = train_data['Classification'], validation_data['Classification'], test_data['Classification']"
   ]
  },
  {
   "cell_type": "code",
   "execution_count": 7,
   "metadata": {},
   "outputs": [
    {
     "data": {
      "text/html": [
       "<style>#sk-container-id-1 {color: black;background-color: white;}#sk-container-id-1 pre{padding: 0;}#sk-container-id-1 div.sk-toggleable {background-color: white;}#sk-container-id-1 label.sk-toggleable__label {cursor: pointer;display: block;width: 100%;margin-bottom: 0;padding: 0.3em;box-sizing: border-box;text-align: center;}#sk-container-id-1 label.sk-toggleable__label-arrow:before {content: \"▸\";float: left;margin-right: 0.25em;color: #696969;}#sk-container-id-1 label.sk-toggleable__label-arrow:hover:before {color: black;}#sk-container-id-1 div.sk-estimator:hover label.sk-toggleable__label-arrow:before {color: black;}#sk-container-id-1 div.sk-toggleable__content {max-height: 0;max-width: 0;overflow: hidden;text-align: left;background-color: #f0f8ff;}#sk-container-id-1 div.sk-toggleable__content pre {margin: 0.2em;color: black;border-radius: 0.25em;background-color: #f0f8ff;}#sk-container-id-1 input.sk-toggleable__control:checked~div.sk-toggleable__content {max-height: 200px;max-width: 100%;overflow: auto;}#sk-container-id-1 input.sk-toggleable__control:checked~label.sk-toggleable__label-arrow:before {content: \"▾\";}#sk-container-id-1 div.sk-estimator input.sk-toggleable__control:checked~label.sk-toggleable__label {background-color: #d4ebff;}#sk-container-id-1 div.sk-label input.sk-toggleable__control:checked~label.sk-toggleable__label {background-color: #d4ebff;}#sk-container-id-1 input.sk-hidden--visually {border: 0;clip: rect(1px 1px 1px 1px);clip: rect(1px, 1px, 1px, 1px);height: 1px;margin: -1px;overflow: hidden;padding: 0;position: absolute;width: 1px;}#sk-container-id-1 div.sk-estimator {font-family: monospace;background-color: #f0f8ff;border: 1px dotted black;border-radius: 0.25em;box-sizing: border-box;margin-bottom: 0.5em;}#sk-container-id-1 div.sk-estimator:hover {background-color: #d4ebff;}#sk-container-id-1 div.sk-parallel-item::after {content: \"\";width: 100%;border-bottom: 1px solid gray;flex-grow: 1;}#sk-container-id-1 div.sk-label:hover label.sk-toggleable__label {background-color: #d4ebff;}#sk-container-id-1 div.sk-serial::before {content: \"\";position: absolute;border-left: 1px solid gray;box-sizing: border-box;top: 0;bottom: 0;left: 50%;z-index: 0;}#sk-container-id-1 div.sk-serial {display: flex;flex-direction: column;align-items: center;background-color: white;padding-right: 0.2em;padding-left: 0.2em;position: relative;}#sk-container-id-1 div.sk-item {position: relative;z-index: 1;}#sk-container-id-1 div.sk-parallel {display: flex;align-items: stretch;justify-content: center;background-color: white;position: relative;}#sk-container-id-1 div.sk-item::before, #sk-container-id-1 div.sk-parallel-item::before {content: \"\";position: absolute;border-left: 1px solid gray;box-sizing: border-box;top: 0;bottom: 0;left: 50%;z-index: -1;}#sk-container-id-1 div.sk-parallel-item {display: flex;flex-direction: column;z-index: 1;position: relative;background-color: white;}#sk-container-id-1 div.sk-parallel-item:first-child::after {align-self: flex-end;width: 50%;}#sk-container-id-1 div.sk-parallel-item:last-child::after {align-self: flex-start;width: 50%;}#sk-container-id-1 div.sk-parallel-item:only-child::after {width: 0;}#sk-container-id-1 div.sk-dashed-wrapped {border: 1px dashed gray;margin: 0 0.4em 0.5em 0.4em;box-sizing: border-box;padding-bottom: 0.4em;background-color: white;}#sk-container-id-1 div.sk-label label {font-family: monospace;font-weight: bold;display: inline-block;line-height: 1.2em;}#sk-container-id-1 div.sk-label-container {text-align: center;}#sk-container-id-1 div.sk-container {/* jupyter's `normalize.less` sets `[hidden] { display: none; }` but bootstrap.min.css set `[hidden] { display: none !important; }` so we also need the `!important` here to be able to override the default hidden behavior on the sphinx rendered scikit-learn.org. See: https://github.com/scikit-learn/scikit-learn/issues/21755 */display: inline-block !important;position: relative;}#sk-container-id-1 div.sk-text-repr-fallback {display: none;}</style><div id=\"sk-container-id-1\" class=\"sk-top-container\"><div class=\"sk-text-repr-fallback\"><pre>CountVectorizer()</pre><b>In a Jupyter environment, please rerun this cell to show the HTML representation or trust the notebook. <br />On GitHub, the HTML representation is unable to render, please try loading this page with nbviewer.org.</b></div><div class=\"sk-container\" hidden><div class=\"sk-item\"><div class=\"sk-estimator sk-toggleable\"><input class=\"sk-toggleable__control sk-hidden--visually\" id=\"sk-estimator-id-1\" type=\"checkbox\" checked><label for=\"sk-estimator-id-1\" class=\"sk-toggleable__label sk-toggleable__label-arrow\">CountVectorizer</label><div class=\"sk-toggleable__content\"><pre>CountVectorizer()</pre></div></div></div></div></div>"
      ],
      "text/plain": [
       "CountVectorizer()"
      ]
     },
     "execution_count": 7,
     "metadata": {},
     "output_type": "execute_result"
    }
   ],
   "source": [
    "Bag_of_words = CountVectorizer()\n",
    "Bag_of_words.fit(x_train)"
   ]
  },
  {
   "cell_type": "code",
   "execution_count": 9,
   "metadata": {},
   "outputs": [
    {
     "data": {
      "text/plain": [
       "(6674, (3895, 6674), (833, 6674), (835, 6674))"
      ]
     },
     "execution_count": 9,
     "metadata": {},
     "output_type": "execute_result"
    }
   ],
   "source": [
    "train_vocab = Bag_of_words.vocabulary_\n",
    "\n",
    "x_train_bow = Bag_of_words.transform(x_train)\n",
    "x_val_bow = Bag_of_words.transform(x_validation)\n",
    "x_test_bow = Bag_of_words.transform(x_test)\n",
    "\n",
    "len(train_vocab), x_train_bow.shape, x_val_bow.shape, x_test_bow.shape"
   ]
  },
  {
   "cell_type": "code",
   "execution_count": 10,
   "metadata": {},
   "outputs": [
    {
     "data": {
      "text/plain": [
       "((3895, 6674), (833, 6674), (835, 6674))"
      ]
     },
     "execution_count": 10,
     "metadata": {},
     "output_type": "execute_result"
    }
   ],
   "source": [
    "tfidf_transformer = TfidfTransformer().fit(x_train_bow)\n",
    "\n",
    "x_train_tf = tfidf_transformer.transform(x_train_bow)\n",
    "x_val_tf = tfidf_transformer.transform(x_val_bow)\n",
    "x_test_tf = tfidf_transformer.transform(x_test_bow)\n",
    "\n",
    "x_train_tf.shape, x_val_tf.shape, x_test_tf.shape"
   ]
  },
  {
   "cell_type": "code",
   "execution_count": 13,
   "metadata": {},
   "outputs": [
    {
     "name": "stdout",
     "output_type": "stream",
     "text": [
      "0.1 \n",
      "               precision    recall  f1-score   support\n",
      "\n",
      "           0       1.00      0.00      0.00       102\n",
      "           1       0.88      1.00      0.93       731\n",
      "\n",
      "    accuracy                           0.88       833\n",
      "   macro avg       0.94      0.50      0.47       833\n",
      "weighted avg       0.89      0.88      0.82       833\n",
      "\n",
      "0.5 \n",
      "               precision    recall  f1-score   support\n",
      "\n",
      "           0       0.98      0.43      0.60       102\n",
      "           1       0.93      1.00      0.96       731\n",
      "\n",
      "    accuracy                           0.93       833\n",
      "   macro avg       0.95      0.72      0.78       833\n",
      "weighted avg       0.93      0.93      0.92       833\n",
      "\n",
      "1 \n",
      "               precision    recall  f1-score   support\n",
      "\n",
      "           0       0.98      0.60      0.74       102\n",
      "           1       0.95      1.00      0.97       731\n",
      "\n",
      "    accuracy                           0.95       833\n",
      "   macro avg       0.97      0.80      0.86       833\n",
      "weighted avg       0.95      0.95      0.94       833\n",
      "\n",
      "10 \n",
      "               precision    recall  f1-score   support\n",
      "\n",
      "           0       1.00      0.73      0.84       102\n",
      "           1       0.96      1.00      0.98       731\n",
      "\n",
      "    accuracy                           0.97       833\n",
      "   macro avg       0.98      0.86      0.91       833\n",
      "weighted avg       0.97      0.97      0.96       833\n",
      "\n",
      "20 \n",
      "               precision    recall  f1-score   support\n",
      "\n",
      "           0       0.99      0.75      0.85       102\n",
      "           1       0.97      1.00      0.98       731\n",
      "\n",
      "    accuracy                           0.97       833\n",
      "   macro avg       0.98      0.87      0.92       833\n",
      "weighted avg       0.97      0.97      0.97       833\n",
      "\n",
      "50 \n",
      "               precision    recall  f1-score   support\n",
      "\n",
      "           0       0.99      0.77      0.87       102\n",
      "           1       0.97      1.00      0.98       731\n",
      "\n",
      "    accuracy                           0.97       833\n",
      "   macro avg       0.98      0.89      0.93       833\n",
      "weighted avg       0.97      0.97      0.97       833\n",
      "\n",
      "100 \n",
      "               precision    recall  f1-score   support\n",
      "\n",
      "           0       0.98      0.77      0.86       102\n",
      "           1       0.97      1.00      0.98       731\n",
      "\n",
      "    accuracy                           0.97       833\n",
      "   macro avg       0.97      0.89      0.92       833\n",
      "weighted avg       0.97      0.97      0.97       833\n",
      "\n"
     ]
    },
    {
     "name": "stderr",
     "output_type": "stream",
     "text": [
      "/Users/Soham/miniforge3/envs/MLEnv/lib/python3.9/site-packages/sklearn/linear_model/_logistic.py:458: ConvergenceWarning: lbfgs failed to converge (status=1):\n",
      "STOP: TOTAL NO. of ITERATIONS REACHED LIMIT.\n",
      "\n",
      "Increase the number of iterations (max_iter) or scale the data as shown in:\n",
      "    https://scikit-learn.org/stable/modules/preprocessing.html\n",
      "Please also refer to the documentation for alternative solver options:\n",
      "    https://scikit-learn.org/stable/modules/linear_model.html#logistic-regression\n",
      "  n_iter_i = _check_optimize_result(\n"
     ]
    }
   ],
   "source": [
    "for i in [0.1, 0.5, 1, 10, 20, 50, 100]:\n",
    "    log_reg_model = LogisticRegression(C = i)\n",
    "    log_reg_model.fit(x_train_tf, y_train)\n",
    "    y_pred = log_reg_model.predict(x_val_tf)\n",
    "    print(i, \"\\n\", classification_report(y_validation, y_pred, zero_division=1))"
   ]
  },
  {
   "cell_type": "code",
   "execution_count": 15,
   "metadata": {},
   "outputs": [
    {
     "name": "stdout",
     "output_type": "stream",
     "text": [
      "              precision    recall  f1-score   support\n",
      "\n",
      "           0       0.98      0.77      0.86       102\n",
      "           1       0.97      1.00      0.98       731\n",
      "\n",
      "    accuracy                           0.97       833\n",
      "   macro avg       0.97      0.89      0.92       833\n",
      "weighted avg       0.97      0.97      0.97       833\n",
      "\n"
     ]
    }
   ],
   "source": [
    "log_reg_model = LogisticRegression(C = 10)\n",
    "log_reg_model.fit(x_train_tf, y_train)\n",
    "\n",
    "y_test_pred = log_reg_model.predict(x_test_tf)\n",
    "print(classification_report(y_validation, y_pred, zero_division=1))"
   ]
  },
  {
   "cell_type": "code",
   "execution_count": 17,
   "metadata": {},
   "outputs": [
    {
     "name": "stdout",
     "output_type": "stream",
     "text": [
      "0.1 \n",
      "               precision    recall  f1-score   support\n",
      "\n",
      "           0       1.00      0.00      0.00       102\n",
      "           1       0.88      1.00      0.93       731\n",
      "\n",
      "    accuracy                           0.88       833\n",
      "   macro avg       0.94      0.50      0.47       833\n",
      "weighted avg       0.89      0.88      0.82       833\n",
      "\n",
      "0.5 \n",
      "               precision    recall  f1-score   support\n",
      "\n",
      "           0       1.00      0.62      0.76       102\n",
      "           1       0.95      1.00      0.97       731\n",
      "\n",
      "    accuracy                           0.95       833\n",
      "   macro avg       0.97      0.81      0.87       833\n",
      "weighted avg       0.96      0.95      0.95       833\n",
      "\n",
      "1 \n",
      "               precision    recall  f1-score   support\n",
      "\n",
      "           0       1.00      0.71      0.83       102\n",
      "           1       0.96      1.00      0.98       731\n",
      "\n",
      "    accuracy                           0.96       833\n",
      "   macro avg       0.98      0.85      0.90       833\n",
      "weighted avg       0.97      0.96      0.96       833\n",
      "\n",
      "10 \n",
      "               precision    recall  f1-score   support\n",
      "\n",
      "           0       1.00      0.75      0.85       102\n",
      "           1       0.97      1.00      0.98       731\n",
      "\n",
      "    accuracy                           0.97       833\n",
      "   macro avg       0.98      0.87      0.92       833\n",
      "weighted avg       0.97      0.97      0.97       833\n",
      "\n",
      "20 \n",
      "               precision    recall  f1-score   support\n",
      "\n",
      "           0       1.00      0.75      0.85       102\n",
      "           1       0.97      1.00      0.98       731\n",
      "\n",
      "    accuracy                           0.97       833\n",
      "   macro avg       0.98      0.87      0.92       833\n",
      "weighted avg       0.97      0.97      0.97       833\n",
      "\n",
      "50 \n",
      "               precision    recall  f1-score   support\n",
      "\n",
      "           0       1.00      0.75      0.85       102\n",
      "           1       0.97      1.00      0.98       731\n",
      "\n",
      "    accuracy                           0.97       833\n",
      "   macro avg       0.98      0.87      0.92       833\n",
      "weighted avg       0.97      0.97      0.97       833\n",
      "\n",
      "100 \n",
      "               precision    recall  f1-score   support\n",
      "\n",
      "           0       1.00      0.75      0.85       102\n",
      "           1       0.97      1.00      0.98       731\n",
      "\n",
      "    accuracy                           0.97       833\n",
      "   macro avg       0.98      0.87      0.92       833\n",
      "weighted avg       0.97      0.97      0.97       833\n",
      "\n"
     ]
    }
   ],
   "source": [
    "for i in [0.1, 0.5, 1, 10, 20, 50, 100]:\n",
    "    sv = SVC(C = i)\n",
    "    sv.fit(x_train_tf,y_train)\n",
    "    y_pred = sv.predict(x_val_tf)\n",
    "    print(i, \"\\n\", classification_report(y_validation, y_pred, zero_division=1))"
   ]
  },
  {
   "cell_type": "code",
   "execution_count": 18,
   "metadata": {},
   "outputs": [
    {
     "name": "stdout",
     "output_type": "stream",
     "text": [
      "              precision    recall  f1-score   support\n",
      "\n",
      "           0       1.00      0.75      0.85       102\n",
      "           1       0.97      1.00      0.98       731\n",
      "\n",
      "    accuracy                           0.97       833\n",
      "   macro avg       0.98      0.87      0.92       833\n",
      "weighted avg       0.97      0.97      0.97       833\n",
      "\n"
     ]
    }
   ],
   "source": [
    "sv = SVC(C = 50)\n",
    "sv.fit(x_train_tf, y_train)\n",
    "y_test_pred = sv.predict(x_test_tf)\n",
    "print(classification_report(y_validation, y_pred, zero_division=1))"
   ]
  },
  {
   "cell_type": "code",
   "execution_count": null,
   "metadata": {},
   "outputs": [],
   "source": []
  }
 ],
 "metadata": {
  "interpreter": {
   "hash": "145272517bddf6c1595b5c05b017fa375f010a8c8523682c34f84359a8aa7b70"
  },
  "kernelspec": {
   "display_name": "Python 3.9.16",
   "language": "python",
   "name": "python3"
  },
  "language_info": {
   "codemirror_mode": {
    "name": "ipython",
    "version": 3
   },
   "file_extension": ".py",
   "mimetype": "text/x-python",
   "name": "python",
   "nbconvert_exporter": "python",
   "pygments_lexer": "ipython3",
   "version": "3.9.16"
  },
  "orig_nbformat": 4
 },
 "nbformat": 4,
 "nbformat_minor": 2
}
