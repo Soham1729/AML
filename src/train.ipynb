{
 "cells": [
  {
   "cell_type": "markdown",
   "metadata": {},
   "source": [
    "# <center> Applied ML  - Assignment\n",
    "## <center> Soham Pyne (MDS202148) <br><br>"
   ]
  },
  {
   "cell_type": "code",
   "execution_count": 18,
   "metadata": {},
   "outputs": [],
   "source": [
    "from helpers import *"
   ]
  },
  {
   "cell_type": "code",
   "execution_count": 21,
   "metadata": {},
   "outputs": [],
   "source": [
    "train_filepath = '/Users/Soham/Documents/CMI-SEM-4/AML/data/split/train.csv'\n",
    "validation_filepath = '/Users/Soham/Documents/CMI-SEM-4/AML/data/split/validation.csv'\n",
    "test_filepath = '/Users/Soham/Documents/CMI-SEM-4/AML/data/split/test.csv'"
   ]
  },
  {
   "cell_type": "code",
   "execution_count": 25,
   "metadata": {},
   "outputs": [],
   "source": [
    "train_data = pd.read_csv(train_filepath)\n",
    "validation_data = pd.read_csv(validation_filepath)\n",
    "test_data = pd.read_csv(test_filepath)\n",
    "train_data = train_data.dropna() \n",
    "validation_data = validation_data.dropna()\n",
    "test_data = test_data.dropna()"
   ]
  },
  {
   "cell_type": "code",
   "execution_count": 26,
   "metadata": {},
   "outputs": [],
   "source": [
    "x_train, x_validation, x_test =  train_data['transformed_text'], validation_data['transformed_text'], test_data['transformed_text']\n",
    "y_train, y_validation, y_test = train_data['Classification'], validation_data['Classification'], test_data['Classification']"
   ]
  },
  {
   "cell_type": "code",
   "execution_count": 27,
   "metadata": {},
   "outputs": [
    {
     "data": {
      "text/html": [
       "<style>#sk-container-id-2 {color: black;background-color: white;}#sk-container-id-2 pre{padding: 0;}#sk-container-id-2 div.sk-toggleable {background-color: white;}#sk-container-id-2 label.sk-toggleable__label {cursor: pointer;display: block;width: 100%;margin-bottom: 0;padding: 0.3em;box-sizing: border-box;text-align: center;}#sk-container-id-2 label.sk-toggleable__label-arrow:before {content: \"▸\";float: left;margin-right: 0.25em;color: #696969;}#sk-container-id-2 label.sk-toggleable__label-arrow:hover:before {color: black;}#sk-container-id-2 div.sk-estimator:hover label.sk-toggleable__label-arrow:before {color: black;}#sk-container-id-2 div.sk-toggleable__content {max-height: 0;max-width: 0;overflow: hidden;text-align: left;background-color: #f0f8ff;}#sk-container-id-2 div.sk-toggleable__content pre {margin: 0.2em;color: black;border-radius: 0.25em;background-color: #f0f8ff;}#sk-container-id-2 input.sk-toggleable__control:checked~div.sk-toggleable__content {max-height: 200px;max-width: 100%;overflow: auto;}#sk-container-id-2 input.sk-toggleable__control:checked~label.sk-toggleable__label-arrow:before {content: \"▾\";}#sk-container-id-2 div.sk-estimator input.sk-toggleable__control:checked~label.sk-toggleable__label {background-color: #d4ebff;}#sk-container-id-2 div.sk-label input.sk-toggleable__control:checked~label.sk-toggleable__label {background-color: #d4ebff;}#sk-container-id-2 input.sk-hidden--visually {border: 0;clip: rect(1px 1px 1px 1px);clip: rect(1px, 1px, 1px, 1px);height: 1px;margin: -1px;overflow: hidden;padding: 0;position: absolute;width: 1px;}#sk-container-id-2 div.sk-estimator {font-family: monospace;background-color: #f0f8ff;border: 1px dotted black;border-radius: 0.25em;box-sizing: border-box;margin-bottom: 0.5em;}#sk-container-id-2 div.sk-estimator:hover {background-color: #d4ebff;}#sk-container-id-2 div.sk-parallel-item::after {content: \"\";width: 100%;border-bottom: 1px solid gray;flex-grow: 1;}#sk-container-id-2 div.sk-label:hover label.sk-toggleable__label {background-color: #d4ebff;}#sk-container-id-2 div.sk-serial::before {content: \"\";position: absolute;border-left: 1px solid gray;box-sizing: border-box;top: 0;bottom: 0;left: 50%;z-index: 0;}#sk-container-id-2 div.sk-serial {display: flex;flex-direction: column;align-items: center;background-color: white;padding-right: 0.2em;padding-left: 0.2em;position: relative;}#sk-container-id-2 div.sk-item {position: relative;z-index: 1;}#sk-container-id-2 div.sk-parallel {display: flex;align-items: stretch;justify-content: center;background-color: white;position: relative;}#sk-container-id-2 div.sk-item::before, #sk-container-id-2 div.sk-parallel-item::before {content: \"\";position: absolute;border-left: 1px solid gray;box-sizing: border-box;top: 0;bottom: 0;left: 50%;z-index: -1;}#sk-container-id-2 div.sk-parallel-item {display: flex;flex-direction: column;z-index: 1;position: relative;background-color: white;}#sk-container-id-2 div.sk-parallel-item:first-child::after {align-self: flex-end;width: 50%;}#sk-container-id-2 div.sk-parallel-item:last-child::after {align-self: flex-start;width: 50%;}#sk-container-id-2 div.sk-parallel-item:only-child::after {width: 0;}#sk-container-id-2 div.sk-dashed-wrapped {border: 1px dashed gray;margin: 0 0.4em 0.5em 0.4em;box-sizing: border-box;padding-bottom: 0.4em;background-color: white;}#sk-container-id-2 div.sk-label label {font-family: monospace;font-weight: bold;display: inline-block;line-height: 1.2em;}#sk-container-id-2 div.sk-label-container {text-align: center;}#sk-container-id-2 div.sk-container {/* jupyter's `normalize.less` sets `[hidden] { display: none; }` but bootstrap.min.css set `[hidden] { display: none !important; }` so we also need the `!important` here to be able to override the default hidden behavior on the sphinx rendered scikit-learn.org. See: https://github.com/scikit-learn/scikit-learn/issues/21755 */display: inline-block !important;position: relative;}#sk-container-id-2 div.sk-text-repr-fallback {display: none;}</style><div id=\"sk-container-id-2\" class=\"sk-top-container\"><div class=\"sk-text-repr-fallback\"><pre>CountVectorizer()</pre><b>In a Jupyter environment, please rerun this cell to show the HTML representation or trust the notebook. <br />On GitHub, the HTML representation is unable to render, please try loading this page with nbviewer.org.</b></div><div class=\"sk-container\" hidden><div class=\"sk-item\"><div class=\"sk-estimator sk-toggleable\"><input class=\"sk-toggleable__control sk-hidden--visually\" id=\"sk-estimator-id-2\" type=\"checkbox\" checked><label for=\"sk-estimator-id-2\" class=\"sk-toggleable__label sk-toggleable__label-arrow\">CountVectorizer</label><div class=\"sk-toggleable__content\"><pre>CountVectorizer()</pre></div></div></div></div></div>"
      ],
      "text/plain": [
       "CountVectorizer()"
      ]
     },
     "execution_count": 27,
     "metadata": {},
     "output_type": "execute_result"
    }
   ],
   "source": [
    "Bag_of_words = CountVectorizer()\n",
    "Bag_of_words.fit(x_train)"
   ]
  },
  {
   "cell_type": "code",
   "execution_count": 28,
   "metadata": {},
   "outputs": [
    {
     "data": {
      "text/plain": [
       "(5533, (3892, 5533), (835, 5533), (836, 5533))"
      ]
     },
     "execution_count": 28,
     "metadata": {},
     "output_type": "execute_result"
    }
   ],
   "source": [
    "train_vocab = Bag_of_words.vocabulary_\n",
    "\n",
    "x_train_bow = Bag_of_words.transform(x_train)\n",
    "x_val_bow = Bag_of_words.transform(x_val)\n",
    "x_test_bow = Bag_of_words.transform(x_test)\n",
    "\n",
    "len(train_vocab), x_train_bow.shape, x_val_bow.shape, x_test_bow.shape"
   ]
  },
  {
   "cell_type": "code",
   "execution_count": 29,
   "metadata": {},
   "outputs": [
    {
     "data": {
      "text/plain": [
       "((3892, 5533), (835, 5533), (836, 5533))"
      ]
     },
     "execution_count": 29,
     "metadata": {},
     "output_type": "execute_result"
    }
   ],
   "source": [
    "tfidf_transformer = TfidfTransformer().fit(x_train_bow)\n",
    "\n",
    "x_train_tf = tfidf_transformer.transform(x_train_bow)\n",
    "x_val_tf = tfidf_transformer.transform(x_val_bow)\n",
    "x_test_tf = tfidf_transformer.transform(x_test_bow)\n",
    "\n",
    "x_train_tf.shape, x_val_tf.shape, x_test_tf.shape"
   ]
  },
  {
   "cell_type": "code",
   "execution_count": 31,
   "metadata": {},
   "outputs": [
    {
     "name": "stdout",
     "output_type": "stream",
     "text": [
      "accuracy of Logistic Regression : 0.9569377990430622 \n",
      "F1 score of Logistic Regression : 0.9758713136729222 \n",
      "confusion_matrix is \n",
      " [[ 72  35]\n",
      " [  1 728]]\n",
      "precision_score =  0.9541284403669725\n",
      "Recall score: 0.9986282578875172\n"
     ]
    }
   ],
   "source": [
    "def logisticregression_model(x_test_tf,y_test):\n",
    "    \n",
    "    Log = LogisticRegression()\n",
    "    Log.fit(x_train_tf,y_train)\n",
    "    log_pre = Log.predict(x_test_tf)\n",
    "    print(f'accuracy of Logistic Regression : {Log.score(x_test_tf,y_test)} ')\n",
    "    print(f'F1 score of Logistic Regression : {f1_score(y_test,log_pre)} ')\n",
    "    print('confusion_matrix is \\n',confusion_matrix(y_test,log_pre))\n",
    "    print('precision_score = ',precision_score(y_test,log_pre))\n",
    "    print('Recall score: {}'.format(recall_score(y_test,log_pre)))\n",
    "    \n",
    "logisticregression_model(x_test_tf,y_test)"
   ]
  },
  {
   "cell_type": "code",
   "execution_count": 32,
   "metadata": {},
   "outputs": [
    {
     "name": "stdout",
     "output_type": "stream",
     "text": [
      "accuracy of SVM : 0.9748803827751196 \n",
      "F1 score of SVM : 0.9858012170385395 \n",
      "confusion_matrix is \n",
      " [[ 86  21]\n",
      " [  0 729]]\n",
      "precision_score =  0.972\n",
      "Recall score: 1.0\n"
     ]
    }
   ],
   "source": [
    "def svm_model(x_test_tf,y_test):\n",
    "    sv = SVC()\n",
    "    sv.fit(x_train_tf,y_train)\n",
    "    sv_pre = sv.predict(x_test_tf)\n",
    "    print(f'accuracy of SVM : {sv.score(x_test_tf,y_test)} ')\n",
    "    print(f'F1 score of SVM : {f1_score(y_test,sv_pre)} ')\n",
    "    print('confusion_matrix is \\n',confusion_matrix(y_test,sv_pre))\n",
    "    print('precision_score = ',precision_score(y_test,sv_pre))\n",
    "    print('Recall score: {}'.format(recall_score(y_test,sv_pre)))\n",
    "    \n",
    "svm_model(x_test_tf,y_test)"
   ]
  }
 ],
 "metadata": {
  "language_info": {
   "name": "python"
  },
  "orig_nbformat": 4
 },
 "nbformat": 4,
 "nbformat_minor": 2
}
