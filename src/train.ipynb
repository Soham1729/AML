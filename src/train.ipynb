{
 "cells": [
  {
   "cell_type": "markdown",
   "metadata": {},
   "source": [
    "# <center> Applied ML  - Assignment\n",
    "## <center> Soham Pyne (MDS202148) <br><br>"
   ]
  },
  {
   "cell_type": "code",
   "execution_count": 94,
   "metadata": {},
   "outputs": [],
   "source": [
    "from helpers import *"
   ]
  },
  {
   "cell_type": "code",
   "execution_count": 95,
   "metadata": {},
   "outputs": [],
   "source": [
    "train_filepath = '/Users/Soham/Documents/CMI-SEM-4/AML/data/split/train.csv'\n",
    "validation_filepath = '/Users/Soham/Documents/CMI-SEM-4/AML/data/split/validation.csv'\n",
    "test_filepath = '/Users/Soham/Documents/CMI-SEM-4/AML/data/split/test.csv'"
   ]
  },
  {
   "cell_type": "code",
   "execution_count": 96,
   "metadata": {},
   "outputs": [],
   "source": [
    "train_data = pd.read_csv(train_filepath)\n",
    "validation_data = pd.read_csv(validation_filepath)\n",
    "test_data = pd.read_csv(test_filepath)\n",
    "train_data = train_data.dropna() \n",
    "validation_data = validation_data.dropna()\n",
    "test_data = test_data.dropna()"
   ]
  },
  {
   "cell_type": "code",
   "execution_count": 97,
   "metadata": {},
   "outputs": [],
   "source": [
    "x_train, x_validation, x_test =  train_data['transformed_text'], validation_data['transformed_text'], test_data['transformed_text']\n",
    "y_train, y_validation, y_test = train_data['Classification'], validation_data['Classification'], test_data['Classification']"
   ]
  },
  {
   "cell_type": "code",
   "execution_count": 98,
   "metadata": {},
   "outputs": [
    {
     "data": {
      "text/html": [
       "<style>#sk-container-id-4 {color: black;background-color: white;}#sk-container-id-4 pre{padding: 0;}#sk-container-id-4 div.sk-toggleable {background-color: white;}#sk-container-id-4 label.sk-toggleable__label {cursor: pointer;display: block;width: 100%;margin-bottom: 0;padding: 0.3em;box-sizing: border-box;text-align: center;}#sk-container-id-4 label.sk-toggleable__label-arrow:before {content: \"▸\";float: left;margin-right: 0.25em;color: #696969;}#sk-container-id-4 label.sk-toggleable__label-arrow:hover:before {color: black;}#sk-container-id-4 div.sk-estimator:hover label.sk-toggleable__label-arrow:before {color: black;}#sk-container-id-4 div.sk-toggleable__content {max-height: 0;max-width: 0;overflow: hidden;text-align: left;background-color: #f0f8ff;}#sk-container-id-4 div.sk-toggleable__content pre {margin: 0.2em;color: black;border-radius: 0.25em;background-color: #f0f8ff;}#sk-container-id-4 input.sk-toggleable__control:checked~div.sk-toggleable__content {max-height: 200px;max-width: 100%;overflow: auto;}#sk-container-id-4 input.sk-toggleable__control:checked~label.sk-toggleable__label-arrow:before {content: \"▾\";}#sk-container-id-4 div.sk-estimator input.sk-toggleable__control:checked~label.sk-toggleable__label {background-color: #d4ebff;}#sk-container-id-4 div.sk-label input.sk-toggleable__control:checked~label.sk-toggleable__label {background-color: #d4ebff;}#sk-container-id-4 input.sk-hidden--visually {border: 0;clip: rect(1px 1px 1px 1px);clip: rect(1px, 1px, 1px, 1px);height: 1px;margin: -1px;overflow: hidden;padding: 0;position: absolute;width: 1px;}#sk-container-id-4 div.sk-estimator {font-family: monospace;background-color: #f0f8ff;border: 1px dotted black;border-radius: 0.25em;box-sizing: border-box;margin-bottom: 0.5em;}#sk-container-id-4 div.sk-estimator:hover {background-color: #d4ebff;}#sk-container-id-4 div.sk-parallel-item::after {content: \"\";width: 100%;border-bottom: 1px solid gray;flex-grow: 1;}#sk-container-id-4 div.sk-label:hover label.sk-toggleable__label {background-color: #d4ebff;}#sk-container-id-4 div.sk-serial::before {content: \"\";position: absolute;border-left: 1px solid gray;box-sizing: border-box;top: 0;bottom: 0;left: 50%;z-index: 0;}#sk-container-id-4 div.sk-serial {display: flex;flex-direction: column;align-items: center;background-color: white;padding-right: 0.2em;padding-left: 0.2em;position: relative;}#sk-container-id-4 div.sk-item {position: relative;z-index: 1;}#sk-container-id-4 div.sk-parallel {display: flex;align-items: stretch;justify-content: center;background-color: white;position: relative;}#sk-container-id-4 div.sk-item::before, #sk-container-id-4 div.sk-parallel-item::before {content: \"\";position: absolute;border-left: 1px solid gray;box-sizing: border-box;top: 0;bottom: 0;left: 50%;z-index: -1;}#sk-container-id-4 div.sk-parallel-item {display: flex;flex-direction: column;z-index: 1;position: relative;background-color: white;}#sk-container-id-4 div.sk-parallel-item:first-child::after {align-self: flex-end;width: 50%;}#sk-container-id-4 div.sk-parallel-item:last-child::after {align-self: flex-start;width: 50%;}#sk-container-id-4 div.sk-parallel-item:only-child::after {width: 0;}#sk-container-id-4 div.sk-dashed-wrapped {border: 1px dashed gray;margin: 0 0.4em 0.5em 0.4em;box-sizing: border-box;padding-bottom: 0.4em;background-color: white;}#sk-container-id-4 div.sk-label label {font-family: monospace;font-weight: bold;display: inline-block;line-height: 1.2em;}#sk-container-id-4 div.sk-label-container {text-align: center;}#sk-container-id-4 div.sk-container {/* jupyter's `normalize.less` sets `[hidden] { display: none; }` but bootstrap.min.css set `[hidden] { display: none !important; }` so we also need the `!important` here to be able to override the default hidden behavior on the sphinx rendered scikit-learn.org. See: https://github.com/scikit-learn/scikit-learn/issues/21755 */display: inline-block !important;position: relative;}#sk-container-id-4 div.sk-text-repr-fallback {display: none;}</style><div id=\"sk-container-id-4\" class=\"sk-top-container\"><div class=\"sk-text-repr-fallback\"><pre>CountVectorizer()</pre><b>In a Jupyter environment, please rerun this cell to show the HTML representation or trust the notebook. <br />On GitHub, the HTML representation is unable to render, please try loading this page with nbviewer.org.</b></div><div class=\"sk-container\" hidden><div class=\"sk-item\"><div class=\"sk-estimator sk-toggleable\"><input class=\"sk-toggleable__control sk-hidden--visually\" id=\"sk-estimator-id-4\" type=\"checkbox\" checked><label for=\"sk-estimator-id-4\" class=\"sk-toggleable__label sk-toggleable__label-arrow\">CountVectorizer</label><div class=\"sk-toggleable__content\"><pre>CountVectorizer()</pre></div></div></div></div></div>"
      ],
      "text/plain": [
       "CountVectorizer()"
      ]
     },
     "execution_count": 98,
     "metadata": {},
     "output_type": "execute_result"
    }
   ],
   "source": [
    "Bag_of_words = CountVectorizer()\n",
    "Bag_of_words.fit(x_train)"
   ]
  },
  {
   "cell_type": "code",
   "execution_count": 99,
   "metadata": {},
   "outputs": [
    {
     "data": {
      "text/plain": [
       "(6674, (3895, 6674), (833, 6674), (835, 6674))"
      ]
     },
     "execution_count": 99,
     "metadata": {},
     "output_type": "execute_result"
    }
   ],
   "source": [
    "train_vocab = Bag_of_words.vocabulary_\n",
    "\n",
    "x_train_bow = Bag_of_words.transform(x_train)\n",
    "x_val_bow = Bag_of_words.transform(x_validation)\n",
    "x_test_bow = Bag_of_words.transform(x_test)\n",
    "\n",
    "len(train_vocab), x_train_bow.shape, x_val_bow.shape, x_test_bow.shape"
   ]
  },
  {
   "cell_type": "code",
   "execution_count": 100,
   "metadata": {},
   "outputs": [
    {
     "data": {
      "text/plain": [
       "((3895, 6674), (833, 6674), (835, 6674))"
      ]
     },
     "execution_count": 100,
     "metadata": {},
     "output_type": "execute_result"
    }
   ],
   "source": [
    "tfidf_transformer = TfidfTransformer().fit(x_train_bow)\n",
    "\n",
    "x_train_tf = tfidf_transformer.transform(x_train_bow)\n",
    "x_val_tf = tfidf_transformer.transform(x_val_bow)\n",
    "x_test_tf = tfidf_transformer.transform(x_test_bow)\n",
    "\n",
    "x_train_tf.shape, x_val_tf.shape, x_test_tf.shape"
   ]
  },
  {
   "cell_type": "code",
   "execution_count": 101,
   "metadata": {},
   "outputs": [
    {
     "name": "stdout",
     "output_type": "stream",
     "text": [
      "0.001 \n",
      "               precision    recall  f1-score   support\n",
      "\n",
      "           0       1.00      0.00      0.00       102\n",
      "           1       0.88      1.00      0.93       731\n",
      "\n",
      "    accuracy                           0.88       833\n",
      "   macro avg       0.94      0.50      0.47       833\n",
      "weighted avg       0.89      0.88      0.82       833\n",
      "\n",
      "0.01 \n",
      "               precision    recall  f1-score   support\n",
      "\n",
      "           0       1.00      0.00      0.00       102\n",
      "           1       0.88      1.00      0.93       731\n",
      "\n",
      "    accuracy                           0.88       833\n",
      "   macro avg       0.94      0.50      0.47       833\n",
      "weighted avg       0.89      0.88      0.82       833\n",
      "\n",
      "0.1 \n",
      "               precision    recall  f1-score   support\n",
      "\n",
      "           0       1.00      0.00      0.00       102\n",
      "           1       0.88      1.00      0.93       731\n",
      "\n",
      "    accuracy                           0.88       833\n",
      "   macro avg       0.94      0.50      0.47       833\n",
      "weighted avg       0.89      0.88      0.82       833\n",
      "\n",
      "1 \n",
      "               precision    recall  f1-score   support\n",
      "\n",
      "           0       0.98      0.60      0.74       102\n",
      "           1       0.95      1.00      0.97       731\n",
      "\n",
      "    accuracy                           0.95       833\n",
      "   macro avg       0.97      0.80      0.86       833\n",
      "weighted avg       0.95      0.95      0.94       833\n",
      "\n",
      "10 \n",
      "               precision    recall  f1-score   support\n",
      "\n",
      "           0       1.00      0.73      0.84       102\n",
      "           1       0.96      1.00      0.98       731\n",
      "\n",
      "    accuracy                           0.97       833\n",
      "   macro avg       0.98      0.86      0.91       833\n",
      "weighted avg       0.97      0.97      0.96       833\n",
      "\n",
      "20 \n",
      "               precision    recall  f1-score   support\n",
      "\n",
      "           0       0.99      0.75      0.85       102\n",
      "           1       0.97      1.00      0.98       731\n",
      "\n",
      "    accuracy                           0.97       833\n",
      "   macro avg       0.98      0.87      0.92       833\n",
      "weighted avg       0.97      0.97      0.97       833\n",
      "\n",
      "30 \n",
      "               precision    recall  f1-score   support\n",
      "\n",
      "           0       0.99      0.77      0.87       102\n",
      "           1       0.97      1.00      0.98       731\n",
      "\n",
      "    accuracy                           0.97       833\n",
      "   macro avg       0.98      0.89      0.93       833\n",
      "weighted avg       0.97      0.97      0.97       833\n",
      "\n"
     ]
    }
   ],
   "source": [
    "for i in [0.001, 0.01, 0.1, 1, 10, 20, 30]:\n",
    "    log_reg_model = LogisticRegression(C = i)\n",
    "    log_reg_model.fit(x_train_tf, y_train)\n",
    "    y_pred = log_reg_model.predict(x_val_tf)\n",
    "    print(i, \"\\n\", classification_report(y_validation, y_pred, zero_division=1))"
   ]
  },
  {
   "cell_type": "code",
   "execution_count": 102,
   "metadata": {},
   "outputs": [
    {
     "name": "stdout",
     "output_type": "stream",
     "text": [
      "              precision    recall  f1-score   support\n",
      "\n",
      "           0       0.99      0.77      0.87       102\n",
      "           1       0.97      1.00      0.98       731\n",
      "\n",
      "    accuracy                           0.97       833\n",
      "   macro avg       0.98      0.89      0.93       833\n",
      "weighted avg       0.97      0.97      0.97       833\n",
      "\n"
     ]
    }
   ],
   "source": [
    "log_reg_model = LogisticRegression(C = 10)\n",
    "log_reg_model.fit(x_train_tf, y_train)\n",
    "\n",
    "y_test_pred = log_reg_model.predict(x_test_tf)\n",
    "print(classification_report(y_validation, y_pred, zero_division=1))"
   ]
  },
  {
   "cell_type": "code",
   "execution_count": 103,
   "metadata": {},
   "outputs": [
    {
     "name": "stdout",
     "output_type": "stream",
     "text": [
      "0.001 \n",
      "               precision    recall  f1-score   support\n",
      "\n",
      "           0       1.00      0.00      0.00       102\n",
      "           1       0.88      1.00      0.93       731\n",
      "\n",
      "    accuracy                           0.88       833\n",
      "   macro avg       0.94      0.50      0.47       833\n",
      "weighted avg       0.89      0.88      0.82       833\n",
      "\n",
      "0.01 \n",
      "               precision    recall  f1-score   support\n",
      "\n",
      "           0       1.00      0.00      0.00       102\n",
      "           1       0.88      1.00      0.93       731\n",
      "\n",
      "    accuracy                           0.88       833\n",
      "   macro avg       0.94      0.50      0.47       833\n",
      "weighted avg       0.89      0.88      0.82       833\n",
      "\n",
      "0.1 \n",
      "               precision    recall  f1-score   support\n",
      "\n",
      "           0       1.00      0.00      0.00       102\n",
      "           1       0.88      1.00      0.93       731\n",
      "\n",
      "    accuracy                           0.88       833\n",
      "   macro avg       0.94      0.50      0.47       833\n",
      "weighted avg       0.89      0.88      0.82       833\n",
      "\n",
      "1 \n",
      "               precision    recall  f1-score   support\n",
      "\n",
      "           0       1.00      0.71      0.83       102\n",
      "           1       0.96      1.00      0.98       731\n",
      "\n",
      "    accuracy                           0.96       833\n",
      "   macro avg       0.98      0.85      0.90       833\n",
      "weighted avg       0.97      0.96      0.96       833\n",
      "\n",
      "10 \n",
      "               precision    recall  f1-score   support\n",
      "\n",
      "           0       1.00      0.75      0.85       102\n",
      "           1       0.97      1.00      0.98       731\n",
      "\n",
      "    accuracy                           0.97       833\n",
      "   macro avg       0.98      0.87      0.92       833\n",
      "weighted avg       0.97      0.97      0.97       833\n",
      "\n",
      "20 \n",
      "               precision    recall  f1-score   support\n",
      "\n",
      "           0       1.00      0.75      0.85       102\n",
      "           1       0.97      1.00      0.98       731\n",
      "\n",
      "    accuracy                           0.97       833\n",
      "   macro avg       0.98      0.87      0.92       833\n",
      "weighted avg       0.97      0.97      0.97       833\n",
      "\n",
      "30 \n",
      "               precision    recall  f1-score   support\n",
      "\n",
      "           0       1.00      0.75      0.85       102\n",
      "           1       0.97      1.00      0.98       731\n",
      "\n",
      "    accuracy                           0.97       833\n",
      "   macro avg       0.98      0.87      0.92       833\n",
      "weighted avg       0.97      0.97      0.97       833\n",
      "\n"
     ]
    }
   ],
   "source": [
    "for i in [0.001, 0.01, 0.1, 1, 10, 20, 30]:\n",
    "    sv = SVC(C = i)\n",
    "    sv.fit(x_train_tf,y_train)\n",
    "    y_pred = sv.predict(x_val_tf)\n",
    "    print(i, \"\\n\", classification_report(y_validation, y_pred, zero_division=1))"
   ]
  },
  {
   "cell_type": "code",
   "execution_count": 104,
   "metadata": {},
   "outputs": [
    {
     "name": "stdout",
     "output_type": "stream",
     "text": [
      "              precision    recall  f1-score   support\n",
      "\n",
      "           0       1.00      0.75      0.85       102\n",
      "           1       0.97      1.00      0.98       731\n",
      "\n",
      "    accuracy                           0.97       833\n",
      "   macro avg       0.98      0.87      0.92       833\n",
      "weighted avg       0.97      0.97      0.97       833\n",
      "\n"
     ]
    }
   ],
   "source": [
    "sv = SVC(C = 20)\n",
    "sv.fit(x_train_tf, y_train)\n",
    "y_test_pred = sv.predict(x_test_tf)\n",
    "print(classification_report(y_validation, y_pred, zero_division=1))"
   ]
  },
  {
   "cell_type": "code",
   "execution_count": 105,
   "metadata": {},
   "outputs": [
    {
     "name": "stdout",
     "output_type": "stream",
     "text": [
      "5 \n",
      "               precision    recall  f1-score   support\n",
      "\n",
      "           0       1.00      0.75      0.85       102\n",
      "           1       0.97      1.00      0.98       731\n",
      "\n",
      "    accuracy                           0.97       833\n",
      "   macro avg       0.98      0.87      0.92       833\n",
      "weighted avg       0.97      0.97      0.97       833\n",
      "\n",
      "10 \n",
      "               precision    recall  f1-score   support\n",
      "\n",
      "           0       1.00      0.75      0.85       102\n",
      "           1       0.97      1.00      0.98       731\n",
      "\n",
      "    accuracy                           0.97       833\n",
      "   macro avg       0.98      0.87      0.92       833\n",
      "weighted avg       0.97      0.97      0.97       833\n",
      "\n",
      "15 \n",
      "               precision    recall  f1-score   support\n",
      "\n",
      "           0       1.00      0.75      0.85       102\n",
      "           1       0.97      1.00      0.98       731\n",
      "\n",
      "    accuracy                           0.97       833\n",
      "   macro avg       0.98      0.87      0.92       833\n",
      "weighted avg       0.97      0.97      0.97       833\n",
      "\n",
      "18 \n",
      "               precision    recall  f1-score   support\n",
      "\n",
      "           0       1.00      0.75      0.85       102\n",
      "           1       0.97      1.00      0.98       731\n",
      "\n",
      "    accuracy                           0.97       833\n",
      "   macro avg       0.98      0.87      0.92       833\n",
      "weighted avg       0.97      0.97      0.97       833\n",
      "\n",
      "21 \n",
      "               precision    recall  f1-score   support\n",
      "\n",
      "           0       1.00      0.75      0.85       102\n",
      "           1       0.97      1.00      0.98       731\n",
      "\n",
      "    accuracy                           0.97       833\n",
      "   macro avg       0.98      0.87      0.92       833\n",
      "weighted avg       0.97      0.97      0.97       833\n",
      "\n",
      "25 \n",
      "               precision    recall  f1-score   support\n",
      "\n",
      "           0       1.00      0.75      0.85       102\n",
      "           1       0.97      1.00      0.98       731\n",
      "\n",
      "    accuracy                           0.97       833\n",
      "   macro avg       0.98      0.87      0.92       833\n",
      "weighted avg       0.97      0.97      0.97       833\n",
      "\n",
      "30 \n",
      "               precision    recall  f1-score   support\n",
      "\n",
      "           0       1.00      0.75      0.85       102\n",
      "           1       0.97      1.00      0.98       731\n",
      "\n",
      "    accuracy                           0.97       833\n",
      "   macro avg       0.98      0.87      0.92       833\n",
      "weighted avg       0.97      0.97      0.97       833\n",
      "\n"
     ]
    }
   ],
   "source": [
    "for i in [5,10,15,18,21,25,30]:\n",
    "    DT = DecisionTreeClassifier(criterion = \"gini\", random_state = 123,max_depth = i, min_samples_leaf=6)\n",
    "    DT.fit(x_train_tf,y_train)\n",
    "    y_pred = sv.predict(x_val_tf)\n",
    "    print(i, \"\\n\", classification_report(y_validation, y_pred, zero_division=1))"
   ]
  },
  {
   "cell_type": "code",
   "execution_count": 106,
   "metadata": {},
   "outputs": [
    {
     "name": "stdout",
     "output_type": "stream",
     "text": [
      "              precision    recall  f1-score   support\n",
      "\n",
      "           0       1.00      0.75      0.85       102\n",
      "           1       0.97      1.00      0.98       731\n",
      "\n",
      "    accuracy                           0.97       833\n",
      "   macro avg       0.98      0.87      0.92       833\n",
      "weighted avg       0.97      0.97      0.97       833\n",
      "\n"
     ]
    }
   ],
   "source": [
    "DT = DecisionTreeClassifier(criterion = \"gini\", random_state = 123,max_depth = 15, min_samples_leaf=6)\n",
    "DT.fit(x_train_tf, y_train)\n",
    "y_test_pred = DT.predict(x_test_tf)\n",
    "print(classification_report(y_validation, y_pred, zero_division=1))"
   ]
  },
  {
   "cell_type": "markdown",
   "metadata": {},
   "source": [
    "### We are getting similar acuuracy scores in the three models so we choose Logistic regression in our test"
   ]
  },
  {
   "cell_type": "markdown",
   "metadata": {},
   "source": [
    "## Logistic regression model"
   ]
  },
  {
   "cell_type": "code",
   "execution_count": 107,
   "metadata": {},
   "outputs": [],
   "source": [
    "def lr_model(x_train_tf, y_train, x_val_tf, y_val, c):\n",
    "    lr_model = LogisticRegression(C = c)\n",
    "    lr_model.fit(x_train_tf, y_train)\n",
    "    y_pred = log_reg_model.predict(x_val_tf)\n",
    "    \n",
    "    acc_score = accuracy_score(y_val, y_pred)\n",
    "    \n",
    "    precision, recall,_ = precision_recall_curve(y_val, y_pred)\n",
    "    \n",
    "    #AUPCR calculation\n",
    "    aupcr = auc(recall, precision)\n",
    "\n",
    "    conf_mat = confusion_matrix(y_val, y_pred)\n",
    "\n",
    "    return [log_reg_model, acc_score, aupcr, conf_mat]"
   ]
  },
  {
   "cell_type": "markdown",
   "metadata": {},
   "source": [
    "## SVM model"
   ]
  },
  {
   "cell_type": "code",
   "execution_count": 108,
   "metadata": {},
   "outputs": [],
   "source": [
    "def svm_model(x_train_tf, y_train, x_val_tf, y_val, c):\n",
    "    sv_model = SVC(C = c)\n",
    "    sv_model.fit(x_train_tf,y_train)\n",
    "    y_pred = sv.predict(x_val_tf)\n",
    "    \n",
    "    acc_score = accuracy_score(y_val, y_pred)\n",
    "    \n",
    "\n",
    "    precision, recall,_ = precision_recall_curve(y_val, y_pred)\n",
    "    \n",
    "    #AUPCR calculation\n",
    "    aupcr = auc(recall, precision)\n",
    "\n",
    "    conf_mat = confusion_matrix(y_val, y_pred)\n",
    "\n",
    "    return [sv_model, acc_score, aupcr, conf_mat]"
   ]
  },
  {
   "cell_type": "markdown",
   "metadata": {},
   "source": [
    "## Decision tree model"
   ]
  },
  {
   "cell_type": "code",
   "execution_count": 109,
   "metadata": {},
   "outputs": [],
   "source": [
    "def dt_model(x_train_tf, y_train, x_val_tf, y_val, c):\n",
    "    dt_model = DecisionTreeClassifier(criterion = \"gini\", random_state = 123,max_depth = c, min_samples_leaf=6)\n",
    "    dt_model.fit(x_train_tf,y_train)\n",
    "    y_pred = sv.predict(x_val_tf)\n",
    "    \n",
    "    acc_score = accuracy_score(y_val, y_pred)\n",
    "    \n",
    "\n",
    "    precision, recall,_ = precision_recall_curve(y_val, y_pred)\n",
    "    \n",
    "    #AUPCR calculation\n",
    "    aupcr = auc(recall, precision)\n",
    "\n",
    "    conf_mat = confusion_matrix(y_val, y_pred)\n",
    "\n",
    "    return [dt_model, acc_score, aupcr, conf_mat]"
   ]
  },
  {
   "cell_type": "markdown",
   "metadata": {},
   "source": [
    "### Saving the models"
   ]
  },
  {
   "cell_type": "code",
   "execution_count": 113,
   "metadata": {},
   "outputs": [],
   "source": [
    "bag_of_words_file_name = \"/Users/Soham/Documents/CMI-SEM-4/AML/src/models/bow.sav\"\n",
    "tfidf_file_name = \"/Users/Soham/Documents/CMI-SEM-4/AML/src/models/tfidf.sav\"\n",
    "lr_model_file_name = \"/Users/Soham/Documents/CMI-SEM-4/AML/src/models/lr_model.sav\"\n",
    "\n",
    "pkl.dump(Bag_of_words, open(bag_of_words_file_name, \"wb\"))\n",
    "pkl.dump(tfidf_transformer, open(tfidf_file_name, \"wb\"))\n",
    "pkl.dump(log_reg_model, open(lr_model_file_name, \"wb\"))"
   ]
  },
  {
   "cell_type": "markdown",
   "metadata": {},
   "source": [
    "### Tracking using MLFlow"
   ]
  },
  {
   "cell_type": "code",
   "execution_count": null,
   "metadata": {},
   "outputs": [
    {
     "ename": "AttributeError",
     "evalue": "module 'mlflow' has no attribute 'sklearn'",
     "output_type": "error",
     "traceback": [
      "\u001b[0;31m---------------------------------------------------------------------------\u001b[0m",
      "\u001b[0;31mAttributeError\u001b[0m                            Traceback (most recent call last)",
      "Cell \u001b[0;32mIn[89], line 1\u001b[0m\n\u001b[0;32m----> 1\u001b[0m \u001b[43mmlflow\u001b[49m\u001b[38;5;241;43m.\u001b[39;49m\u001b[43msklearn\u001b[49m\u001b[38;5;241m.\u001b[39mautolog()\n\u001b[1;32m      3\u001b[0m md_name \u001b[38;5;241m=\u001b[39m \u001b[38;5;124m\"\u001b[39m\u001b[38;5;124mLogistic regression model\u001b[39m\u001b[38;5;124m\"\u001b[39m \n\u001b[1;32m      5\u001b[0m \u001b[38;5;28;01mfor\u001b[39;00m i \u001b[38;5;129;01min\u001b[39;00m [\u001b[38;5;241m0.001\u001b[39m, \u001b[38;5;241m0.01\u001b[39m, \u001b[38;5;241m0.1\u001b[39m, \u001b[38;5;241m1\u001b[39m, \u001b[38;5;241m10\u001b[39m, \u001b[38;5;241m20\u001b[39m, \u001b[38;5;241m30\u001b[39m]:\n",
      "\u001b[0;31mAttributeError\u001b[0m: module 'mlflow' has no attribute 'sklearn'"
     ]
    }
   ],
   "source": [
    "mlflow.sklearn.autolog()\n",
    "\n",
    "md_name = \"Logistic regression model\" \n",
    "\n",
    "for i in [0.001, 0.01, 0.1, 1, 10, 20, 30]:\n",
    "    with mlflow.start_run(run_name = f\"Model : {md_name}, C : {i}\"):\n",
    "        \n",
    "        #Log parameters\n",
    "        mlflow.log_param(\"C\",i)\n",
    "\n",
    "        #Running the model\n",
    "        model_metrics = lr_model(x_train_tf, y_train, x_val_tf, y_validation, i)\n",
    "\n",
    "        #Logging metrics\n",
    "        mlflow.log_metric(\"Accuracy\", model_metrics[1])\n",
    "        mlflow.log_metric(\"AUPCR\", model_metrics[2])\n",
    "\n",
    "        #Logging JSON of confusion matrix\n",
    "        mlflow.log_dict(np.array(model_metrics[3]).tolist(), \"confusion_matrix.json\")\n",
    "        mlflow.sklearn.log_model(model_metrics[0], \"model\")\n",
    "\n",
    "        tracking_url_type_store = urlparse(mlflow.get_tracking_uri()).scheme\n",
    "        mlflow.sklearn.log_model(\n",
    "            sk_model = model_metrics[0],\n",
    "            artifact_path=\"sklearn-model\",\n",
    "            registered_model_name=\"Logistic regression model\"\n",
    "        )\n",
    "        if tracking_url_type_store != \"file\":\n",
    "            mlflow.sklearn.log_model(model_metrics[0], \"model\", registered_model_name=\"Logistic regression model\")\n",
    "        else:\n",
    "          mlflow.sklearn.log_model(model_metrics[0], \"model\")"
   ]
  }
 ],
 "metadata": {
  "interpreter": {
   "hash": "145272517bddf6c1595b5c05b017fa375f010a8c8523682c34f84359a8aa7b70"
  },
  "kernelspec": {
   "display_name": "Python 3.9.16",
   "language": "python",
   "name": "python3"
  },
  "language_info": {
   "codemirror_mode": {
    "name": "ipython",
    "version": 3
   },
   "file_extension": ".py",
   "mimetype": "text/x-python",
   "name": "python",
   "nbconvert_exporter": "python",
   "pygments_lexer": "ipython3",
   "version": "3.9.16"
  },
  "orig_nbformat": 4
 },
 "nbformat": 4,
 "nbformat_minor": 2
}
