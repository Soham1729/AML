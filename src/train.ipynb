{
 "cells": [
  {
   "cell_type": "code",
   "execution_count": null,
   "metadata": {},
   "outputs": [],
   "source": [
    "# def train_val_test_split(data_x, data_y, val_per, test_per, x_tr_path, x_val_path, x_te_path, y_tr_path, y_val_path, y_te_path, random_seed):\n",
    "    \n",
    "#     x_train, x_test, y_train, y_test = train_test_split(data_x, data_y, test_size=test_per, shuffle=True, random_state=random_seed)\n",
    "\n",
    "#     x_train, x_val, y_train, y_val = train_test_split(x_train, y_train, test_size=val_per/(1-test_per), shuffle=True, random_state=random_seed)\n",
    "\n",
    "    \n",
    "#     x_train.to_csv(x_tr_path, index = False)\n",
    "#     x_val.to_csv(x_val_path, index = False)\n",
    "#     x_test.to_csv(x_te_path, index = False)\n",
    "#     y_train.to_csv(y_tr_path, index = False)\n",
    "#     y_val.to_csv(y_val_path, index = False)\n",
    "#     y_test.to_csv(y_te_path, index = False)"
   ]
  },
  {
   "cell_type": "code",
   "execution_count": null,
   "metadata": {},
   "outputs": [],
   "source": [
    "# x_tr_path = '/Users/Soham/Documents/CMI-SEM-4/AML/data/split/x_train.csv'\n",
    "# x_val_path = '/Users/Soham/Documents/CMI-SEM-4/AML/data//split/x_val.csv'\n",
    "# x_te_path = '/Users/Soham/Documents/CMI-SEM-4/AML/data//split/x_test.csv'\n",
    "# y_tr_path = '/Users/Soham/Documents/CMI-SEM-4/AML/data//split/y_train.csv'\n",
    "# y_val_path = '/Users/Soham/Documents/CMI-SEM-4/AML/data//split/y_val.csv'\n",
    "# y_te_path = '/Users/Soham/Documents/CMI-SEM-4/AML/data//split/y_test.csv'"
   ]
  },
  {
   "cell_type": "code",
   "execution_count": null,
   "metadata": {},
   "outputs": [],
   "source": [
    "# x = data[\"transformed_text\"]\n",
    "# y = data[\"Classification\"]\n",
    "\n",
    "# train_val_test_split(x, y, 0.20, 0.20,  x_tr_path, x_val_path, x_te_path, y_tr_path, y_val_path, y_te_path,42)"
   ]
  }
 ],
 "metadata": {
  "language_info": {
   "name": "python"
  },
  "orig_nbformat": 4
 },
 "nbformat": 4,
 "nbformat_minor": 2
}
