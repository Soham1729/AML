{
 "cells": [
  {
   "cell_type": "markdown",
   "id": "2267f2aa",
   "metadata": {
    "papermill": {
     "duration": 0.011018,
     "end_time": "2023-04-26T14:59:41.490347",
     "exception": false,
     "start_time": "2023-04-26T14:59:41.479329",
     "status": "completed"
    },
    "tags": []
   },
   "source": [
    "# <center> Training Pre-Trained VGG-19\n",
    "## <center> To Classify Duck & Chicken Images"
   ]
  },
  {
   "cell_type": "markdown",
   "id": "367053f9",
   "metadata": {
    "papermill": {
     "duration": 0.015932,
     "end_time": "2023-04-26T14:59:41.522313",
     "exception": false,
     "start_time": "2023-04-26T14:59:41.506381",
     "status": "completed"
    },
    "tags": []
   },
   "source": [
    "#### Importing Requisite packages"
   ]
  },
  {
   "cell_type": "code",
   "execution_count": 50,
   "id": "21bc317e",
   "metadata": {
    "execution": {
     "iopub.execute_input": "2023-04-26T14:59:41.544858Z",
     "iopub.status.busy": "2023-04-26T14:59:41.544034Z",
     "iopub.status.idle": "2023-04-26T14:59:44.792641Z",
     "shell.execute_reply": "2023-04-26T14:59:44.791536Z"
    },
    "papermill": {
     "duration": 3.262874,
     "end_time": "2023-04-26T14:59:44.795730",
     "exception": false,
     "start_time": "2023-04-26T14:59:41.532856",
     "status": "completed"
    },
    "tags": []
   },
   "outputs": [],
   "source": [
    "import os, sys, random, time, copy\n",
    "import torch\n",
    "\n",
    "import numpy as np\n",
    "import matplotlib.pyplot as plt\n",
    "import torch.optim as optim\n",
    "import torch.nn as nn\n",
    "\n",
    "from torch.utils.data import DataLoader, Dataset\n",
    "from torchvision.models import efficientnet_b7, EfficientNet_B7_Weights, vgg19, VGG19_Weights\n",
    "from torchvision import transforms\n",
    "from sklearn.metrics import classification_report, accuracy_score\n",
    "from sklearn.metrics import roc_auc_score, f1_score\n",
    "from sklearn.model_selection import train_test_split\n",
    "from PIL import Image"
   ]
  },
  {
   "cell_type": "markdown",
   "id": "b438a98b",
   "metadata": {
    "papermill": {
     "duration": 0.005354,
     "end_time": "2023-04-26T14:59:44.806968",
     "exception": false,
     "start_time": "2023-04-26T14:59:44.801614",
     "status": "completed"
    },
    "tags": []
   },
   "source": [
    "#### Setting directories"
   ]
  },
  {
   "cell_type": "code",
   "execution_count": 51,
   "id": "3b6b93a0",
   "metadata": {
    "execution": {
     "iopub.execute_input": "2023-04-26T14:59:44.818922Z",
     "iopub.status.busy": "2023-04-26T14:59:44.818467Z",
     "iopub.status.idle": "2023-04-26T14:59:44.827434Z",
     "shell.execute_reply": "2023-04-26T14:59:44.826528Z"
    },
    "papermill": {
     "duration": 0.017622,
     "end_time": "2023-04-26T14:59:44.829981",
     "exception": false,
     "start_time": "2023-04-26T14:59:44.812359",
     "status": "completed"
    },
    "tags": []
   },
   "outputs": [],
   "source": [
    "data_folder = \"/Users/Soham/Documents/CMI-SEM-4/AML/data/data_assign5/cnn_data\"\n",
    "cl_names = os.listdir(data_folder)"
   ]
  },
  {
   "cell_type": "markdown",
   "id": "126e5c5a",
   "metadata": {
    "papermill": {
     "duration": 0.005117,
     "end_time": "2023-04-26T14:59:44.840370",
     "exception": false,
     "start_time": "2023-04-26T14:59:44.835253",
     "status": "completed"
    },
    "tags": []
   },
   "source": [
    "##### Checking if CUDA/MPS is available"
   ]
  },
  {
   "cell_type": "code",
   "execution_count": 52,
   "id": "2773e01a",
   "metadata": {
    "execution": {
     "iopub.execute_input": "2023-04-26T14:59:44.852091Z",
     "iopub.status.busy": "2023-04-26T14:59:44.851813Z",
     "iopub.status.idle": "2023-04-26T14:59:44.913128Z",
     "shell.execute_reply": "2023-04-26T14:59:44.912035Z"
    },
    "papermill": {
     "duration": 0.070489,
     "end_time": "2023-04-26T14:59:44.916236",
     "exception": false,
     "start_time": "2023-04-26T14:59:44.845747",
     "status": "completed"
    },
    "tags": []
   },
   "outputs": [
    {
     "name": "stdout",
     "output_type": "stream",
     "text": [
      "Using mps GPU:  True\n"
     ]
    }
   ],
   "source": [
    "use_gpu = torch.cuda.is_available()\n",
    "use_gpu_mps = torch.backends.mps.is_available()\n",
    "if use_gpu:\n",
    "    print('Using GPU: ', use_gpu)\n",
    "    device = torch.device(\"cuda\")\n",
    "    \n",
    "elif use_gpu_mps == True:\n",
    "    print('Using mps GPU: ', use_gpu_mps)\n",
    "    device = torch.device(\"mps\")\n",
    "else:\n",
    "    print('Using GPU: ', use_gpu)\n",
    "    device = torch.device(\"cpu\")"
   ]
  },
  {
   "cell_type": "markdown",
   "id": "b810b017",
   "metadata": {
    "papermill": {
     "duration": 0.004973,
     "end_time": "2023-04-26T14:59:44.926599",
     "exception": false,
     "start_time": "2023-04-26T14:59:44.921626",
     "status": "completed"
    },
    "tags": []
   },
   "source": [
    "##### Setting the frequency of printing training stats"
   ]
  },
  {
   "cell_type": "code",
   "execution_count": 53,
   "id": "edebbb6a",
   "metadata": {
    "execution": {
     "iopub.execute_input": "2023-04-26T14:59:44.938594Z",
     "iopub.status.busy": "2023-04-26T14:59:44.937747Z",
     "iopub.status.idle": "2023-04-26T14:59:44.942268Z",
     "shell.execute_reply": "2023-04-26T14:59:44.941267Z"
    },
    "papermill": {
     "duration": 0.012613,
     "end_time": "2023-04-26T14:59:44.944309",
     "exception": false,
     "start_time": "2023-04-26T14:59:44.931696",
     "status": "completed"
    },
    "tags": []
   },
   "outputs": [],
   "source": [
    "freq_print = 25"
   ]
  },
  {
   "cell_type": "markdown",
   "id": "9d68f37a",
   "metadata": {
    "papermill": {
     "duration": 0.004921,
     "end_time": "2023-04-26T14:59:44.954287",
     "exception": false,
     "start_time": "2023-04-26T14:59:44.949366",
     "status": "completed"
    },
    "tags": []
   },
   "source": [
    "##### Loading data file paths (400 each for Chicken and Duck images)"
   ]
  },
  {
   "cell_type": "code",
   "execution_count": 54,
   "id": "77e4cce1",
   "metadata": {
    "execution": {
     "iopub.execute_input": "2023-04-26T14:59:44.966909Z",
     "iopub.status.busy": "2023-04-26T14:59:44.966313Z",
     "iopub.status.idle": "2023-04-26T14:59:45.331609Z",
     "shell.execute_reply": "2023-04-26T14:59:45.330536Z"
    },
    "papermill": {
     "duration": 0.373449,
     "end_time": "2023-04-26T14:59:45.333760",
     "exception": false,
     "start_time": "2023-04-26T14:59:44.960311",
     "status": "completed"
    },
    "tags": []
   },
   "outputs": [
    {
     "data": {
      "text/plain": [
       "(480, 200, 120)"
      ]
     },
     "execution_count": 54,
     "metadata": {},
     "output_type": "execute_result"
    }
   ],
   "source": [
    "def load_paths_from_folder(data_path):\n",
    "    label_names = os.listdir(data_path)\n",
    "    labels = list(range(len(label_names)))\n",
    "    label_dict = {}\n",
    "    for label in labels:\n",
    "        label_dict[label] = label_names[label]\n",
    "\n",
    "    file_paths = []\n",
    "    for label in labels:\n",
    "        i = 0\n",
    "        for file in os.listdir(os.path.join(data_folder, label_dict[label])):\n",
    "            file_paths.append((os.path.join(data_folder, label_dict[label], file), label))\n",
    "            i += 1\n",
    "            if i == 400:\n",
    "                break\n",
    "\n",
    "    random.shuffle(file_paths)\n",
    "\n",
    "    train_num = int(0.6*len(file_paths))\n",
    "    val_num = int(0.25*len(file_paths))\n",
    "\n",
    "    train_list, val_list, test_list = file_paths[:train_num], file_paths[train_num:train_num+val_num], file_paths[train_num+val_num:]\n",
    "\n",
    "    return train_list, val_list, test_list, label_dict\n",
    "\n",
    "train_list, val_list, test_list, label_dict = load_paths_from_folder(data_folder)\n",
    "\n",
    "len(train_list), len(val_list), len(test_list)"
   ]
  },
  {
   "cell_type": "markdown",
   "id": "d32a8dfb",
   "metadata": {
    "papermill": {
     "duration": 0.005347,
     "end_time": "2023-04-26T14:59:45.344638",
     "exception": false,
     "start_time": "2023-04-26T14:59:45.339291",
     "status": "completed"
    },
    "tags": []
   },
   "source": [
    "##### Defining Channel Mean and Std values for Imagenet dataset"
   ]
  },
  {
   "cell_type": "code",
   "execution_count": 55,
   "id": "183909ff",
   "metadata": {
    "execution": {
     "iopub.execute_input": "2023-04-26T14:59:45.357065Z",
     "iopub.status.busy": "2023-04-26T14:59:45.356186Z",
     "iopub.status.idle": "2023-04-26T14:59:45.361549Z",
     "shell.execute_reply": "2023-04-26T14:59:45.360629Z"
    },
    "papermill": {
     "duration": 0.013677,
     "end_time": "2023-04-26T14:59:45.363675",
     "exception": false,
     "start_time": "2023-04-26T14:59:45.349998",
     "status": "completed"
    },
    "tags": []
   },
   "outputs": [],
   "source": [
    "mean, std = [0.485, 0.456, 0.406], [0.229, 0.224, 0.225]"
   ]
  },
  {
   "cell_type": "markdown",
   "id": "fa4642a8",
   "metadata": {
    "papermill": {
     "duration": 0.005011,
     "end_time": "2023-04-26T14:59:45.374416",
     "exception": false,
     "start_time": "2023-04-26T14:59:45.369405",
     "status": "completed"
    },
    "tags": []
   },
   "source": [
    "##### Defining Data Transforms"
   ]
  },
  {
   "cell_type": "code",
   "execution_count": 56,
   "id": "ac717e93",
   "metadata": {
    "execution": {
     "iopub.execute_input": "2023-04-26T14:59:45.386718Z",
     "iopub.status.busy": "2023-04-26T14:59:45.385877Z",
     "iopub.status.idle": "2023-04-26T14:59:45.392384Z",
     "shell.execute_reply": "2023-04-26T14:59:45.391312Z"
    },
    "papermill": {
     "duration": 0.014752,
     "end_time": "2023-04-26T14:59:45.394465",
     "exception": false,
     "start_time": "2023-04-26T14:59:45.379713",
     "status": "completed"
    },
    "tags": []
   },
   "outputs": [],
   "source": [
    "data_transforms = {\n",
    "\t'train': transforms.Compose([\n",
    "\t\ttransforms.RandomHorizontalFlip(),  # simple data augmentation\n",
    "\t\ttransforms.RandomVerticalFlip(),\t# simple data augmentation\n",
    "\t\ttransforms.ColorJitter(brightness=0.3, contrast=0.3, saturation=0.3, hue=0.1),\n",
    "\t\ttransforms.ToTensor(),\n",
    "\t\ttransforms.Normalize(mean, std)]),\n",
    "\n",
    "\t'val': transforms.Compose([\n",
    "\t\ttransforms.ToTensor(),\n",
    "\t\ttransforms.Normalize(mean, std)\n",
    "\t]),\n",
    " \n",
    "\t'test': transforms.Compose([\n",
    "\t\ttransforms.ToTensor(),\n",
    "\t\ttransforms.Normalize(mean, std)\n",
    "\t])\n",
    "}"
   ]
  },
  {
   "cell_type": "markdown",
   "id": "22dbcaf4",
   "metadata": {
    "papermill": {
     "duration": 0.005052,
     "end_time": "2023-04-26T14:59:45.404764",
     "exception": false,
     "start_time": "2023-04-26T14:59:45.399712",
     "status": "completed"
    },
    "tags": []
   },
   "source": [
    "##### Defining a dataloader class extending the Dataset Class"
   ]
  },
  {
   "cell_type": "code",
   "execution_count": 57,
   "id": "1de70119",
   "metadata": {
    "execution": {
     "iopub.execute_input": "2023-04-26T14:59:45.417008Z",
     "iopub.status.busy": "2023-04-26T14:59:45.416161Z",
     "iopub.status.idle": "2023-04-26T14:59:45.423573Z",
     "shell.execute_reply": "2023-04-26T14:59:45.422683Z"
    },
    "papermill": {
     "duration": 0.015784,
     "end_time": "2023-04-26T14:59:45.425821",
     "exception": false,
     "start_time": "2023-04-26T14:59:45.410037",
     "status": "completed"
    },
    "tags": []
   },
   "outputs": [],
   "source": [
    "class dataloader(Dataset):\n",
    "\t\"\"\"\n",
    "\tDataset class to read img file from filepath \n",
    "\tand return Pillow Image object with its label_id\n",
    "\t\"\"\"\n",
    "\tdef __init__(self, list1, transform=None):\n",
    "\t\tself.list1 = list1\n",
    "\t\tself.transform = transform\n",
    "\t\n",
    "\tdef __getitem__(self, index):\n",
    "\t\tlist2 = self.list1[index]\n",
    "\t\tlab = int(list2[1])\n",
    "\t\tpng = Image.open(list2[0]).convert('RGB') # ori: RGB, do not convert to numpy, keep it as PIL image to apply transform\n",
    "\t\tpng = png.resize((224,224))\n",
    "\n",
    "\t\tif self.transform:\n",
    "\t\t\tpng = self.transform(png)\n",
    "\n",
    "\t\treturn png, lab\n",
    "\n",
    "\tdef __len__(self):\n",
    "\t\treturn len(self.list1)"
   ]
  },
  {
   "cell_type": "markdown",
   "id": "aa59628f",
   "metadata": {
    "papermill": {
     "duration": 0.005121,
     "end_time": "2023-04-26T14:59:45.436128",
     "exception": false,
     "start_time": "2023-04-26T14:59:45.431007",
     "status": "completed"
    },
    "tags": []
   },
   "source": [
    "##### Creating Dataset and DataLoader objects for all three lists"
   ]
  },
  {
   "cell_type": "code",
   "execution_count": 58,
   "id": "7e7d5f2c",
   "metadata": {
    "execution": {
     "iopub.execute_input": "2023-04-26T14:59:45.448398Z",
     "iopub.status.busy": "2023-04-26T14:59:45.447514Z",
     "iopub.status.idle": "2023-04-26T14:59:45.453691Z",
     "shell.execute_reply": "2023-04-26T14:59:45.452835Z"
    },
    "papermill": {
     "duration": 0.014339,
     "end_time": "2023-04-26T14:59:45.455766",
     "exception": false,
     "start_time": "2023-04-26T14:59:45.441427",
     "status": "completed"
    },
    "tags": []
   },
   "outputs": [],
   "source": [
    "batch_size = 16\n",
    "\n",
    "train_set = dataloader(train_list, transform = data_transforms['train'])\n",
    "train_loader = DataLoader(train_set, batch_size=batch_size, shuffle=True, num_workers=0, pin_memory=False)\n",
    "\n",
    "val_set = dataloader(val_list, transform = data_transforms['val'])\n",
    "val_loader = DataLoader(val_set, batch_size=batch_size, shuffle=True, num_workers=0, pin_memory=False)\n",
    "\n",
    "test_set = dataloader(test_list, transform = data_transforms['test'])\n",
    "test_loader = DataLoader(test_set, batch_size=batch_size, shuffle=True, num_workers=0, pin_memory=False)"
   ]
  },
  {
   "cell_type": "markdown",
   "id": "d34c0072",
   "metadata": {
    "papermill": {
     "duration": 0.005143,
     "end_time": "2023-04-26T14:59:45.466083",
     "exception": false,
     "start_time": "2023-04-26T14:59:45.460940",
     "status": "completed"
    },
    "tags": []
   },
   "source": [
    "##### Defining a function to run validation "
   ]
  },
  {
   "cell_type": "code",
   "execution_count": 59,
   "id": "27dbe182",
   "metadata": {
    "execution": {
     "iopub.execute_input": "2023-04-26T14:59:45.478426Z",
     "iopub.status.busy": "2023-04-26T14:59:45.477557Z",
     "iopub.status.idle": "2023-04-26T14:59:45.487343Z",
     "shell.execute_reply": "2023-04-26T14:59:45.486374Z"
    },
    "papermill": {
     "duration": 0.018041,
     "end_time": "2023-04-26T14:59:45.489448",
     "exception": false,
     "start_time": "2023-04-26T14:59:45.471407",
     "status": "completed"
    },
    "tags": []
   },
   "outputs": [],
   "source": [
    "# Function to run evaluation for a model on a given dataloader object\n",
    "def run_validation(model, criterion, val_loader):\n",
    "\tmodel.eval()\n",
    "\tpred_labels = []\n",
    "\torig_labels = []\n",
    "\n",
    "\tntotal = 0\n",
    "\trunning_loss = 0.0\n",
    "\twith torch.no_grad():\n",
    "\t\tfor ix, batch in enumerate(val_loader):\n",
    "\t\t\tinputs, targets = batch\n",
    "\n",
    "\t\t\tinputs = inputs.to(torch.float).to(device)\n",
    "\t\t\ttargets = targets.to(torch.long).to(device)\n",
    "\t\t\toutput = model(inputs)\n",
    "\t\t\tif type(output) == tuple:\n",
    "\t\t\t\toutput,_ = output\n",
    "\t\t\t\n",
    "\t\t\t_, preds = torch.max(output.data, 1)\n",
    "\n",
    "\t\t\tloss = criterion(output, targets)\n",
    "\t\t\tntotal += output.size(0)\n",
    "\t\t\trunning_loss += loss.item() * output.size(0)\n",
    "\n",
    "\t\t\ttargets = torch.squeeze(targets).data.cpu().tolist()\n",
    "\t\t\torig_labels = orig_labels + targets\n",
    "\n",
    "\t\t\tpreds = torch.squeeze(preds).data.cpu().tolist()\n",
    "\t\t\tpred_labels = pred_labels + preds\n",
    "\t\n",
    "\torig_labels = np.array(orig_labels).reshape(-1,1)\n",
    "\tpred_labels = np.array(pred_labels).reshape(-1,1)\n",
    "\n",
    "\tval_loss = running_loss/ntotal\n",
    "\tval_acc = accuracy_score(orig_labels, pred_labels)\n",
    "\tval_f1 = f1_score(orig_labels, pred_labels, average='macro')\n",
    "\n",
    "\treturn val_loss, val_acc, val_f1, orig_labels, pred_labels"
   ]
  },
  {
   "cell_type": "markdown",
   "id": "bd073929",
   "metadata": {
    "papermill": {
     "duration": 0.005015,
     "end_time": "2023-04-26T14:59:45.499727",
     "exception": false,
     "start_time": "2023-04-26T14:59:45.494712",
     "status": "completed"
    },
    "tags": []
   },
   "source": [
    "##### Defining a function to plot train-validation loss"
   ]
  },
  {
   "cell_type": "code",
   "execution_count": 60,
   "id": "e96648de",
   "metadata": {
    "execution": {
     "iopub.execute_input": "2023-04-26T14:59:45.512218Z",
     "iopub.status.busy": "2023-04-26T14:59:45.511281Z",
     "iopub.status.idle": "2023-04-26T14:59:45.517743Z",
     "shell.execute_reply": "2023-04-26T14:59:45.516942Z"
    },
    "papermill": {
     "duration": 0.014775,
     "end_time": "2023-04-26T14:59:45.519807",
     "exception": false,
     "start_time": "2023-04-26T14:59:45.505032",
     "status": "completed"
    },
    "tags": []
   },
   "outputs": [],
   "source": [
    "def plot_tra_val_loss(tra_val_loss):\n",
    "\tepochs = list(range(1,len(tra_val_loss)+1))\n",
    "\ttrain_loss = [x[0] for x in tra_val_loss]\n",
    "\tval_loss = [x[1] for x in tra_val_loss]\n",
    "\tplt.plot(epochs, train_loss, label='Train Loss')\n",
    "\tplt.plot(epochs, val_loss, label='Validation Loss')\n",
    "\tplt.title('Training and Validation Loss per epoch')\n",
    "\tplt.ylabel('Loss')\n",
    "\tplt.xlabel('Epochs')\n",
    "\tplt.legend()\n",
    "\tplt.show()"
   ]
  },
  {
   "cell_type": "markdown",
   "id": "10c3a18d",
   "metadata": {
    "papermill": {
     "duration": 0.005054,
     "end_time": "2023-04-26T14:59:45.530105",
     "exception": false,
     "start_time": "2023-04-26T14:59:45.525051",
     "status": "completed"
    },
    "tags": []
   },
   "source": [
    "##### Defining a function to train the model"
   ]
  },
  {
   "cell_type": "code",
   "execution_count": 61,
   "id": "5914009b",
   "metadata": {
    "execution": {
     "iopub.execute_input": "2023-04-26T14:59:45.542658Z",
     "iopub.status.busy": "2023-04-26T14:59:45.542312Z",
     "iopub.status.idle": "2023-04-26T14:59:45.560803Z",
     "shell.execute_reply": "2023-04-26T14:59:45.559692Z"
    },
    "papermill": {
     "duration": 0.027573,
     "end_time": "2023-04-26T14:59:45.562986",
     "exception": false,
     "start_time": "2023-04-26T14:59:45.535413",
     "status": "completed"
    },
    "tags": []
   },
   "outputs": [],
   "source": [
    "def run_training(model, criterion, num_epochs, batch_size, lr, check_after, trainer = 'sgd', train_loader = train_loader, val_loader = val_loader): \n",
    "\tbest_f1 = 0\n",
    "\tbest_epoch = 0\n",
    "\ttrain_val_loss_epoch = []\n",
    "\tstart_training = time.time()\n",
    "\n",
    "\tfor epoch in range(num_epochs):\n",
    "\n",
    "\t\t### TRAINING ###\n",
    "\t\tstart = time.time()\n",
    "\n",
    "\t\tif epoch < num_epochs//6: lr = lr\n",
    "\t\telif epoch < num_epochs//3: lr = lr/2\n",
    "\t\telif epoch < num_epochs//2: lr = lr/4\n",
    "\t\telif epoch < 3*(num_epochs//4): lr = lr/10\n",
    "\t\telse: lr = lr/20\n",
    "\n",
    "\t\tif epoch > 2:\n",
    "\t\t\tfor param in model.parameters():\n",
    "\t\t\t\tparam.requires_grad = True\n",
    "\n",
    "\n",
    "\t\tif trainer == 'adam':\n",
    "\t\t\toptimizer = optim.Adam(params=filter(lambda p: p.requires_grad, model.parameters()), lr=lr)\n",
    "\t\telif trainer == 'sgd':\n",
    "\t\t\toptimizer = optim.SGD(params=filter(lambda p: p.requires_grad, model.parameters()), lr=lr, momentum=0.9, weight_decay=1e-4)\n",
    "\t\telse:\n",
    "\t\t\traise Exception('Select optimiser (trainer) as adam or sgd')\n",
    "\t\t\n",
    "\t\tprint('Epoch {}/{}'.format(epoch + 1, num_epochs))\n",
    "\t\tprint('lr: {:.6f}'.format(lr))\n",
    "\t\tprint('-' * 50)\n",
    "\n",
    "\t\tmodel.train()\n",
    "\t\tntotal = 0\n",
    "\t\trunning_loss = 0.0\n",
    "\t\trunning_corrects = 0\n",
    "\t\tfor ix, batch in enumerate(train_loader):\n",
    "\t\t\tinputs, targets = batch\n",
    "\n",
    "\t\t\tinputs = inputs.to(torch.float).to(device)\n",
    "\t\t\ttargets = targets.to(torch.long).to(device)\n",
    "\n",
    "\t\t\toptimizer.zero_grad()\n",
    "\t\t\toutput = model(inputs)\n",
    "\t\t\tif type(output) == tuple:\n",
    "\t\t\t\toutput,_ = output\n",
    "\t\t\t\n",
    "\t\t\t_, preds = torch.max(output.data, 1)\n",
    "\t\t\tloss = criterion(output, targets)\n",
    "\t\t\tloss.backward()\n",
    "\t\t\toptimizer.step()\n",
    "\n",
    "\t\t\tntotal += output.size(0)\n",
    "\t\t\trunning_loss += loss.item() * output.size(0)\n",
    "\t\t\trunning_corrects += torch.sum(preds == targets.data)\n",
    "\n",
    "\t\t\tif (ix + 1) % freq_print == 0:\n",
    "\t\t\t\tprint('| Epoch:[{}][{}/{}]\\tTrain_Loss: {:.4f}\\tAccuracy: {:.4f}\\tTime: {:.2f} mins'.format(\n",
    "\t\t\t\t\tepoch + 1, ix + 1, len(train_loader.dataset)//batch_size, running_loss/ntotal, \n",
    "\t\t\t\t\trunning_corrects.item()/ntotal, (time.time() - start)/60.0))\n",
    "\n",
    "\t\t\t# sys.stdout.flush()\n",
    "\n",
    "\t\t### VALIDATION ###\n",
    "\t\tif (epoch + 1) % check_after == 0:\n",
    "\t\t\tmodel.eval()\n",
    "\t\t\tstart = time.time()\n",
    "\t\t\tval_loss, val_acc, val_f1, orig_labels, pred_labels = run_validation(model, criterion, val_loader = val_loader)\n",
    "\t\t\ttrain_val_loss_epoch.append([running_loss/ntotal, val_loss])\n",
    "\t\t\tprint(\"Epoch: {}/{}\\tVal_Loss: {:.4f}\\tAccuracy: {:.4f}\\tF1-score: {:.4f}\\t{:.3f}mins\".format(\n",
    "\t\t\t\t\t(epoch + 1), num_epochs, val_loss, val_acc, val_f1, (time.time() - start)/60.0))\n",
    "\t\t\tstart = time.time()\n",
    "\n",
    "\t\t\t# Save model if auc best auc score is acheived (yet)\n",
    "\t\t\tif val_f1 > best_f1:\n",
    "\t\t\t\tprint('Saving model')\n",
    "\t\t\t\tbest_f1 = val_f1\n",
    "\t\t\t\tbest_epoch = epoch\n",
    "\t\t\t\tbest_model = copy.deepcopy(model)\n",
    "\t\t\t\tstate = {\n",
    "\t\t\t\t\t'model': best_model,\n",
    "\t\t\t\t\t'auc': best_f1,\n",
    "\t\t\t\t\t'lr': lr,\n",
    "\t\t\t\t\t'saved_epoch': epoch,\n",
    "\t\t\t\t}\n",
    "\n",
    "\t\t\t\tsave_point = os.path.join('/Users/Soham/Documents/CMI-SEM-4/AML/src/models/checkpoints')\n",
    "\t\t\t\tif not os.path.isdir(os.path.join(save_point)):\n",
    "\t\t\t\t\tos.mkdir(save_point)\n",
    "\n",
    "\t\t\t\tsaved_model_name = 'resnet18'\n",
    "\t\t\t\ttorch.save(state, os.path.join(save_point, saved_model_name + '_' + str(round(best_f1,3)) + '_' + str(epoch) + '.t7'))\n",
    "\t\t\t\t\n",
    "\t\t\tprint('=======================================================================')\n",
    "\n",
    "\ttime_elapsed = time.time() - start_training\n",
    "\tprint('Training complete in {:.0f}m {:.0f}s'.format(time_elapsed // 60, time_elapsed % 60))\n",
    "\tprint('Best validation F1 score: {:4f} at epoch: {}'.format(best_f1, best_epoch))\n",
    "\n",
    "\tplot_tra_val_loss(train_val_loss_epoch)\n",
    "\treturn train_val_loss_epoch"
   ]
  },
  {
   "cell_type": "markdown",
   "id": "5053e45d",
   "metadata": {
    "papermill": {
     "duration": 0.005254,
     "end_time": "2023-04-26T14:59:45.573882",
     "exception": false,
     "start_time": "2023-04-26T14:59:45.568628",
     "status": "completed"
    },
    "tags": []
   },
   "source": [
    "##### Loading a pre-trained Efficientnet model, trained on ImageNet dataset"
   ]
  },
  {
   "cell_type": "code",
   "execution_count": 62,
   "id": "8331a6c3",
   "metadata": {
    "execution": {
     "iopub.execute_input": "2023-04-26T14:59:45.586342Z",
     "iopub.status.busy": "2023-04-26T14:59:45.585975Z",
     "iopub.status.idle": "2023-04-26T14:59:52.348578Z",
     "shell.execute_reply": "2023-04-26T14:59:52.347453Z"
    },
    "papermill": {
     "duration": 6.77195,
     "end_time": "2023-04-26T14:59:52.351279",
     "exception": false,
     "start_time": "2023-04-26T14:59:45.579329",
     "status": "completed"
    },
    "tags": []
   },
   "outputs": [
    {
     "data": {
      "text/plain": [
       "VGG(\n",
       "  (features): Sequential(\n",
       "    (0): Conv2d(3, 64, kernel_size=(3, 3), stride=(1, 1), padding=(1, 1))\n",
       "    (1): ReLU(inplace=True)\n",
       "    (2): Conv2d(64, 64, kernel_size=(3, 3), stride=(1, 1), padding=(1, 1))\n",
       "    (3): ReLU(inplace=True)\n",
       "    (4): MaxPool2d(kernel_size=2, stride=2, padding=0, dilation=1, ceil_mode=False)\n",
       "    (5): Conv2d(64, 128, kernel_size=(3, 3), stride=(1, 1), padding=(1, 1))\n",
       "    (6): ReLU(inplace=True)\n",
       "    (7): Conv2d(128, 128, kernel_size=(3, 3), stride=(1, 1), padding=(1, 1))\n",
       "    (8): ReLU(inplace=True)\n",
       "    (9): MaxPool2d(kernel_size=2, stride=2, padding=0, dilation=1, ceil_mode=False)\n",
       "    (10): Conv2d(128, 256, kernel_size=(3, 3), stride=(1, 1), padding=(1, 1))\n",
       "    (11): ReLU(inplace=True)\n",
       "    (12): Conv2d(256, 256, kernel_size=(3, 3), stride=(1, 1), padding=(1, 1))\n",
       "    (13): ReLU(inplace=True)\n",
       "    (14): Conv2d(256, 256, kernel_size=(3, 3), stride=(1, 1), padding=(1, 1))\n",
       "    (15): ReLU(inplace=True)\n",
       "    (16): Conv2d(256, 256, kernel_size=(3, 3), stride=(1, 1), padding=(1, 1))\n",
       "    (17): ReLU(inplace=True)\n",
       "    (18): MaxPool2d(kernel_size=2, stride=2, padding=0, dilation=1, ceil_mode=False)\n",
       "    (19): Conv2d(256, 512, kernel_size=(3, 3), stride=(1, 1), padding=(1, 1))\n",
       "    (20): ReLU(inplace=True)\n",
       "    (21): Conv2d(512, 512, kernel_size=(3, 3), stride=(1, 1), padding=(1, 1))\n",
       "    (22): ReLU(inplace=True)\n",
       "    (23): Conv2d(512, 512, kernel_size=(3, 3), stride=(1, 1), padding=(1, 1))\n",
       "    (24): ReLU(inplace=True)\n",
       "    (25): Conv2d(512, 512, kernel_size=(3, 3), stride=(1, 1), padding=(1, 1))\n",
       "    (26): ReLU(inplace=True)\n",
       "    (27): MaxPool2d(kernel_size=2, stride=2, padding=0, dilation=1, ceil_mode=False)\n",
       "    (28): Conv2d(512, 512, kernel_size=(3, 3), stride=(1, 1), padding=(1, 1))\n",
       "    (29): ReLU(inplace=True)\n",
       "    (30): Conv2d(512, 512, kernel_size=(3, 3), stride=(1, 1), padding=(1, 1))\n",
       "    (31): ReLU(inplace=True)\n",
       "    (32): Conv2d(512, 512, kernel_size=(3, 3), stride=(1, 1), padding=(1, 1))\n",
       "    (33): ReLU(inplace=True)\n",
       "    (34): Conv2d(512, 512, kernel_size=(3, 3), stride=(1, 1), padding=(1, 1))\n",
       "    (35): ReLU(inplace=True)\n",
       "    (36): MaxPool2d(kernel_size=2, stride=2, padding=0, dilation=1, ceil_mode=False)\n",
       "  )\n",
       "  (avgpool): AdaptiveAvgPool2d(output_size=(7, 7))\n",
       "  (classifier): Sequential(\n",
       "    (0): Linear(in_features=25088, out_features=4096, bias=True)\n",
       "    (1): ReLU(inplace=True)\n",
       "    (2): Dropout(p=0.5, inplace=False)\n",
       "    (3): Linear(in_features=4096, out_features=4096, bias=True)\n",
       "    (4): ReLU(inplace=True)\n",
       "    (5): Dropout(p=0.5, inplace=False)\n",
       "    (6): Linear(in_features=4096, out_features=2, bias=True)\n",
       "  )\n",
       ")"
      ]
     },
     "execution_count": 62,
     "metadata": {},
     "output_type": "execute_result"
    }
   ],
   "source": [
    "# model = efficientnet_b7(weights= EfficientNet_B7_Weights.DEFAULT)\n",
    "model = vgg19(weights = VGG19_Weights.DEFAULT)\n",
    "\n",
    "# Locking all Parameters of the pre-trained model\n",
    "for param in model.parameters():\n",
    "    param.requires_grad = False\n",
    "\n",
    "# Changing last layer of model from 1000 classes to 2 classes\n",
    "num_in = model.classifier[6].in_features\n",
    "model.classifier[6] = nn.Linear(num_in, 2)\n",
    "\n",
    "# Newly added layer has unlocked parameters\n",
    "# The rest of the parameters will be unlocked after the 3rd epoch\n",
    "model.eval()\n",
    "model.to(device)\n",
    "\n",
    "# print(model)"
   ]
  },
  {
   "cell_type": "markdown",
   "id": "9e56fe0a",
   "metadata": {
    "papermill": {
     "duration": 0.007165,
     "end_time": "2023-04-26T14:59:52.366070",
     "exception": false,
     "start_time": "2023-04-26T14:59:52.358905",
     "status": "completed"
    },
    "tags": []
   },
   "source": [
    "##### Training the model"
   ]
  },
  {
   "cell_type": "code",
   "execution_count": 63,
   "id": "d6ff5779",
   "metadata": {
    "execution": {
     "iopub.execute_input": "2023-04-26T14:59:52.381476Z",
     "iopub.status.busy": "2023-04-26T14:59:52.381083Z",
     "iopub.status.idle": "2023-04-26T15:37:22.894707Z",
     "shell.execute_reply": "2023-04-26T15:37:22.893624Z"
    },
    "papermill": {
     "duration": 2250.524776,
     "end_time": "2023-04-26T15:37:22.897772",
     "exception": false,
     "start_time": "2023-04-26T14:59:52.372996",
     "status": "completed"
    },
    "tags": []
   },
   "outputs": [
    {
     "name": "stdout",
     "output_type": "stream",
     "text": [
      "Start training ... \n",
      "Epoch 1/15\n",
      "lr: 0.000100\n",
      "--------------------------------------------------\n",
      "| Epoch:[1][25/30]\tTrain_Loss: 0.6447\tAccuracy: 0.6225\tTime: 0.10 mins\n",
      "Epoch: 1/15\tVal_Loss: 0.3109\tAccuracy: 0.9350\tF1-score: 0.9349\t0.040mins\n",
      "Saving model\n",
      "=======================================================================\n",
      "Epoch 2/15\n",
      "lr: 0.000100\n",
      "--------------------------------------------------\n",
      "| Epoch:[2][25/30]\tTrain_Loss: 0.3674\tAccuracy: 0.8425\tTime: 0.10 mins\n",
      "Epoch: 2/15\tVal_Loss: 0.2439\tAccuracy: 0.9450\tF1-score: 0.9449\t0.040mins\n",
      "Saving model\n",
      "=======================================================================\n",
      "Epoch 3/15\n",
      "lr: 0.000050\n",
      "--------------------------------------------------\n",
      "| Epoch:[3][25/30]\tTrain_Loss: 0.3232\tAccuracy: 0.8700\tTime: 0.09 mins\n",
      "Epoch: 3/15\tVal_Loss: 0.2252\tAccuracy: 0.9500\tF1-score: 0.9500\t0.039mins\n",
      "Saving model\n",
      "=======================================================================\n",
      "Epoch 4/15\n",
      "lr: 0.000025\n",
      "--------------------------------------------------\n",
      "| Epoch:[4][25/30]\tTrain_Loss: 0.3068\tAccuracy: 0.8825\tTime: 0.30 mins\n",
      "Epoch: 4/15\tVal_Loss: 0.2112\tAccuracy: 0.9550\tF1-score: 0.9550\t0.039mins\n",
      "Saving model\n",
      "=======================================================================\n",
      "Epoch 5/15\n",
      "lr: 0.000013\n",
      "--------------------------------------------------\n",
      "| Epoch:[5][25/30]\tTrain_Loss: 0.2872\tAccuracy: 0.9000\tTime: 0.30 mins\n",
      "Epoch: 5/15\tVal_Loss: 0.2060\tAccuracy: 0.9550\tF1-score: 0.9550\t0.040mins\n",
      "=======================================================================\n",
      "Epoch 6/15\n",
      "lr: 0.000003\n",
      "--------------------------------------------------\n",
      "| Epoch:[6][25/30]\tTrain_Loss: 0.2760\tAccuracy: 0.9075\tTime: 0.30 mins\n",
      "Epoch: 6/15\tVal_Loss: 0.2047\tAccuracy: 0.9550\tF1-score: 0.9550\t0.040mins\n",
      "=======================================================================\n",
      "Epoch 7/15\n",
      "lr: 0.000001\n",
      "--------------------------------------------------\n",
      "| Epoch:[7][25/30]\tTrain_Loss: 0.2710\tAccuracy: 0.9050\tTime: 0.30 mins\n",
      "Epoch: 7/15\tVal_Loss: 0.2043\tAccuracy: 0.9550\tF1-score: 0.9550\t0.040mins\n",
      "=======================================================================\n",
      "Epoch 8/15\n",
      "lr: 0.000000\n",
      "--------------------------------------------------\n",
      "| Epoch:[8][25/30]\tTrain_Loss: 0.2833\tAccuracy: 0.8925\tTime: 0.30 mins\n",
      "Epoch: 8/15\tVal_Loss: 0.2043\tAccuracy: 0.9550\tF1-score: 0.9550\t0.040mins\n",
      "=======================================================================\n",
      "Epoch 9/15\n",
      "lr: 0.000000\n",
      "--------------------------------------------------\n",
      "| Epoch:[9][25/30]\tTrain_Loss: 0.2759\tAccuracy: 0.9025\tTime: 0.30 mins\n",
      "Epoch: 9/15\tVal_Loss: 0.2043\tAccuracy: 0.9550\tF1-score: 0.9550\t0.040mins\n",
      "=======================================================================\n",
      "Epoch 10/15\n",
      "lr: 0.000000\n",
      "--------------------------------------------------\n",
      "| Epoch:[10][25/30]\tTrain_Loss: 0.2715\tAccuracy: 0.9025\tTime: 0.30 mins\n",
      "Epoch: 10/15\tVal_Loss: 0.2043\tAccuracy: 0.9550\tF1-score: 0.9550\t0.040mins\n",
      "=======================================================================\n",
      "Epoch 11/15\n",
      "lr: 0.000000\n",
      "--------------------------------------------------\n",
      "| Epoch:[11][25/30]\tTrain_Loss: 0.2869\tAccuracy: 0.8900\tTime: 0.30 mins\n",
      "Epoch: 11/15\tVal_Loss: 0.2043\tAccuracy: 0.9550\tF1-score: 0.9550\t0.040mins\n",
      "=======================================================================\n",
      "Epoch 12/15\n",
      "lr: 0.000000\n",
      "--------------------------------------------------\n",
      "| Epoch:[12][25/30]\tTrain_Loss: 0.2824\tAccuracy: 0.9000\tTime: 0.30 mins\n",
      "Epoch: 12/15\tVal_Loss: 0.2043\tAccuracy: 0.9550\tF1-score: 0.9550\t0.040mins\n",
      "=======================================================================\n",
      "Epoch 13/15\n",
      "lr: 0.000000\n",
      "--------------------------------------------------\n",
      "| Epoch:[13][25/30]\tTrain_Loss: 0.2548\tAccuracy: 0.9025\tTime: 0.31 mins\n",
      "Epoch: 13/15\tVal_Loss: 0.2043\tAccuracy: 0.9550\tF1-score: 0.9550\t0.039mins\n",
      "=======================================================================\n",
      "Epoch 14/15\n",
      "lr: 0.000000\n",
      "--------------------------------------------------\n",
      "| Epoch:[14][25/30]\tTrain_Loss: 0.2986\tAccuracy: 0.8650\tTime: 0.30 mins\n",
      "Epoch: 14/15\tVal_Loss: 0.2043\tAccuracy: 0.9550\tF1-score: 0.9550\t0.039mins\n",
      "=======================================================================\n",
      "Epoch 15/15\n",
      "lr: 0.000000\n",
      "--------------------------------------------------\n",
      "| Epoch:[15][25/30]\tTrain_Loss: 0.2665\tAccuracy: 0.9200\tTime: 0.30 mins\n",
      "Epoch: 15/15\tVal_Loss: 0.2043\tAccuracy: 0.9550\tF1-score: 0.9550\t0.039mins\n",
      "=======================================================================\n",
      "Training complete in 5m 20s\n",
      "Best validation F1 score: 0.954972 at epoch: 3\n"
     ]
    },
    {
     "data": {
      "image/png": "[encoded data removed]",
      "text/plain": [
       "<Figure size 640x480 with 1 Axes>"
      ]
     },
     "metadata": {},
     "output_type": "display_data"
    }
   ],
   "source": [
    "print('Start training ... ')\n",
    "criterion = nn.CrossEntropyLoss().to(device)\n",
    "train_val_loss = run_training(model=model, criterion=criterion, num_epochs=15, batch_size=batch_size, lr=1e-4, \n",
    "             check_after=1, train_loader=train_loader, val_loader=val_loader)"
   ]
  },
  {
   "cell_type": "code",
   "execution_count": 64,
   "id": "b0947fc1",
   "metadata": {},
   "outputs": [],
   "source": [
    "# Function to run evaluation for a model on a given dataloader object\n",
    "def run_test(model, criterion, test_loader):\n",
    "\tmodel.eval()\n",
    "\tpred_labels = []\n",
    "\torig_labels = []\n",
    "\n",
    "\tntotal = 0\n",
    "\trunning_loss = 0.0\n",
    "\twith torch.no_grad():\n",
    "\t\tfor ix, batch in enumerate(test_loader):\n",
    "\t\t\tinputs, targets = batch\n",
    "\n",
    "\t\t\tinputs = inputs.to(torch.float).to(device)\n",
    "\t\t\ttargets = targets.to(torch.long).to(device)\n",
    "\t\t\toutput = model(inputs)\n",
    "\t\t\tif type(output) == tuple:\n",
    "\t\t\t\toutput,_ = output\n",
    "\t\t\t\n",
    "\t\t\t_, preds = torch.max(output.data, 1)\n",
    "\n",
    "\t\t\tloss = criterion(output, targets)\n",
    "\t\t\tntotal += output.size(0)\n",
    "\t\t\trunning_loss += loss.item() * output.size(0)\n",
    "\n",
    "\t\t\ttargets = torch.squeeze(targets).data.cpu().tolist()\n",
    "\t\t\torig_labels = orig_labels + targets\n",
    "\n",
    "\t\t\tpreds = torch.squeeze(preds).data.cpu().tolist()\n",
    "\t\t\tpred_labels = pred_labels + preds\n",
    "\t\n",
    "\torig_labels = np.array(orig_labels).reshape(-1,1)\n",
    "\tpred_labels = np.array(pred_labels).reshape(-1,1)\n",
    "\n",
    "\ttest_loss = running_loss/ntotal\n",
    "\ttest_acc = accuracy_score(orig_labels, pred_labels)\n",
    "\ttest_f1 = f1_score(orig_labels, pred_labels, average='macro')\n",
    "\n",
    "\treturn test_loss, test_acc, test_f1, orig_labels, pred_labels"
   ]
  },
  {
   "cell_type": "code",
   "execution_count": 65,
   "id": "f5bcfc41",
   "metadata": {},
   "outputs": [
    {
     "name": "stdout",
     "output_type": "stream",
     "text": [
      "The test accuracy is given by 0.9750\n"
     ]
    }
   ],
   "source": [
    "test_loss, test_acc, test_f1, orig_labels, pred_labels = run_test(model, criterion, test_loader)\n",
    "print(\"The test accuracy is given by {:.4f}\".format(test_acc))"
   ]
  }
 ],
 "metadata": {
  "interpreter": {
   "hash": "145272517bddf6c1595b5c05b017fa375f010a8c8523682c34f84359a8aa7b70"
  },
  "kernelspec": {
   "display_name": "Python 3.9.16",
   "language": "python",
   "name": "python3"
  },
  "language_info": {
   "codemirror_mode": {
    "name": "ipython",
    "version": 3
   },
   "file_extension": ".py",
   "mimetype": "text/x-python",
   "name": "python",
   "nbconvert_exporter": "python",
   "pygments_lexer": "ipython3",
   "version": "3.9.16"
  },
  "papermill": {
   "default_parameters": {},
   "duration": 2272.847231,
   "end_time": "2023-04-26T15:37:24.852753",
   "environment_variables": {},
   "exception": null,
   "input_path": "__notebook__.ipynb",
   "output_path": "__notebook__.ipynb",
   "parameters": {},
   "start_time": "2023-04-26T14:59:32.005522",
   "version": "2.4.0"
  },
  "widgets": {
   "application/vnd.jupyter.widget-state+json": {
    "state": {
     "1ad6c34bfeff41daa370f0f34a4de1b1": {
      "model_module": "@jupyter-widgets/controls",
      "model_module_version": "1.5.0",
      "model_name": "FloatProgressModel",
      "state": {
       "_dom_classes": [],
       "_model_module": "@jupyter-widgets/controls",
       "_model_module_version": "1.5.0",
       "_model_name": "FloatProgressModel",
       "_view_count": null,
       "_view_module": "@jupyter-widgets/controls",
       "_view_module_version": "1.5.0",
       "_view_name": "ProgressView",
       "bar_style": "success",
       "description": "",
       "description_tooltip": null,
       "layout": "IPY_MODEL_59f2a919d005427ab1abf82712a75ac7",
       "max": 267046505,
       "min": 0,
       "orientation": "horizontal",
       "style": "IPY_MODEL_b9dcaf6537644970b8fec07a6e7c3936",
       "value": 267046505
      }
     },
     "334770b2a7374f73889f4e42bfa988bf": {
      "model_module": "@jupyter-widgets/base",
      "model_module_version": "1.2.0",
      "model_name": "LayoutModel",
      "state": {
       "_model_module": "@jupyter-widgets/base",
       "_model_module_version": "1.2.0",
       "_model_name": "LayoutModel",
       "_view_count": null,
       "_view_module": "@jupyter-widgets/base",
       "_view_module_version": "1.2.0",
       "_view_name": "LayoutView",
       "align_content": null,
       "align_items": null,
       "align_self": null,
       "border": null,
       "bottom": null,
       "display": null,
       "flex": null,
       "flex_flow": null,
       "grid_area": null,
       "grid_auto_columns": null,
       "grid_auto_flow": null,
       "grid_auto_rows": null,
       "grid_column": null,
       "grid_gap": null,
       "grid_row": null,
       "grid_template_areas": null,
       "grid_template_columns": null,
       "grid_template_rows": null,
       "height": null,
       "justify_content": null,
       "justify_items": null,
       "left": null,
       "margin": null,
       "max_height": null,
       "max_width": null,
       "min_height": null,
       "min_width": null,
       "object_fit": null,
       "object_position": null,
       "order": null,
       "overflow": null,
       "overflow_x": null,
       "overflow_y": null,
       "padding": null,
       "right": null,
       "top": null,
       "visibility": null,
       "width": null
      }
     },
     "46c0adab8ad94473b9f51e562a868172": {
      "model_module": "@jupyter-widgets/controls",
      "model_module_version": "1.5.0",
      "model_name": "HTMLModel",
      "state": {
       "_dom_classes": [],
       "_model_module": "@jupyter-widgets/controls",
       "_model_module_version": "1.5.0",
       "_model_name": "HTMLModel",
       "_view_count": null,
       "_view_module": "@jupyter-widgets/controls",
       "_view_module_version": "1.5.0",
       "_view_name": "HTMLView",
       "description": "",
       "description_tooltip": null,
       "layout": "IPY_MODEL_aaa5d1d726094553973b675b4c221b12",
       "placeholder": "​",
       "style": "IPY_MODEL_d6595901d82642ce870b40ca962b27a6",
       "value": "100%"
      }
     },
     "59f2a919d005427ab1abf82712a75ac7": {
      "model_module": "@jupyter-widgets/base",
      "model_module_version": "1.2.0",
      "model_name": "LayoutModel",
      "state": {
       "_model_module": "@jupyter-widgets/base",
       "_model_module_version": "1.2.0",
       "_model_name": "LayoutModel",
       "_view_count": null,
       "_view_module": "@jupyter-widgets/base",
       "_view_module_version": "1.2.0",
       "_view_name": "LayoutView",
       "align_content": null,
       "align_items": null,
       "align_self": null,
       "border": null,
       "bottom": null,
       "display": null,
       "flex": null,
       "flex_flow": null,
       "grid_area": null,
       "grid_auto_columns": null,
       "grid_auto_flow": null,
       "grid_auto_rows": null,
       "grid_column": null,
       "grid_gap": null,
       "grid_row": null,
       "grid_template_areas": null,
       "grid_template_columns": null,
       "grid_template_rows": null,
       "height": null,
       "justify_content": null,
       "justify_items": null,
       "left": null,
       "margin": null,
       "max_height": null,
       "max_width": null,
       "min_height": null,
       "min_width": null,
       "object_fit": null,
       "object_position": null,
       "order": null,
       "overflow": null,
       "overflow_x": null,
       "overflow_y": null,
       "padding": null,
       "right": null,
       "top": null,
       "visibility": null,
       "width": null
      }
     },
     "66aa81c2f2bb443cbd0981eca1710012": {
      "model_module": "@jupyter-widgets/base",
      "model_module_version": "1.2.0",
      "model_name": "LayoutModel",
      "state": {
       "_model_module": "@jupyter-widgets/base",
       "_model_module_version": "1.2.0",
       "_model_name": "LayoutModel",
       "_view_count": null,
       "_view_module": "@jupyter-widgets/base",
       "_view_module_version": "1.2.0",
       "_view_name": "LayoutView",
       "align_content": null,
       "align_items": null,
       "align_self": null,
       "border": null,
       "bottom": null,
       "display": null,
       "flex": null,
       "flex_flow": null,
       "grid_area": null,
       "grid_auto_columns": null,
       "grid_auto_flow": null,
       "grid_auto_rows": null,
       "grid_column": null,
       "grid_gap": null,
       "grid_row": null,
       "grid_template_areas": null,
       "grid_template_columns": null,
       "grid_template_rows": null,
       "height": null,
       "justify_content": null,
       "justify_items": null,
       "left": null,
       "margin": null,
       "max_height": null,
       "max_width": null,
       "min_height": null,
       "min_width": null,
       "object_fit": null,
       "object_position": null,
       "order": null,
       "overflow": null,
       "overflow_x": null,
       "overflow_y": null,
       "padding": null,
       "right": null,
       "top": null,
       "visibility": null,
       "width": null
      }
     },
     "8632b2b0b86940ab9557d28b462a0de6": {
      "model_module": "@jupyter-widgets/controls",
      "model_module_version": "1.5.0",
      "model_name": "HTMLModel",
      "state": {
       "_dom_classes": [],
       "_model_module": "@jupyter-widgets/controls",
       "_model_module_version": "1.5.0",
       "_model_name": "HTMLModel",
       "_view_count": null,
       "_view_module": "@jupyter-widgets/controls",
       "_view_module_version": "1.5.0",
       "_view_name": "HTMLView",
       "description": "",
       "description_tooltip": null,
       "layout": "IPY_MODEL_66aa81c2f2bb443cbd0981eca1710012",
       "placeholder": "​",
       "style": "IPY_MODEL_ed6eae5d00e547ae91ad4fb05cf82f59",
       "value": " 255M/255M [00:02&lt;00:00, 150MB/s]"
      }
     },
     "aaa5d1d726094553973b675b4c221b12": {
      "model_module": "@jupyter-widgets/base",
      "model_module_version": "1.2.0",
      "model_name": "LayoutModel",
      "state": {
       "_model_module": "@jupyter-widgets/base",
       "_model_module_version": "1.2.0",
       "_model_name": "LayoutModel",
       "_view_count": null,
       "_view_module": "@jupyter-widgets/base",
       "_view_module_version": "1.2.0",
       "_view_name": "LayoutView",
       "align_content": null,
       "align_items": null,
       "align_self": null,
       "border": null,
       "bottom": null,
       "display": null,
       "flex": null,
       "flex_flow": null,
       "grid_area": null,
       "grid_auto_columns": null,
       "grid_auto_flow": null,
       "grid_auto_rows": null,
       "grid_column": null,
       "grid_gap": null,
       "grid_row": null,
       "grid_template_areas": null,
       "grid_template_columns": null,
       "grid_template_rows": null,
       "height": null,
       "justify_content": null,
       "justify_items": null,
       "left": null,
       "margin": null,
       "max_height": null,
       "max_width": null,
       "min_height": null,
       "min_width": null,
       "object_fit": null,
       "object_position": null,
       "order": null,
       "overflow": null,
       "overflow_x": null,
       "overflow_y": null,
       "padding": null,
       "right": null,
       "top": null,
       "visibility": null,
       "width": null
      }
     },
     "b9dcaf6537644970b8fec07a6e7c3936": {
      "model_module": "@jupyter-widgets/controls",
      "model_module_version": "1.5.0",
      "model_name": "ProgressStyleModel",
      "state": {
       "_model_module": "@jupyter-widgets/controls",
       "_model_module_version": "1.5.0",
       "_model_name": "ProgressStyleModel",
       "_view_count": null,
       "_view_module": "@jupyter-widgets/base",
       "_view_module_version": "1.2.0",
       "_view_name": "StyleView",
       "bar_color": null,
       "description_width": ""
      }
     },
     "d6595901d82642ce870b40ca962b27a6": {
      "model_module": "@jupyter-widgets/controls",
      "model_module_version": "1.5.0",
      "model_name": "DescriptionStyleModel",
      "state": {
       "_model_module": "@jupyter-widgets/controls",
       "_model_module_version": "1.5.0",
       "_model_name": "DescriptionStyleModel",
       "_view_count": null,
       "_view_module": "@jupyter-widgets/base",
       "_view_module_version": "1.2.0",
       "_view_name": "StyleView",
       "description_width": ""
      }
     },
     "ed6eae5d00e547ae91ad4fb05cf82f59": {
      "model_module": "@jupyter-widgets/controls",
      "model_module_version": "1.5.0",
      "model_name": "DescriptionStyleModel",
      "state": {
       "_model_module": "@jupyter-widgets/controls",
       "_model_module_version": "1.5.0",
       "_model_name": "DescriptionStyleModel",
       "_view_count": null,
       "_view_module": "@jupyter-widgets/base",
       "_view_module_version": "1.2.0",
       "_view_name": "StyleView",
       "description_width": ""
      }
     },
     "f65b1917813941bbbdea252cd4fba909": {
      "model_module": "@jupyter-widgets/controls",
      "model_module_version": "1.5.0",
      "model_name": "HBoxModel",
      "state": {
       "_dom_classes": [],
       "_model_module": "@jupyter-widgets/controls",
       "_model_module_version": "1.5.0",
       "_model_name": "HBoxModel",
       "_view_count": null,
       "_view_module": "@jupyter-widgets/controls",
       "_view_module_version": "1.5.0",
       "_view_name": "HBoxView",
       "box_style": "",
       "children": [
        "IPY_MODEL_46c0adab8ad94473b9f51e562a868172",
        "IPY_MODEL_1ad6c34bfeff41daa370f0f34a4de1b1",
        "IPY_MODEL_8632b2b0b86940ab9557d28b462a0de6"
       ],
       "layout": "IPY_MODEL_334770b2a7374f73889f4e42bfa988bf"
      }
     }
    },
    "version_major": 2,
    "version_minor": 0
   }
  }
 },
 "nbformat": 4,
 "nbformat_minor": 5
}
